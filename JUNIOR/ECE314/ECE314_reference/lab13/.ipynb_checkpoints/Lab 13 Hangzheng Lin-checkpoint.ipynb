{
 "cells": [
  {
   "cell_type": "markdown",
   "metadata": {},
   "source": [
    "# Lab 13: Linear regression"
   ]
  },
  {
   "cell_type": "markdown",
   "metadata": {},
   "source": [
    "This lab covers both simple and multiple linear regression.</B>\n",
    "\n",
    "Below is our typical list of imports."
   ]
  },
  {
   "cell_type": "code",
   "execution_count": 1,
   "metadata": {},
   "outputs": [
    {
     "name": "stdout",
     "output_type": "stream",
     "text": [
      "Modules Imported!\n"
     ]
    }
   ],
   "source": [
    "%matplotlib inline\n",
    "import matplotlib.pyplot as plt\n",
    "import numpy as np\n",
    "import scipy as sp\n",
    "import scipy.stats as st\n",
    "from scipy.stats import multivariate_normal\n",
    "import csv\n",
    "print ('Modules Imported!')"
   ]
  },
  {
   "cell_type": "markdown",
   "metadata": {},
   "source": [
    "## Review from Lab 10: Covariance matrices and multivariate Gaussian distribution"
   ]
  },
  {
   "cell_type": "markdown",
   "metadata": {},
   "source": [
    "In ECE 313 we consider the bivariate Gaussian distribution. Recall that we used the bivariate Gaussian distribution near the end of Lab 10 for modeling a hypothesis testing problem. It is a joint distribution for two random variables, $X_1,X_2$ and is uniquely determined by five parameters, the means of the two random variables, $m_1$ and $m_2$, the variances of the two random variables, and the covariance between the two random variables defined by $\\mbox{Cov}(X_1,X_2)=E[(X_1-m_1)(X_2-m_2)].$ \n",
    "When we think of multidimensional distributions, we often use Cov(,) to describe all kinds of covariances. Note that $\\mbox{Cov}(X_1,X_1)=\\mbox{Var}(X_1)$ and $\\mbox{Cov}(X_1,X_2)=\\mbox{Cov}(X_2,X_1).$    Equivalently,\n",
    "we can think of $\\binom{X_1}{X_2}$ as a random vector, with  a mean vector $\\binom{m_1}{m_2}$ and a covariance matrix\n",
    "$\\Sigma=\\left( \\begin{array}  \\mbox{Cov}(X_1,X_1) & \\mbox{Cov}(X_1,X_2)\\\\ \\mbox{Cov}(X_2,X_1) & \\mbox{Cov}(X_2,X_2) \\end{array}\\right).$ Based on our definitions shown above, it's clear that a covariance matrix is symmetric (i.e. $\\Sigma^T = \\Sigma$).  Joint normal (also known as joint Gaussian) distributions exist in any number of dimensions.   A Gaussian distribution in a given number of dimensions is specified uniquely by a mean vector and a covariance matrix.  The following code copied from Lab 10 generates variates for two normal distributions.  The orange triangles follow a distribution that is rotationally symmetric about the origin.   The blue circles follow a distribution with positive correlation between the two coordinates; the shape of the blue blob of points is elongated along a line of slope one.  Also, the mean vector for the blue points is $\\binom{2.0}{0}$ so the blue blob is offset a bit to the right of the orange blob."
   ]
  },
  {
   "cell_type": "code",
   "execution_count": 3,
   "metadata": {},
   "outputs": [
    {
     "name": "stdout",
     "output_type": "stream",
     "text": [
      "[[-9.70686631e-01 -8.90271042e-01]\n",
      " [ 9.79940872e-01  7.39294537e-01]\n",
      " [ 1.11543644e-01  2.12811248e+00]\n",
      " [-1.46095660e+00  4.88781913e-02]\n",
      " [-2.88961637e+00 -1.82989928e+00]\n",
      " [ 6.95301048e-01 -2.14529834e+00]\n",
      " [ 1.31061423e+00  4.61617851e-01]\n",
      " [-2.66552483e-01 -2.93831722e+00]\n",
      " [-5.66689387e-01 -3.14969722e-01]\n",
      " [-3.05146269e-01  8.21132902e-01]\n",
      " [ 2.30913425e+00  8.94945132e-01]\n",
      " [-1.79358259e+00 -1.06783294e+00]\n",
      " [ 2.86844562e-01  7.02493981e-01]\n",
      " [ 1.17558515e+00  1.39949773e+00]\n",
      " [ 1.68578845e+00  1.60390097e+00]\n",
      " [ 1.06318170e+00  2.17347849e+00]\n",
      " [-3.87593479e-01 -3.00361910e-01]\n",
      " [-1.31025117e+00 -3.34565568e-01]\n",
      " [-7.52207933e-01 -8.13799606e-01]\n",
      " [-3.61453308e-01 -1.55535251e+00]\n",
      " [ 1.45424292e+00  4.15647858e-01]\n",
      " [ 1.43764329e+00  8.94793818e-01]\n",
      " [ 7.73108842e-01 -2.34722606e+00]\n",
      " [ 2.08883191e+00  4.42819512e+00]\n",
      " [ 9.70548172e-01 -1.34696728e+00]\n",
      " [ 1.81760472e-01  3.99639336e-01]\n",
      " [-9.16647996e-01 -6.25409728e-01]\n",
      " [ 9.70773884e-01 -3.54690405e-01]\n",
      " [ 5.19241338e-02  4.15517384e-01]\n",
      " [ 3.39614142e-01  1.60601435e-01]\n",
      " [ 8.64341616e-01  1.08164197e+00]\n",
      " [ 9.40139837e-01  4.24787619e-01]\n",
      " [ 1.47669224e+00 -1.46283431e-01]\n",
      " [ 2.21727539e+00  4.08579877e-01]\n",
      " [-6.56009785e-01  2.77100952e+00]\n",
      " [ 1.48211267e+00 -6.81531129e-01]\n",
      " [-1.30130942e+00  1.89040643e+00]\n",
      " [ 8.44682614e-01 -2.94343214e-01]\n",
      " [ 1.54376005e+00 -1.05574175e+00]\n",
      " [-2.00007481e+00 -1.16911406e+00]\n",
      " [-1.46175378e-02 -2.67004077e-01]\n",
      " [-4.24778275e-02  1.01494116e-01]\n",
      " [ 8.98451430e-01 -7.39492614e-01]\n",
      " [ 4.29764171e-02 -1.15049106e+00]\n",
      " [ 5.44183566e-01 -4.78154320e-01]\n",
      " [-1.04177695e+00 -1.19847719e+00]\n",
      " [-1.88130308e+00  6.76281513e-01]\n",
      " [-5.68410801e-01 -8.83687696e-01]\n",
      " [-4.86998695e-01 -6.00137017e-04]\n",
      " [ 1.74416321e+00 -7.63088429e-01]\n",
      " [-1.96013313e-01  1.72574423e+00]\n",
      " [-1.65080187e+00  1.47567416e+00]\n",
      " [-4.53658451e-01  1.55946097e+00]\n",
      " [-6.50274296e-01 -1.81345089e+00]\n",
      " [ 9.44993451e-01  7.57655424e-01]\n",
      " [-2.24317126e+00  1.97700139e-01]\n",
      " [-2.03720679e+00 -6.32099145e-01]\n",
      " [ 1.93320372e-01 -1.48489777e+00]\n",
      " [ 2.61846335e-02 -5.72869592e-01]\n",
      " [-1.97805037e+00 -5.35528776e-01]\n",
      " [-1.85885806e-01 -1.26560092e+00]\n",
      " [-4.15666926e-01 -8.36106405e-01]\n",
      " [-9.47822431e-01  9.08872784e-01]\n",
      " [-1.19876313e+00 -1.09034006e+00]\n",
      " [ 1.70566281e+00 -1.08740981e+00]\n",
      " [ 2.50595268e+00  1.90551892e+00]\n",
      " [ 1.75139888e+00 -1.21420852e+00]\n",
      " [-3.31189216e-01  1.44030765e+00]\n",
      " [-1.27361056e+00  5.63655742e-01]\n",
      " [-4.19142788e-01 -2.95031705e+00]\n",
      " [ 6.94843385e-01 -5.40153290e-01]\n",
      " [ 4.15072306e-01 -2.00806383e-01]\n",
      " [-5.34863767e-01 -1.09668350e+00]\n",
      " [ 7.79445859e-01  4.55435919e-01]\n",
      " [ 1.81015962e-01  2.21153596e+00]\n",
      " [ 2.08711040e+00 -1.32972920e+00]\n",
      " [ 1.12024917e+00  2.02423779e+00]\n",
      " [ 5.46683434e-01  5.96990534e-01]\n",
      " [-1.07718746e+00  3.54464656e+00]\n",
      " [ 1.25544241e+00 -4.09757117e-01]\n",
      " [ 5.53344374e-01 -7.06713038e-01]\n",
      " [-8.35716407e-01  2.39341400e+00]\n",
      " [-1.18492330e+00  6.27516775e-01]\n",
      " [-1.15477605e+00  1.55859742e+00]\n",
      " [-4.51875177e-01  3.07941245e+00]\n",
      " [-9.49269438e-01  1.08246780e+00]\n",
      " [ 1.59912658e+00 -2.18924767e+00]\n",
      " [ 8.87662603e-01  2.35602019e-01]\n",
      " [-1.57555663e-02  4.73900554e-01]\n",
      " [-2.71323435e+00  1.18041701e+00]\n",
      " [ 6.96769734e-01 -1.04041258e+00]\n",
      " [ 9.76364871e-01 -1.75826089e+00]\n",
      " [ 7.23832414e-01 -3.48029262e+00]\n",
      " [ 9.29679619e-01  1.16335803e+00]\n",
      " [ 2.20601972e+00  9.17981043e-01]\n",
      " [-1.52543561e+00  5.49150561e-01]\n",
      " [-2.09693840e+00 -4.53802010e-01]\n",
      " [ 2.43357916e-01  4.18637719e+00]\n",
      " [-1.85166888e+00 -8.98129202e-01]\n",
      " [ 2.85096056e+00 -2.28268430e+00]\n",
      " [ 2.83676868e+00 -3.38994859e-02]\n",
      " [-2.87728965e+00 -6.93039849e-01]\n",
      " [-7.99475605e-01  9.99532684e-01]\n",
      " [-3.23821313e+00 -1.45603264e+00]\n",
      " [ 6.05749930e-02 -2.67255759e+00]\n",
      " [-2.40734102e+00 -1.00688030e+00]\n",
      " [ 4.54938326e-01 -1.02299353e+00]\n",
      " [ 6.40411704e-01  8.17259405e-01]\n",
      " [ 7.94564100e-01 -2.23299151e-01]\n",
      " [-1.52086917e+00  1.83295444e+00]\n",
      " [-7.32700027e-01 -1.38214891e+00]\n",
      " [ 7.75951151e-01  1.48030111e+00]\n",
      " [-1.80421186e+00 -7.53372041e-01]\n",
      " [-6.48132379e-01 -8.91807109e-01]\n",
      " [ 2.03817772e+00  1.47713282e+00]\n",
      " [-2.05939805e+00 -2.47530933e+00]\n",
      " [-5.65096443e-01  1.05595926e-01]\n",
      " [-1.67509622e+00  3.19462272e-01]\n",
      " [-8.40909170e-01 -1.57041034e+00]\n",
      " [ 6.15503584e-01 -4.53179052e-01]\n",
      " [ 4.00156210e-01 -2.42500883e-01]\n",
      " [ 4.49002614e-02 -1.83537303e+00]\n",
      " [-6.25059702e-01  1.95328756e+00]\n",
      " [-9.78435750e-01 -2.72478982e+00]\n",
      " [-1.18301605e+00  1.70544885e-01]\n",
      " [ 1.87391178e+00 -9.81660903e-01]\n",
      " [-2.02521981e+00 -1.44729933e+00]\n",
      " [-1.70836382e+00 -2.33985756e+00]\n",
      " [ 1.32241826e+00 -2.80938523e+00]\n",
      " [-6.72946311e-01  7.36288158e-01]\n",
      " [ 2.27234080e+00  8.76958767e-02]\n",
      " [ 1.28540828e-02 -1.48303469e+00]\n",
      " [ 9.74463415e-01  5.36119087e-01]\n",
      " [ 3.93963984e-01  1.99613995e+00]\n",
      " [-1.36189177e+00 -2.24606883e+00]\n",
      " [ 3.83690760e-01 -3.10800116e+00]\n",
      " [ 2.10181537e+00  9.54022786e-01]\n",
      " [ 2.01745622e+00  6.27312512e-01]\n",
      " [-1.96766573e+00  1.10536536e+00]\n",
      " [ 9.93375158e-01  1.73261594e+00]\n",
      " [ 1.12545796e+00  2.66778775e+00]\n",
      " [ 1.88061442e+00  1.80352713e+00]\n",
      " [ 7.46116975e-01 -1.71840693e+00]\n",
      " [ 1.33319788e+00  1.07702704e+00]\n",
      " [-1.95548382e+00 -1.95187659e+00]\n",
      " [ 2.26359823e+00 -2.29358910e+00]\n",
      " [-5.41781725e-01 -7.96788475e-01]\n",
      " [-1.36752158e+00  6.74745580e-01]\n",
      " [-1.57527437e+00  1.08122381e+00]\n",
      " [-8.64098428e-01  1.46040164e+00]\n",
      " [ 2.18518610e+00 -3.19666256e+00]\n",
      " [-5.32679423e-01 -1.27790280e-02]\n",
      " [ 3.25144075e-01  4.70391763e-01]\n",
      " [ 1.57652901e+00  1.62651535e+00]\n",
      " [ 9.41361708e-01 -1.13915014e+00]\n",
      " [ 8.84856390e-01 -2.35468182e-01]\n",
      " [ 2.09602606e-01 -2.29379267e+00]\n",
      " [ 1.49514805e+00  1.23313977e+00]\n",
      " [ 1.55579399e+00  1.79374683e+00]\n",
      " [-3.51738852e-01 -2.85284440e+00]\n",
      " [ 1.14951593e+00 -5.76105734e-02]\n",
      " [-9.24111071e-01 -2.21081302e-01]\n",
      " [-4.39332676e-01 -2.30042805e+00]\n",
      " [-2.25161274e+00  1.06546451e+00]\n",
      " [-7.63984086e-01 -1.48508536e-01]\n",
      " [ 9.88907489e-01 -1.68967133e+00]\n",
      " [ 1.67078338e-01  5.46694652e-01]\n",
      " [-1.98592199e+00 -4.06252786e-01]\n",
      " [ 1.40723928e-01  1.00632950e+00]\n",
      " [ 9.74978360e-01  1.50837567e+00]\n",
      " [ 8.78146800e-01 -9.85552017e-01]\n",
      " [ 1.91921272e-01  1.14414063e+00]\n",
      " [-9.28150839e-01  1.23419654e+00]\n",
      " [-1.11478873e+00  3.16652843e+00]\n",
      " [-8.38070677e-01  1.30578219e+00]\n",
      " [-1.90287300e-01  2.52659339e-01]\n",
      " [ 2.51539352e+00  3.69982107e-01]\n",
      " [ 1.24629728e+00  6.67097717e-01]\n",
      " [ 9.28608665e-01  8.16620377e-01]\n",
      " [ 9.43534138e-01  9.22158558e-02]\n",
      " [ 1.57613072e+00 -1.98889490e+00]\n",
      " [-2.31326270e+00 -9.55115396e-01]\n",
      " [ 8.68616943e-01 -1.08891089e+00]\n",
      " [ 1.16696785e+00 -1.81630254e+00]\n",
      " [-4.38827140e-01 -6.77719088e-01]\n",
      " [-1.06136631e+00  2.53670510e-01]\n",
      " [-1.16143106e+00 -2.52005689e+00]\n",
      " [-1.02199422e+00  2.30756849e+00]\n",
      " [-1.61560124e+00  2.84115125e+00]\n",
      " [-2.87740347e+00 -9.13100653e-01]\n",
      " [ 2.35770509e-01 -5.12900266e-01]\n",
      " [-9.67566207e-01 -1.49449084e+00]\n",
      " [ 4.20489176e-01 -7.06043215e-01]\n",
      " [-1.44112420e+00 -4.85182700e-01]\n",
      " [-5.83065731e-01 -4.24394909e-01]\n",
      " [ 2.88987493e+00 -1.77663088e+00]\n",
      " [-2.70928135e+00  2.39404181e-01]\n",
      " [-2.48087658e-02  7.69153072e-01]\n",
      " [-1.63139801e+00  9.56136814e-01]\n",
      " [-1.86094706e+00 -1.04515433e+00]]\n"
     ]
    },
    {
     "data": {
      "image/png": "[encoded data removed]",
      "text/plain": [
       "<Figure size 432x288 with 1 Axes>"
      ]
     },
     "metadata": {
      "needs_background": "light"
     },
     "output_type": "display_data"
    }
   ],
   "source": [
    "dim=2  # Dimension of the random vectors\n",
    "num_samples=200\n",
    "Sigma0=2.0*np.identity(dim)    # identity matrix\n",
    "Sigma1=np.identity(dim)+ 4.0*np.ones([dim,dim])   # some positive correlation added\n",
    "mu0=np.zeros(dim)\n",
    "mu1=np.zeros(dim)\n",
    "mu1[0]=2.0  # first coordinate has nonzero mean under H1\n",
    "variates0= multivariate_normal.rvs(mu0,Sigma0,num_samples)\n",
    "variates1= multivariate_normal.rvs(mu1,Sigma1,num_samples)\n",
    "plt.scatter(variates0[:,0],variates0[:,1],color='orange',marker='^')\n",
    "plt.scatter(variates1[:,0],variates1[:,1],color='blue')\n",
    "# plt.plot.scatter(variates2)\n",
    "plt.show()"
   ]
  },
  {
   "cell_type": "markdown",
   "metadata": {},
   "source": [
    "# Simple linear regression, aka $\\widehat{E}[Y|X]~$ based on data"
   ]
  },
  {
   "cell_type": "markdown",
   "metadata": {},
   "source": [
    "Suppose we have a pair of correlated random variables, X and Y, and we wanted to estimate Y based on the observation of X. In doing this, we want to minimize the mean square error between Y and our estimate of Y. As seen in Section 4.9.2 of the ECE 313 notes, the estimator that achieves this is simply given by $E[Y|X]$. This can be difficult or impractical to calculate so we like to look at a linear estimator. As seen in Section 4.9.3 of the ECE 313 notes, the minimum mean square error linear estimator of a random variable $Y$ based on observation of a random variable $X$ is $\\widehat{E}[Y|X]=L^*(X),$ where $L^*$ is the linear (actually, affine) function defined by $L^*(u)=\\mu_Y + \\frac{\\mbox{Cov}(Y,X)}{\\mbox{Var}(X)}(u-\\mu_X).$   Often we don't have a known joint distribution of $X$ and $Y$ but we have a list of samples of $(X,Y)$ pairs, $((x_i,y_i): 0\\leq i \\leq n-1).$     We can use the same equations for the linear estimator $L$ by using the *empirical* joint distribution of $(X,Y),$  where the empirical joint distribution gives equal probability $1/n$ to each sample pair. Below is code that generates a lot of sample pairs from a joint Gaussian distribution and then finds the linear estimator of the Y coordinate based on the X coordinate. This is known as linear regression of the $Y$ values based on the $X$ values."
   ]
  },
  {
   "cell_type": "code",
   "execution_count": 134,
   "metadata": {},
   "outputs": [
    {
     "data": {
      "image/png": "[encoded data removed]",
      "text/plain": [
       "<Figure size 432x288 with 1 Axes>"
      ]
     },
     "metadata": {
      "needs_background": "light"
     },
     "output_type": "display_data"
    }
   ],
   "source": [
    "#######################\n",
    "def linear_estimator(x,y):\n",
    "# Given samples produce the optimal linear estimator Lstar(u)\n",
    "# Note that this function returns a function\n",
    "# Both the observations (the x's) and the values to be\n",
    "# estimated (the y's) are assumed to be scaler valued.\n",
    "    num_samples = len(x)\n",
    "    assert len(x)==len(y), \"number of x values unequal to number of y values\"\n",
    "    ave_x = np.average(x)\n",
    "    ave_y = np.average(y)\n",
    "    var_x = np.average(x*x)-ave_x**2\n",
    "    cov_xy = np.average(x*y)-ave_x*ave_y\n",
    "    \n",
    "    a = cov_xy/var_x\n",
    "    b = ave_y-ave_x*a\n",
    "    \n",
    "    def Lstar(u):     # Define the function to be returned\n",
    "        return a*u+b\n",
    "    \n",
    "    return  Lstar;\n",
    "#########################\n",
    "\n",
    "num_samples=100\n",
    "\n",
    "###  Randomly generate synthetic data using a joint Gaussian distribution\n",
    "Sigma=np.array([[4,-2],[-2,2]])  \n",
    "mu=np.array([3,1])\n",
    "data = multivariate_normal.rvs(mu,Sigma,num_samples).T   #shape=(2,num_samples)\n",
    "# Think of the first row of data as the X values, to be observed, and the second\n",
    "# row of data as the Y values, to be estimated.\n",
    "\n",
    "\n",
    "Lstar = linear_estimator(data[0,:],data[1,:])  #  Produces Lstar, a linear function of one variable\n",
    "\n",
    "u=np.linspace(min(data[0,:]),max(data[0,:]),1000)\n",
    "plt.plot(u,Lstar(u))\n",
    "plt.scatter(data[0,:],data[1,:]),\n",
    "plt.title('data with estimator function overlaid')\n",
    "plt.xlabel('X values')\n",
    "plt.ylabel('Y values')\n",
    "plt.show()"
   ]
  },
  {
   "cell_type": "markdown",
   "metadata": {},
   "source": [
    "**<SPAN style=\"BACKGROUND-COLOR: #C0C0C0\">Problem 1:</SPAN>**  We can similarly compute $\\widehat{E}[X|Y]$,  which gives a linear estimate of $X$ as a function of $Y.$  \n",
    "\n",
    "1. Calculate the estimator $\\widehat{E}[X|Y]$.\n",
    "2. Plot it on the same set of axes as $\\widehat{E}[Y|X].$    \n",
    "3. Does it give the same linear relationship between $X$ and $Y$ that $\\widehat{E}[Y|X]$ does?  Explain or prove your answer in general for two random variables $X$ and $Y$?"
   ]
  },
  {
   "cell_type": "code",
   "execution_count": 191,
   "metadata": {},
   "outputs": [
    {
     "data": {
      "image/png": "[encoded data removed]",
      "text/plain": [
       "<Figure size 432x288 with 1 Axes>"
      ]
     },
     "metadata": {
      "needs_background": "light"
     },
     "output_type": "display_data"
    }
   ],
   "source": [
    "# Your code here\n",
    "###  Randomly generate synthetic data using a joint Gaussian distribution\n",
    "Sigma=np.array([[4,-2],[-2,2]])  \n",
    "mu=np.array([3,1])\n",
    "data = multivariate_normal.rvs(mu,Sigma,num_samples).T \n",
    "\n",
    "LstarX = linear_estimator(data[0,:],data[1,:])\n",
    "LstarY = linear_estimator(data[1,:],data[0,:])  #  Produces Lstar, a linear function of one variable\n",
    "\n",
    "u=np.linspace(min(data[0,:]),max(data[0,:]),1000)\n",
    "v=np.linspace(min(data[1,:]),max(data[1,:]),1000)\n",
    "\n",
    "plt.plot(u,LstarX(u),label=\"$\\hat{E}[Y|X]$\")\n",
    "plt.plot(LstarY(v),v,label=\"$\\hat{E}[X|Y]$\")\n",
    "plt.scatter(data[0,:],data[1,:]),\n",
    "plt.title('data with estimator function overlaid')\n",
    "plt.xlabel('X values')\n",
    "plt.ylabel('Y values')\n",
    "plt.legend()\n",
    "plt.show()"
   ]
  },
  {
   "cell_type": "markdown",
   "metadata": {},
   "source": [
    "__Answer:__ (Your answer here)\n",
    " 1. $\\widehat{E}[X|Y]=L^*(Y),$ where $L^*$ is defined as $L^*(v)=\\mu_X + \\frac{\\mbox{Cov}(X,Y)}{\\mbox{Var}(Y)}(v-\\mu_Y).$ \n",
    " 2. The plot has shown above\n",
    " 3. The relationship between X and Y in $\\widehat{E}[Y|X]$ is similar with that in $\\widehat{E}[X|Y]$, but the slop and the bias are different in the fomular because we use different axis. "
   ]
  },
  {
   "cell_type": "markdown",
   "metadata": {},
   "source": [
    "**<SPAN style=\"BACKGROUND-COLOR: #C0C0C0\">End of Problem 1</SPAN>**"
   ]
  },
  {
   "cell_type": "markdown",
   "metadata": {},
   "source": [
    "# Linear predictors for ECE 313 final exam scores"
   ]
  },
  {
   "cell_type": "markdown",
   "metadata": {},
   "source": [
    "The following code loads some scores from a CSV file.  Each row in the file corresponds to four scores for a particular student: quiz sum, Exam 1, Exam 2, and final exam, for ECE 313 at the University of Illinois in Spring 2013. (The quiz sum is the sum for all 12 quizzes with no dropping of three lowest quiz scores.) The function data_load() takes a transpose, so that each column of the numpy array returned by the function corresponds to one student."
   ]
  },
  {
   "cell_type": "code",
   "execution_count": 36,
   "metadata": {},
   "outputs": [
    {
     "name": "stdout",
     "output_type": "stream",
     "text": [
      "Function loaded\n"
     ]
    }
   ],
   "source": [
    "#  From .csv file, read headers, then load numbers into array x\n",
    "#  Warning: unfortunately there are many types of .csv files\n",
    "#  This code assumes the .csv file has comma separate headings in the first row\n",
    "#  and comma separated numbers in the remaining rows.\n",
    "def data_load(string):\n",
    "    csv_path = string\n",
    "    with open(csv_path,'rt') as csvfile:  #After code under \"with open as\" is completed, csvfile is closed\n",
    "        reader=csv.reader(csvfile)\n",
    "        headings=next(reader)\n",
    "        print (\"Reading csv file with headers:\\n  \",\"\\n   \".join(headings),\"\\n\")\n",
    "        x=[]\n",
    "        for row in reader:\n",
    "            x.append(row)    \n",
    "    return(np.array(x,dtype=float).T)   # returns data with one column for each multidimensional sample\n",
    "\n",
    "print (\"Function loaded\")"
   ]
  },
  {
   "cell_type": "markdown",
   "metadata": {},
   "source": [
    "Let's load the ECE 313 scores, and calculate the sample covariance matrix and sample correlation matrix. Recall that the correlation coefficient between two random variables $X$ and $Y$ is given by $\\rho_{X,Y} = \\frac{\\mbox{Cov}(X,Y)}{\\sigma_X \\sigma_Y}.$    The correlation matrix is the matrix of correlation coefficients.  (``Correlation coefficient matrix,\" would be a more accurate name but it's too long to use.)"
   ]
  },
  {
   "cell_type": "code",
   "execution_count": 37,
   "metadata": {},
   "outputs": [
    {
     "name": "stdout",
     "output_type": "stream",
     "text": [
      "Reading csv file with headers:\n",
      "   quiz sum\n",
      "   Exam 1\n",
      "   Exam 2\n",
      "   Final \n",
      "\n",
      "mean= \n",
      " [[ 80.63084112]\n",
      " [ 70.61214953]\n",
      " [ 61.54205607]\n",
      " [105.64018692]] \n",
      "\n",
      " covariance matrix= \n",
      " [[ 595.74689929   97.74467202  143.44309547  399.15221853]\n",
      " [  97.74467202  274.2000393   193.35042362  385.21091362]\n",
      " [ 143.44309547  193.35042362  411.60337147  534.11559962]\n",
      " [ 399.15221853  385.21091362  534.11559962 1279.00604856]] \n",
      "\n",
      "variances=  (diagonal entries of the covariance matrix) \n",
      " [[ 595.74689929]\n",
      " [ 274.2000393 ]\n",
      " [ 411.60337147]\n",
      " [1279.00604856]] \n",
      "\n",
      " standard deviations= \n",
      " [[24.40792698]\n",
      " [16.55898666]\n",
      " [20.28801054]\n",
      " [35.76319405]] \n",
      "\n",
      "correlation matrix=  (i.e. matrix of correlation coefficients) \n",
      " [[1.         0.24184017 0.28967385 0.45726857]\n",
      " [0.24184017 1.         0.57553523 0.65047188]\n",
      " [0.28967385 0.57553523 1.         0.73613845]\n",
      " [0.45726857 0.65047188 0.73613845 1.        ]] \n",
      "\n"
     ]
    }
   ],
   "source": [
    "# Calculate mean vector, covariance matrix, and correlation matrix for empirical distribution\n",
    "#\n",
    "x=data_load(\"313scores.csv\")\n",
    "mean_x=np.mean(x,axis=1).reshape(-1,1)   # return mean as 4x1 column vector\n",
    "      # -1 means \"unspecified value,\" the value is inferred to be 4 for the 313scores data\n",
    "covariance_matrix = np.dot(x-mean_x,(x-mean_x).T)/(x.shape[1])\n",
    "print (\"mean=\", '\\n', mean_x, '\\n\\n', \"covariance matrix=\",'\\n',covariance_matrix,'\\n')\n",
    "\n",
    "variances=np.diag(covariance_matrix).reshape(-1,1)  # column vector of variances\n",
    "std_dev=np.sqrt(variances)    # vector of stdev's\n",
    "\n",
    "print (\"variances=  (diagonal entries of the covariance matrix)\", '\\n', \\\n",
    "        variances,'\\n\\n', \"standard deviations=\",'\\n', std_dev, '\\n')\n",
    "\n",
    "correlation_matrix=covariance_matrix/std_dev/std_dev.T\n",
    "      # In numpy, division of a matrix (a_ij) by a row vector (v_j) divide a_ij by v_j\n",
    "      # and division of (a_ij) by a column vector (v_i) divides a_ij by v_i\n",
    "print (\"correlation matrix=  (i.e. matrix of correlation coefficients)\",'\\n', correlation_matrix,'\\n')"
   ]
  },
  {
   "cell_type": "markdown",
   "metadata": {},
   "source": [
    "Let's see what the mean error is for estimating the score on the final from any one of the other three scores. Here we recall from the ECE 313 notes (Section 4.9.3) that to estimate a random variable $Y$ from a random variable $X,$  the minimum mean square error linear estimator is given by\n",
    "$$ \\widehat{E}[Y | X] =L^*(X) = E[Y] +\\frac{ \\mbox{Cov}(Y,X) }{\\mbox{Var}(X) } (X-E[X])$$\n",
    "$$= E[Y] + \\frac{\\sigma_X \\sigma_Y \\rho_{X,Y}}{\\sigma_X^2} \\left(X-E[X]\\right)$$\n",
    "$$= E[Y] + \\sigma_Y \\rho_{X,Y} \\left( \\frac{X-E[X]}{\\sigma_X } \\right)$$\n",
    "and the mean square error is given by:\n",
    "$$E[(Y-\\widehat{E}[Y | X])^2] = \\mbox{Var}(Y) - \\frac{ \\mbox{Cov}(Y,X)^2}{ \\mbox{Cov}(X,X)} = \\sigma_Y^2(1-\\rho_{X,Y}^2),$$   where $ \\rho_{X,Y} $ is the correlation coefficient between $X$ and $Y.$\n",
    "To apply these equations to our data, we can choose any one of the first three scores to represent $X$  and the final exam score to represent $Y.$  So we could estimate the final score from any of the other three scores.  In the code below we don't actually calculate the linear estimators (though it could be easily done, using the function linear\\_estimator() we defined above).   Instead, we just use the formula for the minimum MSE to see what the mean square error is for each of the three possible choices of data X (i.e. for X=quiz scores, X=exam 1 scores, or X=exam 2 scores).  To get a better idea of what the MSE means, we also calculate the square root of the MSE  (i.e. the standard deviation of error) for each of the three linear estimators."
   ]
  },
  {
   "cell_type": "code",
   "execution_count": 38,
   "metadata": {},
   "outputs": [
    {
     "name": "stdout",
     "output_type": "stream",
     "text": [
      "Mean square errors = [1011.57285881  737.84110801  585.91290715]\n",
      "sqare roots of MSEs [31.8052332  27.16323081 24.20563792]\n"
     ]
    }
   ],
   "source": [
    "# Calculate mean square error and root mean square error for predicting\n",
    "# score on final exam by using any one of the first three scores\n",
    "# Think of Y as representing final exam score, the fourth coordinate of the data vector x\n",
    "EY=mean_x[3]\n",
    "CorYX=correlation_matrix[3,0:3]  # correlation coefficients between Y and other three scores\n",
    "VarY=covariance_matrix[3,3]\n",
    "print (\"Mean square errors =\", VarY *(1-CorYX**2))\n",
    "print  (\"sqare roots of MSEs\", np.sqrt(VarY*(1-CorYX**2)))"
   ]
  },
  {
   "cell_type": "markdown",
   "metadata": {},
   "source": [
    "The above code shows that, of the three possibilities, the score on exam 2 is the best single predictor of the final exam score, and the standard deviation of the error for that estimator is about 24.\n",
    "\n",
    "Let's see how well the final exam score can be predicted by *combining* all three of the earlier scores, instead of just using one of them.  This is called *multiple linear regression.*  It turns out that the expressions above for best linear estimator extend to the case $X$ is vector valued.  ($Y$ can also be vector valued, but in that case, the estimation amounts to estimating each coordinate of $Y$ separately, anyway.)  If a random variable $Y$ is to be estimated from a\n",
    "random vector $X,$ the minimum mean square error linear estimator is given by\n",
    "$$ \\widehat{E}[Y | X] = E[Y] + \\mbox{Cov}(Y,X) \\mbox{Cov}(X,X)^{-1} (X-E[X]) $$\n",
    "and the mean square error is given by:\n",
    "$$E[(Y-\\widehat{E}[Y | X])^2] = \\mbox{Var}(Y) -  \\mbox{Cov}(Y,X) \\mbox{Cov}(X,X)^{-1} \\mbox{Cov}{(X,Y)}.$$\n",
    "Here, $\\mbox{Cov}{(X,Y)}$ is a matrix with $i,j^{th}$ entry equal to $\\mbox{Cov}(X_i,Y_j).$  Note that\n",
    "$( \\mbox{Cov}{(X,Y)})^T =  \\mbox{Cov}{(Y,X)}.$   \n",
    "\n",
    "To apply these equations to the numerical data, we think of the vector $X$ as the scores on the first three exams, and $Y$ as the score on the final exam."
   ]
  },
  {
   "cell_type": "code",
   "execution_count": 39,
   "metadata": {},
   "outputs": [
    {
     "name": "stdout",
     "output_type": "stream",
     "text": [
      "[399.15221853 385.21091362 534.11559962]\n",
      "weight vector= [0.35281047 0.6740237  0.85807025]\n",
      "the constant= [-23.20888712]\n",
      "MSE for multiple regression 420.23097929288974 square root of MSE 20.49953607506496\n"
     ]
    }
   ],
   "source": [
    "EX=mean_x[0:3]\n",
    "EY=mean_x[3]\n",
    "CovXX=covariance_matrix[0:3,0:3]\n",
    "CovXY=covariance_matrix[0:3,3]\n",
    "CovYX=covariance_matrix[3,0:3]\n",
    "print (CovYX)\n",
    "# assert all(CovXY==CovYX.T), \"CovXY is not the transpose of CovYX\"\n",
    "VarY=covariance_matrix[3,3]\n",
    "\n",
    "print (\"weight vector=\", np.dot(CovYX,np.linalg.inv(CovXX)))\n",
    "print (\"the constant=\", EY- np.dot( np.dot(CovYX,np.linalg.inv(CovXX)),EX))\n",
    "\n",
    "MSE= VarY -np.dot(CovYX,np.dot(np.linalg.inv(CovXX),CovXY))\n",
    "print (\"MSE for multiple regression\", MSE, \"square root of MSE\",np.sqrt(MSE))\n"
   ]
  },
  {
   "cell_type": "markdown",
   "metadata": {},
   "source": [
    "So the best linear estimator of the final exam score given the first three scores is\n",
    "$$\\widehat{E}[\\mbox{final exam }|\\mbox{ other scores}]= (0.35)(\\mbox{quiz sum})+(0.67)(\\mbox{exam_1})+(0.85)(\\mbox{exam_2}) - 23.2$$ and the sqare root of the MSE (when applied to the data) is about 20.5."
   ]
  },
  {
   "cell_type": "markdown",
   "metadata": {},
   "source": [
    "**<SPAN style=\"BACKGROUND-COLOR: #C0C0C0\">Problem 2:</SPAN>** Go through a similar process as above for predicting the sale price, Y, of housing in Los Angeles based on other factors such as number of bedrooms, square feet, etc.    Specifically, load the data from the file HousingPrices.csv, which has the data from the paper S.C. Narula and J.F. Wellington \"Prediction, Linear Regression, and Minimum Sum of Relative Error,\"  *Technometrics*, vol. 19, no. 2, May 1977, pp. 185-190.  Then:\n",
    "<ol>\n",
    "<li> Determine the minimum mean square error (MMSE) for estimation of $Y$ based on any one of the other numbers.  That is, for the MMSE for linear estimation of the sale price by the number of bathrooms, and the MMSE for estimation of the sale price by the inside square footage, etc.   Which of the other indicators gives the most accurate prediction of the sale price?\n",
    "<li> Find the MMSE linear estimator for estimation of $Y$ based on using all the other numbers combined. That is, find the weight vector and constant of the estimator.   Also, find the resulting value of the MSE. "
   ]
  },
  {
   "cell_type": "code",
   "execution_count": 44,
   "metadata": {},
   "outputs": [
    {
     "name": "stdout",
     "output_type": "stream",
     "text": [
      "Reading csv file with headers:\n",
      "   Local Taxes (hundreds of dollars)\n",
      "   Number of Bathrooms\n",
      "   Lot Area (thousands sq feet)\n",
      "   Living Space (thousands sq feet)\n",
      "   Numer of Garages\n",
      "   Number of Rooms\n",
      "   Number of Bedrooms\n",
      "   Age (years)\n",
      "   Material\n",
      "   Type\n",
      "   Number of Fire Places\n",
      "   Selling Price \n",
      "\n",
      "mean= \n",
      " [[ 7.22185357]\n",
      " [ 1.26785714]\n",
      " [ 6.46085714]\n",
      " [ 1.51167857]\n",
      " [ 1.33928571]\n",
      " [ 6.67857143]\n",
      " [ 3.28571429]\n",
      " [36.32142857]\n",
      " [ 2.25      ]\n",
      " [ 1.21428571]\n",
      " [ 0.32142857]\n",
      " [38.15714286]] \n",
      "\n",
      " covariance matrix= \n",
      " [[ 8.42870060e+00  1.05307672e+00  4.35762380e+00  1.31241809e+00\n",
      "   9.56887181e-01  2.47582436e+00  1.32664898e+00 -1.35022851e+01\n",
      "   5.13383036e-01  9.27563776e-02  6.66907781e-01  3.72579012e+01]\n",
      " [ 1.05307672e+00  1.69323980e-01  5.73818622e-01  1.97907526e-01\n",
      "   1.05548469e-01  3.53954082e-01  2.09183673e-01 -1.12181122e+00\n",
      "   9.37500000e-02 -5.73979592e-02  9.24744898e-02  5.29183673e+00]\n",
      " [ 4.35762380e+00  5.73818622e-01  5.71157693e+00  8.75091661e-01\n",
      "   2.69212755e-01  1.53253980e+00  7.68297959e-01 -1.24174469e+01\n",
      "  -3.14639286e-01  1.19398469e-01  4.20153061e-01  2.21460174e+01]\n",
      " [ 1.31241809e+00  1.97907526e-01  8.75091661e-01  2.89402790e-01\n",
      "   1.25484056e-01  5.13468112e-01  2.97913265e-01 -1.29543240e+00\n",
      "   3.62232143e-02 -1.91096939e-02  9.34247449e-02  6.89263265e+00]\n",
      " [ 9.56887181e-01  1.05548469e-01  2.69212755e-01  1.25484056e-01\n",
      "   4.11670918e-01  4.12627551e-01  2.42346939e-01 -5.01913265e-01\n",
      "   2.23214286e-02  3.44387755e-02  8.73724490e-02  4.11811224e+00]\n",
      " [ 2.47582436e+00  3.53954082e-01  1.53253980e+00  5.13468112e-01\n",
      "   4.12627551e-01  1.28954082e+00  7.34693878e-01  1.74744898e-01\n",
      "   1.16071429e-01 -3.82653061e-02  2.10459184e-01  1.22683673e+01]\n",
      " [ 1.32664898e+00  2.09183673e-01  7.68297959e-01  2.97913265e-01\n",
      "   2.42346939e-01  7.34693878e-01  4.89795918e-01  1.01530612e+00\n",
      "   1.07142857e-01 -9.69387755e-02  8.67346939e-02  6.81581633e+00]\n",
      " [-1.35022851e+01 -1.12181122e+00 -1.24174469e+01 -1.29543240e+00\n",
      "  -5.01913265e-01  1.74744898e-01  1.01530612e+00  1.84075255e+02\n",
      "   2.77678571e+00 -3.78316327e+00  5.75255102e-01 -5.64505102e+01]\n",
      " [ 5.13383036e-01  9.37500000e-02 -3.14639286e-01  3.62232143e-02\n",
      "   2.23214286e-02  1.16071429e-01  1.07142857e-01  2.77678571e+00\n",
      "   1.47321429e+00 -1.25000000e-01  6.25000000e-02  2.91428571e+00]\n",
      " [ 9.27563776e-02 -5.73979592e-02  1.19398469e-01 -1.91096939e-02\n",
      "   3.44387755e-02 -3.82653061e-02 -9.69387755e-02 -3.78316327e+00\n",
      "  -1.25000000e-01  3.11224490e-01 -6.88775510e-02 -1.72959184e-01]\n",
      " [ 6.66907781e-01  9.24744898e-02  4.20153061e-01  9.34247449e-02\n",
      "   8.73724490e-02  2.10459184e-01  8.67346939e-02  5.75255102e-01\n",
      "   6.25000000e-02 -6.88775510e-02  2.18112245e-01  3.18163265e+00]\n",
      " [ 3.72579012e+01  5.29183673e+00  2.21460174e+01  6.89263265e+00\n",
      "   4.11811224e+00  1.22683673e+01  6.81581633e+00 -5.64505102e+01\n",
      "   2.91428571e+00 -1.72959184e-01  3.18163265e+00  1.93256735e+02]] \n",
      "\n",
      "variances=  (diagonal entries of the covariance matrix) \n",
      " [[8.42870060e+00]\n",
      " [1.69323980e-01]\n",
      " [5.71157693e+00]\n",
      " [2.89402790e-01]\n",
      " [4.11670918e-01]\n",
      " [1.28954082e+00]\n",
      " [4.89795918e-01]\n",
      " [1.84075255e+02]\n",
      " [1.47321429e+00]\n",
      " [3.11224490e-01]\n",
      " [2.18112245e-01]\n",
      " [1.93256735e+02]] \n",
      "\n",
      " standard deviations= \n",
      " [[ 2.90322245]\n",
      " [ 0.41148995]\n",
      " [ 2.38989057]\n",
      " [ 0.5379617 ]\n",
      " [ 0.64161587]\n",
      " [ 1.13557951]\n",
      " [ 0.69985421]\n",
      " [13.56743362]\n",
      " [ 1.21376039]\n",
      " [ 0.55787498]\n",
      " [ 0.46702489]\n",
      " [13.901681  ]] \n",
      "\n",
      "correlation matrix=  (i.e. matrix of correlation coefficients) \n",
      " [[ 1.          0.88149624  0.62804593  0.84031195  0.51369499  0.75096893\n",
      "   0.65293227 -0.34279088  0.1456895   0.05726992  0.49186446  0.92314677]\n",
      " [ 0.88149624  1.          0.58349534  0.89402923  0.39977682  0.75747821\n",
      "   0.72637514 -0.20093835  0.1877064  -0.25003473  0.48119675  0.92508126]\n",
      " [ 0.62804593  0.58349534  1.          0.68065051  0.17556685  0.56469793\n",
      "   0.45935038 -0.3829628  -0.10846808  0.08955377  0.37643456  0.66657697]\n",
      " [ 0.84031195  0.89402923  0.68065051  1.          0.36354828  0.84051327\n",
      "   0.7912813  -0.17748665  0.05547568 -0.06367449  0.37185236  0.92165091]\n",
      " [ 0.51369499  0.39977682  0.17556685  0.36354828  1.          0.5663248\n",
      "   0.53970304 -0.05765751  0.02866249  0.09621344  0.29158111  0.46169563]\n",
      " [ 0.75096893  0.75747821  0.56469793  0.84051327  0.5663248   1.\n",
      "   0.92444546  0.01134199  0.08421216 -0.06040192  0.39683531  0.77714473]\n",
      " [ 0.65293227  0.72637514  0.45935038  0.7912813   0.53970304  0.92444546\n",
      "   1.          0.10692807  0.12613124 -0.24828648  0.26536598  0.7005562 ]\n",
      " [-0.34279088 -0.20093835 -0.3829628  -0.17748665 -0.05765751  0.01134199\n",
      "   0.10692807  1.          0.16862102 -0.4998279   0.09078681 -0.29929733]\n",
      " [ 0.1456895   0.1877064  -0.10846808  0.05547568  0.02866249  0.08421216\n",
      "   0.12613124  0.16862102  1.         -0.1846036   0.11025722  0.17271571]\n",
      " [ 0.05726992 -0.25003473  0.08955377 -0.06367449  0.09621344 -0.06040192\n",
      "  -0.24828648 -0.4998279  -0.1846036   1.         -0.26436307 -0.02230177]\n",
      " [ 0.49186446  0.48119675  0.37643456  0.37185236  0.29158111  0.39683531\n",
      "   0.26536598  0.09078681  0.11025722 -0.26436307  1.          0.49005259]\n",
      " [ 0.92314677  0.92508126  0.66657697  0.92165091  0.46169563  0.77714473\n",
      "   0.7005562  -0.29929733  0.17271571 -0.02230177  0.49005259  1.        ]] \n",
      "\n"
     ]
    }
   ],
   "source": [
    "# Your code here\n",
    "# Calculate mean vector, covariance matrix, and correlation matrix for empirical distribution\n",
    "#\n",
    "x=data_load(\"HousingPrices.csv\")\n",
    "mean_x=np.mean(x,axis=1).reshape(-1,1)   # return mean as 4x1 column vector\n",
    "      # -1 means \"unspecified value,\" the value is inferred to be 4 for the 313scores data\n",
    "covariance_matrix = np.dot(x-mean_x,(x-mean_x).T)/(x.shape[1])\n",
    "print (\"mean=\", '\\n', mean_x, '\\n\\n', \"covariance matrix=\",'\\n',covariance_matrix,'\\n')\n",
    "\n",
    "variances=np.diag(covariance_matrix).reshape(-1,1)  # column vector of variances\n",
    "std_dev=np.sqrt(variances)    # vector of stdev's\n",
    "\n",
    "print (\"variances=  (diagonal entries of the covariance matrix)\", '\\n', \\\n",
    "        variances,'\\n\\n', \"standard deviations=\",'\\n', std_dev, '\\n')\n",
    "\n",
    "correlation_matrix=covariance_matrix/std_dev/std_dev.T\n",
    "      # In numpy, division of a matrix (a_ij) by a row vector (v_j) divide a_ij by v_j\n",
    "      # and division of (a_ij) by a column vector (v_i) divides a_ij by v_i\n",
    "print (\"correlation matrix=  (i.e. matrix of correlation coefficients)\",'\\n', correlation_matrix,'\\n')"
   ]
  },
  {
   "cell_type": "code",
   "execution_count": 45,
   "metadata": {},
   "outputs": [
    {
     "name": "stdout",
     "output_type": "stream",
     "text": [
      "[ 37.25790122   5.29183673  22.14601745   6.89263265   4.11811224\n",
      "  12.26836735   6.81581633 -56.4505102    2.91428571  -0.17295918\n",
      "   3.18163265]\n",
      "weight vector= [ 0.84203461  9.13727309  0.1805502  13.31511517  1.93053047 -1.07030169\n",
      " -0.30201195 -0.07198748  1.02264378  1.33991086  2.78686263]\n",
      "the constant= [2.54245911]\n",
      "MSE for multiple regression 9.316811201617611 square root of MSE 3.0523451969948634\n"
     ]
    }
   ],
   "source": [
    "EX=mean_x[0:-1]\n",
    "EY=mean_x[-1]\n",
    "CovXX=covariance_matrix[0:-1,0:-1]\n",
    "CovXY=covariance_matrix[0:-1,-1]\n",
    "CovYX=covariance_matrix[-1,0:-1]\n",
    "print (CovYX)\n",
    "# assert all(CovXY==CovYX.T), \"CovXY is not the transpose of CovYX\"\n",
    "VarY=covariance_matrix[-1,-1]\n",
    "\n",
    "print (\"weight vector=\", np.dot(CovYX,np.linalg.inv(CovXX)))\n",
    "print (\"the constant=\", EY- np.dot( np.dot(CovYX,np.linalg.inv(CovXX)),EX))\n",
    "\n",
    "MSE= VarY -np.dot(CovYX,np.dot(np.linalg.inv(CovXX),CovXY))\n",
    "print (\"MSE for multiple regression\", MSE, \"square root of MSE\",np.sqrt(MSE))\n"
   ]
  },
  {
   "cell_type": "code",
   "execution_count": 50,
   "metadata": {},
   "outputs": [
    {
     "name": "stdout",
     "output_type": "stream",
     "text": [
      "Mean square errors = [ 28.56335311  27.87238633 107.38796413  29.09665536 152.06157685\n",
      "  76.53857002  98.41039062 175.9450102  187.49174768 193.16061475\n",
      " 146.84583124]\n"
     ]
    }
   ],
   "source": [
    "EY=mean_x[-1]\n",
    "CorYX=correlation_matrix[-1,0:-1]  # correlation coefficients between Y and other three scores\n",
    "VarY=covariance_matrix[-1,-1]\n",
    "MSE_EACH = VarY *(1-CorYX**2)\n",
    "print (\"Mean square errors =\", VarY *(1-CorYX**2))"
   ]
  },
  {
   "cell_type": "markdown",
   "metadata": {},
   "source": [
    "__Answer__: (Your answer here)\n",
    "1. Mean square errors：\\\n",
    "   Local Taxes (hundreds of dollars)------28.56335311 \\\n",
    "   Number of Bathrooms---------------------27.87238633\\\n",
    "   Lot Area (thousands sq feet)------------107.38796413\\\n",
    "   Living Space (thousands sq feet)------29.09665536\\\n",
    "   Numer of Garages-------------------------152.06157685\\\n",
    "   Number of Rooms--------------------------76.53857002\\\n",
    "   Number of Bedrooms---------------------98.41039062\\\n",
    "   Age (years)----------------------------------175.9450102\\\n",
    "   Material--------------------------------------187.49174768\\\n",
    "   Type-------------------------------------------193.16061475\\\n",
    "   Number of Fire Places-------------------146.84583124\n",
    "   \n",
    "   We can see that the __Number of Bathrooms__ gives the most accurate prediction of the sale price.\n",
    "\n",
    "2. weight vector= [ 0.84203461  9.13727309  0.1805502  13.31511517  1.93053047 -1.07030169\n",
    " -0.30201195 -0.07198748  1.02264378  1.33991086  2.78686263]\n",
    "the constant= [2.54245911]\n",
    "MSE for multiple regression 9.316811201617611 square root of MSE 3.0523451969948634"
   ]
  },
  {
   "cell_type": "markdown",
   "metadata": {},
   "source": [
    "**<SPAN style=\"BACKGROUND-COLOR: #C0C0C0\">End of Problem 2</SPAN>**"
   ]
  },
  {
   "cell_type": "markdown",
   "metadata": {},
   "source": [
    "<div class=\"alert alert-block alert-warning\"> \n",
    "## Academic Integrity Statement ##\n",
    "\n",
    "By submitting the lab with this statement, you declare you have written up the lab entirely by yourself, including both code and markdown cells. You also agree that you should not share your code with anyone else. Any violation of the academic integrity requirement may cause an academic integrity report to be filed that could go into your student record. See <a href=\"https://provost.illinois.edu/policies/policies/academic-integrity/students-quick-reference-guide-to-academic-integrity/\">Students' Quick Reference Guide to Academic Integrity</a> for more information. "
   ]
  }
 ],
 "metadata": {
  "anaconda-cloud": {},
  "kernelspec": {
   "display_name": "Python 3",
   "language": "python",
   "name": "python3"
  },
  "language_info": {
   "codemirror_mode": {
    "name": "ipython",
    "version": 3
   },
   "file_extension": ".py",
   "mimetype": "text/x-python",
   "name": "python",
   "nbconvert_exporter": "python",
   "pygments_lexer": "ipython3",
   "version": "3.7.3"
  }
 },
 "nbformat": 4,
 "nbformat_minor": 1
}
