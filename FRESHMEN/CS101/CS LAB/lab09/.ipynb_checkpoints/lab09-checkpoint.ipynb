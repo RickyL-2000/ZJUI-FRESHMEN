{
 "cells": [
  {
   "cell_type": "markdown",
   "metadata": {},
   "source": [
    "## `lab09`—Debugging"
   ]
  },
  {
   "cell_type": "markdown",
   "metadata": {},
   "source": [
    "![](./img/lab10-header-bkgd.png)"
   ]
  },
  {
   "cell_type": "markdown",
   "metadata": {},
   "source": [
    "# Objectives\n",
    "\n",
    "-   Learn how to debug code using a standard process of investigation.\n",
    "-   Bonus for exam\n",
    "\n",
    "This activity-based lab will challenge you to apply a flowchart process to debug codes so that they perform as intended.\n"
   ]
  },
  {
   "cell_type": "markdown",
   "metadata": {},
   "source": [
    "### Double-click here to fill in your name and studentIDs here: Li Ruiqi 3180111638"
   ]
  },
  {
   "cell_type": "markdown",
   "metadata": {},
   "source": [
    "### Debugging Activity"
   ]
  },
  {
   "cell_type": "markdown",
   "metadata": {},
   "source": [
    "The first part of the lab, Debugging, will ask you to examine a code with a stated objective.  Unfortunately, this code was sloppily written and several bugs were introduced during its composition.  Your goal is to identify and correct all of those bugs.  "
   ]
  },
  {
   "cell_type": "code",
   "execution_count": null,
   "metadata": {},
   "outputs": [],
   "source": [
    "# This code should accept a positive non-zero integer from the user.\n",
    "# It should then calculate all factors of that number.\n",
    "# It should only end when the user enters 'q' and should not calculate any divisors for 0.\n",
    "\n",
    "# The following code contains NOT LESS THAN SIX bugs.\n",
    "# It should pass the following test cases:\n",
    "#   100 -> 100, 50, 25, 20, 10, 5, 4, 2, 1\n",
    "#   69 -> 69, 23, 3, 1\n",
    "#   14.5 -> should be rejected (not raise exception) you do NOT need to use try... exception although you can if you want\n",
    "#   a -> should be rejected (not raise exception) \n",
    "#   0 -> should be rejected (not raise exception) \n",
    "\n",
    "#########################################################\n",
    "import sys\n",
    "def is_divisible( a, b ):\n",
    "    \"\"\"\n",
    "    Determine if integer a is divisible by integer b.\n",
    "    \"\"\"\n",
    "\n",
    "    remainder = a % b\n",
    "\n",
    "    # if remainder is zero, then a is divisible by b\n",
    "    return remainder == 0\n",
    "\n",
    "\n",
    "#########################################################\n",
    "def find_divisors( integer ):\n",
    "    \"\"\"\n",
    "    Find all divisors of an integer and return them as a list.\n",
    "    \"\"\"\n",
    "\n",
    "    divisors = []\n",
    "    # we know that an integer divides itself\n",
    "    divisors.append(integer)\n",
    "\n",
    "    # we also know that the biggest divisor other than the integer\n",
    "    # itself must be at most half the value of the integer\n",
    "    if integer % 2 == 0:\n",
    "        divisor = integer / 2\n",
    "    else:\n",
    "        divisor = ( integer - 1) / 2\n",
    "\n",
    "\n",
    "    while divisor > 0:\n",
    "        if is_divisible(integer, divisor):\n",
    "            divisors.append(divisor)\n",
    "        divisor -= 1\n",
    "\n",
    "    return divisors\n",
    "\n",
    "\n",
    "#########################################################\n",
    "def main():\n",
    "\n",
    "    # do some checking of the user's input\n",
    "    # is it a number?\n",
    "    input_a = input('Please enter a positive integer.')\n",
    "    while input_a != 'q':\n",
    "        if not input_a.isdigit():\n",
    "            input_a = input('Please enter a positive integer.')\n",
    "            continue\n",
    "        else:\n",
    "            if int(input_a) <= 0:\n",
    "                input_a = input('Please enter a positive integer.')\n",
    "                continue\n",
    "            else:\n",
    "                a = int(input_a)\n",
    "    \n",
    "    # is it nonnegative?\n",
    "    #if a < 0:\n",
    "     #   print( 'Please enter an integer.' )\n",
    "\n",
    "                divisors = find_divisors( a )\n",
    "\n",
    "    # print the results\n",
    "                print( \"The divisors of %d are:\" % a )\n",
    "                for divisor in divisors:\n",
    "                    print( divisor )\n",
    "                input_a = input('Please enter a positive integer.')\n",
    "                continue\n",
    "    print('end')\n",
    "\n",
    "\n",
    "#########################################################\n",
    "# This is the starting point of this program.\n",
    "if __name__ == '__main__':\n",
    "    main() #this will call the main() function"
   ]
  },
  {
   "cell_type": "code",
   "execution_count": 1,
   "metadata": {},
   "outputs": [
    {
     "name": "stdout",
     "output_type": "stream",
     "text": [
      "False\n"
     ]
    }
   ],
   "source": [
    "# test the code here if necessary\n",
    "def i(a,b):\n",
    "    return a%b == 0\n",
    "print(i(6,4))\n"
   ]
  },
  {
   "cell_type": "markdown",
   "metadata": {},
   "source": [
    "---"
   ]
  },
  {
   "cell_type": "markdown",
   "metadata": {},
   "source": [
    "# Bonus for exam02 (Optional)"
   ]
  },
  {
   "cell_type": "markdown",
   "metadata": {},
   "source": [
    "## This section is a bonus for exam02 with a minimum of 5 points will be added to your exam02 scores if you get both questions correct. If you do this, you will have to complete this part on your own. You can refer to any sources but I want every single step to have a comment. No comment, no point. If we find any code/comment slightly similar to others, all these codes will also get 0 point! The deadline is still the same as this lab. DDL: Monday, 26 Nov 2018, 11.30pm!"
   ]
  },
  {
   "cell_type": "markdown",
   "metadata": {},
   "source": [
    "Example:\n",
    "\n",
    "    #initialize a string bAT with \"This is bonus\"\n",
    "    bAT = \"This is bonus\"\n",
    "    #initialize a list called a to contain the result from the loop\n",
    "    a = [0] * len(bAT)\n",
    "\n",
    "    #use for loop to iterate through variable bAT\n",
    "    #using enumerate to get both the index and item in bAT\n",
    "    for i,item in enumerate(bAT):\n",
    "        a[i] = item # to store individual character from string bAT inside the list\n"
   ]
  },
  {
   "cell_type": "markdown",
   "metadata": {},
   "source": [
    "### Q1 `Write a different linspace`\n",
    "\n",
    "We wish to generate $n$ equally-spaced $x$ coordinates in $[a,b]$.\n",
    "\n",
    "**Compose a function `linspace( a,b,n )` which accepts a left-hand bound `a`, a right-hand bound `b` (both `float`s), and a number of intervals `n` (an `int`), and returns a `list` containing the coordinates dividing the space equally.**  `n` should be optional with a default value of `11`.  You may assume that $b > a$.\n",
    "\n",
    "For instance, `linspace( 0,1 )` should return the list:\n",
    "\n",
    "    [ 0.0,0.1,0.2,0.3,0.4,0.5,0.6,0.7,0.8,0.9,1.0 ]\n",
    "\n",
    "while `linspace( 0,10,n=10 )` should return the list:\n",
    "\n",
    "    [ 0.0,1.11111111,2.22222222,3.33333333,4.44444444,5.55555556,6.66666667,7.77777778,8.88888889,10.0 ]\n",
    "\n",
    "Note that both the left- and right-hand bounds are *included*.  You may use a `for` loop or a `while` loop to implement the solution to this question.  You may also assume that $a<b$, so don't worry about testing or swapping those values.  Finally, please note that small numerical errors are permissible, _e.g._, `1.00000004` or similar.\n",
    "\n",
    "A formula for the $i$th element is\n",
    "\n",
    "$$\n",
    "x_{i}\n",
    "=\n",
    "a + i \\frac{(b-a)}{n-1}\n",
    "\\text{.}\n",
    "$$\n",
    "\n",
    "Print out the output for linspace(0, 10, n=10) and linspace(0.2, 22.9)\n",
    "\n",
    "<div class=\"alert alert-danger\">\n",
    "Importing <code>linspace</code> from a library will get you 0 points.  Work with lists here, not NumPy arrays.\n",
    "</div>\n",
    "\n",
    "### `Print the output for linspace(-5, 5, n=6), linspace(0, 10, n=10) and linspace(0.2, 22.9)`"
   ]
  },
  {
   "cell_type": "code",
   "execution_count": 7,
   "metadata": {},
   "outputs": [
    {
     "name": "stdout",
     "output_type": "stream",
     "text": [
      "[-5.0, -3.0, -1.0, 1.0, 3.0, 5.0]\n",
      "[0.0, 1.1111111111111112, 2.2222222222222223, 3.3333333333333335, 4.444444444444445, 5.555555555555555, 6.666666666666667, 7.777777777777778, 8.88888888888889, 10.0]\n",
      "[0.2, 2.47, 4.74, 7.01, 9.28, 11.549999999999999, 13.819999999999999, 16.09, 18.36, 20.63, 22.9]\n",
      "[0.0, 1.1111111111111112, 2.2222222222222223, 3.3333333333333335, 4.444444444444445, 5.555555555555555, 6.666666666666667, 7.777777777777778, 8.88888888888889, 10.0]\n"
     ]
    }
   ],
   "source": [
    "#### Write your answer here:\n",
    "def linspace(a,b,n=11):                 #define a function\n",
    "    xs = []                             #create a list\n",
    "    for i in range(0,n):                #create an index i to claculate every element in the list\n",
    "        xs.append(a+i*(b-a)/(n-1))      #use the formular to calculate the coordinate\n",
    "    return xs                           #return the coordinates\n",
    "print(linspace(-5,5,n=6))               #print out\n",
    "print(linspace(0,10,n=10))              #some\n",
    "print(linspace(0.2,22.9))               #test value\n",
    "\n",
    "\n",
    "\n"
   ]
  },
  {
   "cell_type": "markdown",
   "metadata": {},
   "source": [
    "### Q2   `Dict_str_parse`\n",
    "\n",
    "Given a string, we wish to count the frequency of each letter in it using a dictionary.\n",
    "\n",
    "**Compose a function `lettercount( text )` which accepts a `str` named `text` of a sample text and returns a `dict` with keys `'A'`, `'B'`, ..., `'Z'` which correspond to values indicating the number of times each letter occurs in `text`.**\n",
    "\n",
    "For instance, given the string:\n",
    "\n",
    "    text0 = \"As kingfishers catch fire, dragonflies draw flame\"\n",
    "\n",
    "`lettercount( text0 )` should return the dictionary in this order:\n",
    "\n",
    "    { 'A': 5, 'B': 0, 'C': 2, 'D': 2, 'E': 4,\n",
    "      'F': 4, 'G': 2, 'H': 2, 'I': 4, 'J': 0,\n",
    "      'K': 1, 'L': 2, 'M': 1, 'N': 2, 'O': 1,\n",
    "      'P': 0, 'Q': 0, 'R': 4, 'S': 4, 'T': 1,\n",
    "      'U': 0, 'V': 0, 'W': 1, 'X': 0, 'Y': 0,\n",
    "      'Z': 0 }\n",
    "\n",
    "### `Print out this dictionary`"
   ]
  },
  {
   "cell_type": "code",
   "execution_count": 22,
   "metadata": {},
   "outputs": [
    {
     "name": "stdout",
     "output_type": "stream",
     "text": [
      "{'A': 5, 'B': 0, 'C': 2, 'D': 2, 'E': 4, 'F': 4, 'G': 2, 'H': 2, 'I': 4, 'J': 0, 'K': 1, 'L': 2, 'M': 1, 'N': 2, 'O': 1, 'P': 0, 'Q': 0, 'R': 4, 'S': 4, 'T': 1, 'U': 0, 'V': 0, 'W': 1, 'X': 0, 'Y': 0, 'Z': 0}\n"
     ]
    }
   ],
   "source": [
    "#### Write your answer here:\n",
    "def lettercount(test):                                       # define a function\n",
    "    letters = test.upper()                                   # make all the letters in the text to be capital\n",
    "    d = {}                                                   # create an empty dictionary\n",
    "    for i in 'ABCDEFGHIJKLMNOPQRSTUVWXYZ':                   ## create a content \n",
    "        d[i] = 0                                             ## of keys of letters\n",
    "    for letter in letters:                                   # use the index to accumulate \n",
    "        if letter in d.keys():                               # check if the character is in the keys of the dictionary\n",
    "            d[letter] += 1                                   # accumulate\n",
    "    return d                                                 # return the dictionary\n",
    "text0 = \"As kingfishers catch fire, dragonflies draw flame\"  #\n",
    "print(lettercount(text0))\n",
    "\n",
    "\n"
   ]
  },
  {
   "cell_type": "raw",
   "metadata": {},
   "source": [
    "# Before you submit..."
   ]
  },
  {
   "cell_type": "markdown",
   "metadata": {},
   "source": [
    "### Submission\n",
    "Make sure that you have filled your name and studentID in this notebook as well as answered all questions.\n",
    "\n",
    "Make sure that RELATE has your latest file by checking the text output when you click on the \"embeded viewer' link at the submission page.\n",
    "\n",
    "Save this file as lab09-studentID.ipynb then UPLOAD to RELATE!"
   ]
  }
 ],
 "metadata": {
  "anaconda-cloud": {},
  "kernelspec": {
   "display_name": "Python 3",
   "language": "python",
   "name": "python3"
  },
  "language_info": {
   "codemirror_mode": {
    "name": "ipython",
    "version": 3
   },
   "file_extension": ".py",
   "mimetype": "text/x-python",
   "name": "python",
   "nbconvert_exporter": "python",
   "pygments_lexer": "ipython3",
   "version": "3.6.5"
  }
 },
 "nbformat": 4,
 "nbformat_minor": 1
}
