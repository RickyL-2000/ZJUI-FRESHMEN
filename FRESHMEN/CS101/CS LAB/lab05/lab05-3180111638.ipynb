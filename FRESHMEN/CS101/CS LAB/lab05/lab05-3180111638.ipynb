{
 "cells": [
  {
   "cell_type": "markdown",
   "metadata": {},
   "source": [
    "#   `lab05`—Control Flow"
   ]
  },
  {
   "cell_type": "markdown",
   "metadata": {},
   "source": [
    "**Objectives**\n",
    "\n",
    "-   Employ basic loops (`for` and `while`) to generate iterative behavior.  <!-- serzes -->\n",
    "-   Describe and distinguish program behavior using flowcharts.  <!-- hosnik -->\n",
    "-   String methods\n",
    "-   Functions!\n",
    "\n",
    "There are 8 questions that will be graded"
   ]
  },
  {
   "cell_type": "markdown",
   "metadata": {},
   "source": [
    "Double-click to write **your name and Student ID** here: 李瑞琦 3180111638"
   ]
  },
  {
   "cell_type": "markdown",
   "metadata": {},
   "source": [
    "### Control Flow"
   ]
  },
  {
   "cell_type": "markdown",
   "metadata": {},
   "source": [
    "Imagine for a moment that a computer program is a pathway.  Each step of this path should move you closer to your goal (since every program has an objective).  But you can only be on one step of the path at a time.  The actual path you take may not correspond exactly to the lines of code, since parts may be used many times and parts may be skipped entirely.  _Control flow_ describes the _actual_ path taken as the program proceeds.\n",
    "\n",
    "We will use flowcharts as a skeleton or outline to describe and distinguish program behavior.  We will distinguish two main kinds of block:\n",
    "\n",
    "<table>\n",
    "<tr><td><strong>Process Block</strong><br/><img src=\"./img05/flowchart-process.png\" height=\"250px;\" /><br/>&nbsp;</td><td><strong>Decision Block</strong><br/><img src=\"./img05/flowchart-decision.png\" height=\"250px;\" /><br/>(The order of the <code>True</code>/<code>False</code> arrows doesn't matter.)</td></tr>\n",
    "</table>\n",
    "\n",
    "Most of a program's flowchart likely consists of _process blocks_.  These represent regular statements, like assignments or calculations.  _Decision blocks_, in contrast, represent forks in the road, places where a question is asked, and depending on the result, different program outcomes achieved.  (At this point, all decision blocks are `if` statements, but that will soon be expanded with _loops_.)"
   ]
  },
  {
   "cell_type": "markdown",
   "metadata": {},
   "source": [
    "For instance, consider the following code."
   ]
  },
  {
   "cell_type": "code",
   "execution_count": null,
   "metadata": {},
   "outputs": [],
   "source": [
    "A = input()\n",
    "A = int( A )\n",
    "\n",
    "if A >= 0:\n",
    "    print( A )"
   ]
  },
  {
   "cell_type": "markdown",
   "metadata": {},
   "source": [
    "This corresponds to a flowchart\n",
    "\n",
    "<img src=\"./img05/simple-flowchart.png\" width=\"250px;\" />\n",
    "\n",
    "(Note that while not every single line _of code_ is included, the basic flow of the program is discernable from both the code and the flowchart.)"
   ]
  },
  {
   "cell_type": "markdown",
   "metadata": {},
   "source": [
    "#### A Primitive Calculator"
   ]
  },
  {
   "cell_type": "markdown",
   "metadata": {},
   "source": [
    "For this exercise, you will compose a calculator program which accepts two numbers and then queries the user for an operation selected from a list.  (The title made it sound like this was going to be a caveman calculator, which I am disappointed about as you are.)\n",
    "\n",
    "<img src=\"./img05/calculator-no-loop.png\" width=\"250px;\" />"
   ]
  },
  {
   "cell_type": "markdown",
   "metadata": {
    "deletable": false,
    "editable": false
   },
   "source": [
    "### Q1 [20 points]\n",
    "-   Compose a program which carries out the following steps in order:\n",
    "\n",
    "    1.  Query the user for a value `x`.  Make sure to convert it into a `float`.\n",
    "    2.  Do the same for a value `y`.\n",
    "    3.  Query the user for an operation to carry out between `x` and `y`, selected from the following list:\n",
    "\n",
    "        A.  Addition (`x+y`)\n",
    "        B.  Subtraction (`x-y`)\n",
    "        C.  Multiplication (`x*y`)\n",
    "        D.  Division (`x/y`)\n",
    "        \n",
    "        If no valid option is selected from `A` to `D`, the program should simply end.\n",
    "\n",
    "    4.  Print out the resulting value for the selected operation."
   ]
  },
  {
   "cell_type": "code",
   "execution_count": 3,
   "metadata": {
    "deletable": false
   },
   "outputs": [
    {
     "name": "stdout",
     "output_type": "stream",
     "text": [
      "Type x = 1\n",
      "Type y = 2\n",
      "Select one of the following operations:\n",
      "A.  Addition\n",
      "B.  Subtraction\n",
      "C.  Multiplication\n",
      "D.  Division\n",
      "\n",
      "Please select an operation:  A\n",
      "3.0\n"
     ]
    }
   ],
   "source": [
    "# compose your code here\n",
    "\n",
    "# 1.  Add code to query the user for a value `x`.  The result should have the type `float`.\n",
    "x = input ('Type x = ')\n",
    "x = float(x)\n",
    "y = input ('Type y = ')\n",
    "y = float(y)\n",
    "# 2.  Add code to query the user for a value `y`.  The result should have the type `float`.\n",
    "# 3.  Query the user for an operation to carry out between `x` and y`.  \n",
    "print(\n",
    "'''Select one of the following operations:\n",
    "A.  Addition\n",
    "B.  Subtraction\n",
    "C.  Multiplication\n",
    "D.  Division\n",
    "''' )\n",
    "query = input( 'Please select an operation:  ' )\n",
    "\n",
    "if query == 'A':\n",
    "    print( x+y )\n",
    "elif query == 'B': \n",
    "    print( x-y )\n",
    "    #Add code here\n",
    "elif query == 'C':# Add code for 'C'\n",
    "    print(x*y)\n",
    "elif query =='D':\n",
    "    print(x/y)# Add code for 'D'\n",
    "    \n",
    "else:\n",
    "    pass  # Python's \"do-nothing\" statement; you can leave this line alone\n"
   ]
  },
  {
   "cell_type": "code",
   "execution_count": 4,
   "metadata": {
    "deletable": false,
    "editable": false
   },
   "outputs": [
    {
     "name": "stdout",
     "output_type": "stream",
     "text": [
      "Your data types for `x` and `y` appear to be correct.\n"
     ]
    }
   ],
   "source": [
    "# it should pass this test---do NOT edit this cell\n",
    "assert type( x ) == float\n",
    "assert type( y ) == float\n",
    "\n",
    "print( 'Your data types for `x` and `y` appear to be correct.' )"
   ]
  },
  {
   "cell_type": "markdown",
   "metadata": {},
   "source": [
    "\n",
    "#### Looping (Returning to a Starting Point)"
   ]
  },
  {
   "cell_type": "markdown",
   "metadata": {},
   "source": [
    "Let's examine the `while` loop introduced in the lecture.\n",
    "\n",
    "A `while` loop continues to execute a block of code until its condition (the expression following the statement) becomes `False`.  At that point, execution proceeds from the end of the block onwards.\n",
    "\n",
    "As a flowchart, a `while` loop looks like this:\n",
    "\n",
    "<img src=\"./img05/while-loop.png\" width=\"350px;\" />\n",
    "\n",
    "This is what you see happening:\n",
    "\n",
    "1.  The program enters the decision block [i.e., while (`EXPR`):].\n",
    "2.  If the `EXPR` is `True`, program branches right and Process #1 is implemented.  After Process #1 finishes, the control returns to the `EXPR` for reassessment.\n",
    "3.  If the `EXPR` is `False`, Process #1 is not executed and control proceeds via Process #2.\n",
    "\n",
    "Implemented as a code, this could look like:\n",
    "\n",
    "### Q2 [2 points]: (Following the instructions)"
   ]
  },
  {
   "cell_type": "code",
   "execution_count": 5,
   "metadata": {
    "deletable": false,
    "editable": false
   },
   "outputs": [
    {
     "name": "stdout",
     "output_type": "stream",
     "text": [
      "Please enter a negative number:-1\n",
      "Your number is -1.\n"
     ]
    }
   ],
   "source": [
    "a = 5\n",
    "\n",
    "while a > 0:\n",
    "    # Process #1\n",
    "    a = int( input( \"Please enter a negative number:\" ) )\n",
    "\n",
    "# Process #2\n",
    "print( \"Your number is %i.\" % a )"
   ]
  },
  {
   "cell_type": "markdown",
   "metadata": {},
   "source": [
    "Consider our Primitive Calculator program from before.  Adding a `while` loop will make this program to repeatedly query the user for a valid operation.  In this case, our flow chart changes from the case on the left to the case on the right:\n",
    "\n",
    "<table>\n",
    "<tr><td><img src=\"./img05/calculator-no-loop.png\" width=\"250px;\" /></td>\n",
    "<td></td><td></td><td></td>\n",
    "<td><img src=\"./img05/calculator-loop.png\" width=\"325px;\" /></td></tr>\n",
    "<tr><td><span style=\"font-weight:bold;font-size:18pt\">Left</span></td><td></td><td></td><td></td><td><span style=\"font-weight:bold;font-size:18pt\">Right</span></td></tr>\n",
    "</table>"
   ]
  },
  {
   "cell_type": "markdown",
   "metadata": {
    "deletable": false,
    "editable": false
   },
   "source": [
    "### Q3 [13 points]\n",
    "-   Modify your code from before to include a `while` loop to repeatedly query the user if the input is invalid.\n",
    "\n",
    "    1.  Query the user for a value `x`.  Make sure to convert it into a `float`.\n",
    "    2.  Do the same for a value `y`.\n",
    "    3.  Query the user for an operation to carry out between `x` and `y`, selected from the following list:\n",
    "\n",
    "        1.  Addition (`x+y`)\n",
    "        2.  Subtraction (`x-y`)\n",
    "        3.  Multiplication (`x*y`)\n",
    "        4.  Division (`x/y`)\n",
    "        \n",
    "        If no valid option is selected from `A` to `D`, the program should query the user again until valid input is given.\n",
    "\n",
    "    4.  Print out the resulting value for the selected operation."
   ]
  },
  {
   "cell_type": "code",
   "execution_count": 2,
   "metadata": {
    "deletable": false
   },
   "outputs": [
    {
     "name": "stdout",
     "output_type": "stream",
     "text": [
      "Type x =1\n",
      "Type y =2\n",
      "Please select an operation: Y\n",
      "Select one of the following operations:\n",
      "    A.  Addition\n",
      "    B.  Subtraction\n",
      "    C.  Multiplication\n",
      "    D.  Division\n",
      "    \n",
      "Please select an operation: G\n",
      "Select one of the following operations:\n",
      "    A.  Addition\n",
      "    B.  Subtraction\n",
      "    C.  Multiplication\n",
      "    D.  Division\n",
      "    \n",
      "Please select an operation: A\n",
      "Select one of the following operations:\n",
      "    A.  Addition\n",
      "    B.  Subtraction\n",
      "    C.  Multiplication\n",
      "    D.  Division\n",
      "    \n",
      "3.0\n"
     ]
    }
   ],
   "source": [
    "# compose your code here\n",
    "\n",
    "# Copy and paste steps #1 and #2 from above:\n",
    "\n",
    "# 1.  Query the user for a value `x`.  The result should have the type `float`\n",
    "#paste code here\n",
    "x = float(input('Type x ='))\n",
    "\n",
    "# 2.  Query the user for a value `y`.  The result should have the type `float`.\n",
    "#paste code here\n",
    "y = float(input('Type y ='))\n",
    "query = ''  # We use an empty string so that the loop goes through the first time.\n",
    "\n",
    "#Add your while loop here\n",
    "while query != 'A'and query != 'B' and query != 'C' and query != 'D' : \n",
    "    query = input('Please select an operation: ')\n",
    "    # 3.  Query the user for an operation to carry out between `x` and `y`.\n",
    "    print(\n",
    "    '''Select one of the following operations:\n",
    "    A.  Addition\n",
    "    B.  Subtraction\n",
    "    C.  Multiplication\n",
    "    D.  Division\n",
    "    ''' )\n",
    "\n",
    "\n",
    "if query == 'A':\n",
    "    print( x+y )\n",
    "elif query == 'B': \n",
    "    print( x-y )\n",
    "    #Add code here\n",
    "elif query == 'C':# Add code for 'C'\n",
    "    print(x*y)\n",
    "elif query =='D':\n",
    "    print(x/y)# Add code for 'D'\n",
    "    \n",
    "else:\n",
    "    pass     \n",
    "\n",
    "    # Copy and paste your code from before here, from `query = input( ... )` to the end.\n",
    "    # Make sure the indentation (the scope) is correct."
   ]
  },
  {
   "cell_type": "markdown",
   "metadata": {},
   "source": [
    "### How to manipulate strings: Using methods"
   ]
  },
  {
   "cell_type": "markdown",
   "metadata": {},
   "source": [
    "One of the elegant notions of programming is that programming helps generalize the idea of function beyond just manipulating numbers. What about other data types—in particular, the other data type we've examined thus far, the string? Python does have a lot of basic string manipulation functions.\n",
    "\n",
    "Note, these functions are also known as methods. It is defined inside the String data type."
   ]
  },
  {
   "cell_type": "code",
   "execution_count": 7,
   "metadata": {},
   "outputs": [],
   "source": [
    "myStr = ' ZJUI CS101 students are the best!!!  '"
   ]
  },
  {
   "cell_type": "code",
   "execution_count": 8,
   "metadata": {},
   "outputs": [
    {
     "data": {
      "text/plain": [
       "38"
      ]
     },
     "execution_count": 8,
     "metadata": {},
     "output_type": "execute_result"
    }
   ],
   "source": [
    "len(myStr)              # counts number of characters in myStr"
   ]
  },
  {
   "cell_type": "code",
   "execution_count": 9,
   "metadata": {},
   "outputs": [
    {
     "data": {
      "text/plain": [
       "4"
      ]
     },
     "execution_count": 9,
     "metadata": {},
     "output_type": "execute_result"
    }
   ],
   "source": [
    "myStr.count('t')        # counts number of occurrences of 'x' in myStr"
   ]
  },
  {
   "cell_type": "code",
   "execution_count": 10,
   "metadata": {},
   "outputs": [
    {
     "data": {
      "text/plain": [
       "13"
      ]
     },
     "execution_count": 10,
     "metadata": {},
     "output_type": "execute_result"
    }
   ],
   "source": [
    "myStr.find('t')         # returns position of character 'x'"
   ]
  },
  {
   "cell_type": "code",
   "execution_count": 11,
   "metadata": {},
   "outputs": [
    {
     "data": {
      "text/plain": [
       "' zjui cs101 students are the best!!!  '"
      ]
     },
     "execution_count": 11,
     "metadata": {},
     "output_type": "execute_result"
    }
   ],
   "source": [
    "myStr.lower()           # returns myStr as lower-case letters"
   ]
  },
  {
   "cell_type": "code",
   "execution_count": 12,
   "metadata": {},
   "outputs": [
    {
     "data": {
      "text/plain": [
       "' ZJUI CS101 STUDENTS ARE THE BEST!!!  '"
      ]
     },
     "execution_count": 12,
     "metadata": {},
     "output_type": "execute_result"
    }
   ],
   "source": [
    "myStr.upper()           # returns myStr as upper-case letters"
   ]
  },
  {
   "cell_type": "code",
   "execution_count": 13,
   "metadata": {},
   "outputs": [
    {
     "data": {
      "text/plain": [
       "' Zjui Cs101 Students Are The Best!!!  '"
      ]
     },
     "execution_count": 13,
     "metadata": {},
     "output_type": "execute_result"
    }
   ],
   "source": [
    "myStr.title()           # returns myStr as title-case letters"
   ]
  },
  {
   "cell_type": "code",
   "execution_count": 14,
   "metadata": {},
   "outputs": [
    {
     "data": {
      "text/plain": [
       "' ZJUI CS101 studXnts arX thX bXst!!!  '"
      ]
     },
     "execution_count": 14,
     "metadata": {},
     "output_type": "execute_result"
    }
   ],
   "source": [
    "myStr.replace('e', 'X') # replaces all occurrences of a with b in myStr"
   ]
  },
  {
   "cell_type": "code",
   "execution_count": 15,
   "metadata": {},
   "outputs": [
    {
     "data": {
      "text/plain": [
       "'ZJUI CS101 students are the best!!!'"
      ]
     },
     "execution_count": 15,
     "metadata": {},
     "output_type": "execute_result"
    }
   ],
   "source": [
    "myStr.strip()           # removes leading/trailing white space from myStr"
   ]
  },
  {
   "cell_type": "markdown",
   "metadata": {},
   "source": [
    "Note that myStr itself never changes—functions like upper return a copy of myStr with the requested change made.\n",
    "\n",
    "String methods are also composable—that is, you can put them together to carry out more complex operations:"
   ]
  },
  {
   "cell_type": "code",
   "execution_count": 16,
   "metadata": {},
   "outputs": [
    {
     "data": {
      "text/plain": [
       "'ZJUI-CS101-students-are-the-best!!!'"
      ]
     },
     "execution_count": 16,
     "metadata": {},
     "output_type": "execute_result"
    }
   ],
   "source": [
    "myStr.strip().replace(' ', '-')"
   ]
  },
  {
   "cell_type": "code",
   "execution_count": 17,
   "metadata": {},
   "outputs": [
    {
     "data": {
      "text/plain": [
       "'-ZJUI-CS101-students-are-the-best!!!--'"
      ]
     },
     "execution_count": 17,
     "metadata": {},
     "output_type": "execute_result"
    }
   ],
   "source": [
    "myStr.replace(' ', '-').strip()"
   ]
  },
  {
   "cell_type": "markdown",
   "metadata": {},
   "source": [
    "Now try these out:"
   ]
  },
  {
   "cell_type": "code",
   "execution_count": 18,
   "metadata": {
    "deletable": false
   },
   "outputs": [],
   "source": [
    "quip = '\"Sometimes I wonder whether the world is being run by smart people who are putting us on, or by imbeciles who really mean it.\" (Mark Twain)'"
   ]
  },
  {
   "cell_type": "markdown",
   "metadata": {
    "deletable": false,
    "editable": false
   },
   "source": [
    "### Q4 [5 points] \n",
    "How long is quip?"
   ]
  },
  {
   "cell_type": "code",
   "execution_count": 19,
   "metadata": {
    "deletable": false
   },
   "outputs": [
    {
     "data": {
      "text/plain": [
       "139"
      ]
     },
     "execution_count": 19,
     "metadata": {},
     "output_type": "execute_result"
    }
   ],
   "source": [
    "# Use string methods\n",
    "# your answer here\n",
    "len(quip)"
   ]
  },
  {
   "cell_type": "markdown",
   "metadata": {
    "deletable": false,
    "editable": false
   },
   "source": [
    "### Q5 [5 points]\n",
    "How many times does 'b' occur in this phrase?"
   ]
  },
  {
   "cell_type": "code",
   "execution_count": 20,
   "metadata": {
    "deletable": false
   },
   "outputs": [
    {
     "data": {
      "text/plain": [
       "4"
      ]
     },
     "execution_count": 20,
     "metadata": {},
     "output_type": "execute_result"
    }
   ],
   "source": [
    "# Use string methods\n",
    "# your answer here\n",
    "quip.count('b')"
   ]
  },
  {
   "cell_type": "markdown",
   "metadata": {
    "deletable": false,
    "editable": false
   },
   "source": [
    "### Q6 [10 points]\n",
    "Replace all instances of ',' and '.' with 'A'. Now how many times does 'a' or 'A' occur? (You can do this using an intermdiate variable or by composing the operations as above.)"
   ]
  },
  {
   "cell_type": "code",
   "execution_count": 38,
   "metadata": {
    "deletable": false
   },
   "outputs": [
    {
     "data": {
      "text/plain": [
       "8"
      ]
     },
     "execution_count": 38,
     "metadata": {},
     "output_type": "execute_result"
    }
   ],
   "source": [
    "# Use string methods\n",
    "# your answer here\n",
    "inter = quip.replace(',','A').replace('.','A')\n",
    "inter.count('a')+inter.count('A')"
   ]
  },
  {
   "cell_type": "markdown",
   "metadata": {},
   "source": [
    "### How to divide your code logically"
   ]
  },
  {
   "cell_type": "markdown",
   "metadata": {},
   "source": [
    "#### Blocks"
   ]
  },
  {
   "cell_type": "markdown",
   "metadata": {},
   "source": [
    "A *block* in Python refers to a section of code that is sequentially executed as a unit.  Blocks are differentiated by indenting the lines of code all together.  (And Python is *very* strict about the *number* of spaces being consistent.)  For instance, consider this program to calculate the pressure of 1 mole of an ideal gas at a given temperature and volume:\n",
    "\n",
    "$$\n",
    "P \\propto \\frac{T}{V} = \\frac{RT}{V}\n",
    "\\text{.}\n",
    "$$"
   ]
  },
  {
   "cell_type": "code",
   "execution_count": 25,
   "metadata": {},
   "outputs": [
    {
     "name": "stdout",
     "output_type": "stream",
     "text": [
      "The pressure of 0.01 cubic meters of gas at 100.0 deg C is 83140.0 pascals\n"
     ]
    }
   ],
   "source": [
    "def pressure_IG(T, V):\n",
    "    # T should be in deg C and V in cubic meters\n",
    "    R = 8.314 # ideal gas constant, joules / deg C\n",
    "    P = R * T / V\n",
    "    return P\n",
    "\n",
    "temperature = 100.0 # deg C\n",
    "volume = 0.01 # cubic meters\n",
    "pressure = pressure_IG(temperature, volume)\n",
    "\n",
    "print('The pressure of', volume, 'cubic meters of gas at', temperature, 'deg C is', pressure, 'pascals')"
   ]
  },
  {
   "cell_type": "markdown",
   "metadata": {},
   "source": [
    "This program has two blocks.  The first block is the outermost layer, the lines of code that start at the first column which will be executed sequentially.  Line by line, here is what the program does.  (Note that throughout, `print` should be using parentheses.)\n",
    "\n",
    "First, Python notices that you have created a function `pressure_IG` that accepts two *arguments*, or independent variables.\n",
    "\n",
    "![](./img05/block-1.png)\n",
    "\n",
    "The code within that function, however, is skipped over until later, and Python proceeds within *the same block* to the next line, defining a variable `temperature`.  (The comment line is ignored.)\n",
    "\n",
    "![](./img05/block-2.png)\n",
    "\n",
    "Again, Python proceeds to interpret the next line as defining a variable `volume`.\n",
    "\n",
    "![](./img05/block-3.png)\n",
    "\n",
    "Next, Python attempts to define a variable `pressure`.  But to do so, it finds that it needs to look at the block of code referred to by the function `pressure_IG`.  So Python carries the values of `temperature` and `volume` over and places them in `T` and `V`,\n",
    "\n",
    "![](./img05/block-4.png)\n",
    "\n",
    "Given `T` and `V` already, Python now enters the block of the function definition for `pressure_IG` and executes the code there.  First `R` is defined...\n",
    "\n",
    "![](./img05/block-5.png)\n",
    "\n",
    "...and then the ideal gas pressure `P` is calculated.\n",
    "\n",
    "![](./img/block-6.png)\n",
    "\n",
    "`pressure_IG` `return`s `P`...\n",
    "\n",
    "![](./img05/block-7.png)\n",
    "\n",
    "...which value is then used to define `pressure` in the main block and output the final result. \n",
    "\n",
    "![](./img05/block-8.png)\n",
    "\n",
    "Blocks are differentiated by their indentation.  Often, blocks end with a specific command, like `return`.  However, this is not imperative.  For instance, some functions simply carry out a task and then end:"
   ]
  },
  {
   "cell_type": "code",
   "execution_count": 29,
   "metadata": {},
   "outputs": [
    {
     "name": "stdout",
     "output_type": "stream",
     "text": [
      "WARNING:   Keyboard not responding. Press any key to continue.\n"
     ]
    }
   ],
   "source": [
    "def warn(msg):\n",
    "    print('WARNING:  ', msg)\n",
    "\n",
    "warn('Keyboard not responding. Press any key to continue.')"
   ]
  },
  {
   "cell_type": "markdown",
   "metadata": {},
   "source": [
    "#### Scope"
   ]
  },
  {
   "cell_type": "markdown",
   "metadata": {},
   "source": [
    "We hinted earlier at the slightly strange situations that can arise.  Consider the script:"
   ]
  },
  {
   "cell_type": "markdown",
   "metadata": {},
   "source": [
    "Here we see two variables x—one defined inside of the function sqr and the other in the main block of code. We will use the concept of variable scope to understand what each x means and where.\n",
    "\n",
    "Basically, if we have a single block of code, then any reference to a variable or name (such as x) is interpreted by Python to mean the x within that block.\n",
    "\n",
    "We can do strange things with blocks: since a variable defined inside of a block \"overrides\" other variables with the same name defined outside of the block, the following code is valid in Python, if confusing:"
   ]
  },
  {
   "cell_type": "code",
   "execution_count": 30,
   "metadata": {},
   "outputs": [
    {
     "name": "stdout",
     "output_type": "stream",
     "text": [
      "The x inside do_calc() = 4\n",
      "The x outside do_calc() = 5\n"
     ]
    }
   ],
   "source": [
    "x = 5\n",
    "\n",
    "def do_calc():\n",
    "   x = 4           # <-- this is a different `x`!\n",
    "   print('The x inside do_calc() =', x)\n",
    "\n",
    "do_calc()    \n",
    "print('The x outside do_calc() =',x)            # <-- this refers to the first `x` (with value 5)"
   ]
  },
  {
   "cell_type": "markdown",
   "metadata": {
    "deletable": false,
    "editable": false
   },
   "source": [
    "### Q7 [15 points]\n",
    "\n",
    "What is the value of each `x` at the marked places in the code below?  (*I.e.*, after the indicated line has been executed.)\n",
    "\n",
    "    x = 4\n",
    "    x *= 2          # 1.\n",
    "    \n",
    "    def do_calc(x):\n",
    "        print(x)    # 2.\n",
    "        return x ** 2\n",
    "    \n",
    "    y = x + 2\n",
    "    x = do_calc(y)  # 3."
   ]
  },
  {
   "cell_type": "code",
   "execution_count": 31,
   "metadata": {
    "deletable": false
   },
   "outputs": [
    {
     "data": {
      "text/plain": [
       "8"
      ]
     },
     "execution_count": 31,
     "metadata": {},
     "output_type": "execute_result"
    }
   ],
   "source": [
    "# answer 1 here\n",
    "8\n"
   ]
  },
  {
   "cell_type": "code",
   "execution_count": 32,
   "metadata": {
    "deletable": false
   },
   "outputs": [
    {
     "data": {
      "text/plain": [
       "10"
      ]
     },
     "execution_count": 32,
     "metadata": {},
     "output_type": "execute_result"
    }
   ],
   "source": [
    "# answer 2 here\n",
    "10"
   ]
  },
  {
   "cell_type": "code",
   "execution_count": 33,
   "metadata": {
    "deletable": false
   },
   "outputs": [
    {
     "data": {
      "text/plain": [
       "100"
      ]
     },
     "execution_count": 33,
     "metadata": {},
     "output_type": "execute_result"
    }
   ],
   "source": [
    "# answer 3 here\n",
    "100"
   ]
  },
  {
   "cell_type": "markdown",
   "metadata": {},
   "source": [
    "Again, this freedom means that you need to choose variable names responsibly: the variable n_entries is always better than just n!"
   ]
  },
  {
   "cell_type": "markdown",
   "metadata": {},
   "source": [
    "### Application:  Chemical Symbol Translator"
   ]
  },
  {
   "cell_type": "markdown",
   "metadata": {},
   "source": [
    "You will now compose a function symbol2name which accepts as input a chemical element symbol and returns the corresponding name of the element. We will do this using a set of if and elif statements, although there is a more efficient way to do this (which requires the dictionary you'll see in a couple of weeks).\n",
    "\n",
    "A short version of this function could look like this:"
   ]
  },
  {
   "cell_type": "code",
   "execution_count": 34,
   "metadata": {},
   "outputs": [],
   "source": [
    "def symbol2name(symbol):\n",
    "    if 'H' in symbol:\n",
    "        return 'Hydrogen'\n",
    "    elif 'He' in symbol:\n",
    "        return 'Helium'"
   ]
  },
  {
   "cell_type": "markdown",
   "metadata": {},
   "source": [
    "but already there's a subtle failure mode. Try using He and see what happens."
   ]
  },
  {
   "cell_type": "code",
   "execution_count": 35,
   "metadata": {},
   "outputs": [
    {
     "data": {
      "text/plain": [
       "'Hydrogen'"
      ]
     },
     "execution_count": 35,
     "metadata": {},
     "output_type": "execute_result"
    }
   ],
   "source": [
    "symbol2name('He')"
   ]
  },
  {
   "cell_type": "markdown",
   "metadata": {},
   "source": [
    "The 'H' case picks up on the 'H' in 'He' first, and the second conditional statement is never executed. This means that you have to nest conditionals inside of each other. A corrected version of that code is:"
   ]
  },
  {
   "cell_type": "code",
   "execution_count": 36,
   "metadata": {},
   "outputs": [
    {
     "name": "stdout",
     "output_type": "stream",
     "text": [
      "Helium\n"
     ]
    }
   ],
   "source": [
    "def symbol2name(symbol):\n",
    "    if 'H' in symbol:         # alternatively, you can say symbol == 'H'\n",
    "        if 'He' in symbol:\n",
    "            return 'Helium'\n",
    "        else:\n",
    "            return 'Hydrogen'\n",
    "\n",
    "print(symbol2name('He'))"
   ]
  },
  {
   "cell_type": "markdown",
   "metadata": {},
   "source": [
    "which can be expanded to:"
   ]
  },
  {
   "cell_type": "code",
   "execution_count": 37,
   "metadata": {},
   "outputs": [
    {
     "name": "stdout",
     "output_type": "stream",
     "text": [
      "Helium\n",
      "Boron\n"
     ]
    }
   ],
   "source": [
    "def symbol2name(symbol):\n",
    "    if 'H' in symbol:\n",
    "        if 'He' in symbol:\n",
    "            return 'Helium'\n",
    "        else:\n",
    "            return 'Hydrogen'\n",
    "    elif 'B' in symbol:\n",
    "        return 'Boron'\n",
    "\n",
    "print(symbol2name('He'))\n",
    "print(symbol2name('B'))"
   ]
  },
  {
   "cell_type": "markdown",
   "metadata": {},
   "source": [
    "and so on."
   ]
  },
  {
   "cell_type": "markdown",
   "metadata": {
    "deletable": false,
    "editable": false
   },
   "source": [
    "### Q8 [20 points]\n",
    "-   Expand the function `symbol2name` to correctly handle the following table of symbols.  Add a terminal `else` statement to return `None` if a symbol is given which doesn't match this table.\n",
    "\n",
    "| Symbol | Name  |\n",
    "|----|-----------|\n",
    "| H  | Hydrogen  |\n",
    "| He | Helium    |\n",
    "| Li | Lithium   |\n",
    "| Be | Beryllium |\n",
    "| B  | Boron     |\n",
    "| Fe | Iron      |\n",
    "| N  | Nitrogen  |\n",
    "| F  | Flourine  |"
   ]
  },
  {
   "cell_type": "code",
   "execution_count": 51,
   "metadata": {
    "deletable": false
   },
   "outputs": [],
   "source": [
    "# define your function here\n",
    "def symbol2name(symbol):\n",
    "    if 'H' in symbol:\n",
    "        if 'He' in symbol:\n",
    "            return 'Helium'\n",
    "        else:\n",
    "            return 'Hydrogen'\n",
    "    elif 'B' in symbol:\n",
    "        if 'Be' in symbol:\n",
    "            return 'Beryllium'\n",
    "        else:\n",
    "            return 'Boron'\n",
    "    elif 'F' in symbol:\n",
    "        if 'Fe' in symbol:\n",
    "            return 'Iron'\n",
    "        else:\n",
    "            return 'Flourine'\n",
    "    elif 'Li' in symbol:\n",
    "        return 'Lithium'\n",
    "    elif 'N' in symbol:\n",
    "        return 'Nitrogen'\n",
    "    else:\n",
    "        return None"
   ]
  },
  {
   "cell_type": "code",
   "execution_count": 43,
   "metadata": {
    "deletable": false,
    "editable": false
   },
   "outputs": [
    {
     "name": "stdout",
     "output_type": "stream",
     "text": [
      "Success! He\n"
     ]
    }
   ],
   "source": [
    "# it should pass this test---do NOT edit this cell\n",
    "# test for specified case\n",
    "assert symbol2name('He') == 'Helium'\n",
    "print('Success! He')"
   ]
  },
  {
   "cell_type": "code",
   "execution_count": 44,
   "metadata": {
    "deletable": false,
    "editable": false
   },
   "outputs": [
    {
     "name": "stdout",
     "output_type": "stream",
     "text": [
      "Success! Not Boron\n",
      "Success! Not Beryllium\n"
     ]
    }
   ],
   "source": [
    "# it should pass this test---do NOT edit this cell\n",
    "# test for specified case\n",
    "assert not symbol2name('Be') == 'Boron'\n",
    "print('Success! Not Boron')\n",
    "assert not symbol2name('B')  == 'Beryllium'\n",
    "print('Success! Not Beryllium')"
   ]
  },
  {
   "cell_type": "code",
   "execution_count": 45,
   "metadata": {
    "deletable": false,
    "editable": false
   },
   "outputs": [
    {
     "name": "stdout",
     "output_type": "stream",
     "text": [
      "Success! N\n"
     ]
    }
   ],
   "source": [
    "# it should pass this test---do NOT edit this cell\n",
    "# test for specified case\n",
    "assert symbol2name('N') == 'Nitrogen'\n",
    "print('Success! N')"
   ]
  },
  {
   "cell_type": "code",
   "execution_count": 52,
   "metadata": {
    "deletable": false,
    "editable": false
   },
   "outputs": [
    {
     "name": "stdout",
     "output_type": "stream",
     "text": [
      "Success! None\n"
     ]
    }
   ],
   "source": [
    "# it should pass this test---do NOT edit this cell\n",
    "# test for specified case\n",
    "assert symbol2name('O') == None\n",
    "print('Success! None')"
   ]
  },
  {
   "cell_type": "markdown",
   "metadata": {},
   "source": [
    "# Before you submit..."
   ]
  },
  {
   "cell_type": "markdown",
   "metadata": {},
   "source": [
    "### Submission [10 points]\n",
    "Make sure that you have filled your name and studentID as well as answered all the 8 questions.\n",
    "\n",
    "Save this file as lab05-studentID.ipynb then UPLOAD to RELATE!"
   ]
  }
 ],
 "metadata": {
  "kernelspec": {
   "display_name": "Python 3",
   "language": "python",
   "name": "python3"
  },
  "language_info": {
   "codemirror_mode": {
    "name": "ipython",
    "version": 3
   },
   "file_extension": ".py",
   "mimetype": "text/x-python",
   "name": "python",
   "nbconvert_exporter": "python",
   "pygments_lexer": "ipython3",
   "version": "3.6.5"
  }
 },
 "nbformat": 4,
 "nbformat_minor": 2
}
