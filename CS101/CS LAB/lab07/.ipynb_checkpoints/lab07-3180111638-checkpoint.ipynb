{
 "cells": [
  {
   "cell_type": "markdown",
   "metadata": {},
   "source": [
    "\n",
    "## `lab07`—Waves and Harmonies"
   ]
  },
  {
   "cell_type": "markdown",
   "metadata": {},
   "source": [
    "## Objectives\n",
    "\n",
    "-   Utilize NumPy to construct and solve a numerical system.\n",
    "-   Apply the finite difference method to solve the wave equation in one dimensions.\n",
    "-   Utilize SciPy (new library) for special functions useful in solving the wave equation in two dimensions.\n",
    "-   There are 6 questions to answer."
   ]
  },
  {
   "cell_type": "markdown",
   "metadata": {},
   "source": [
    "Double-click here to list collaborators' or partners' **StudentIDs** here:  ☐"
   ]
  },
  {
   "cell_type": "markdown",
   "metadata": {},
   "source": [
    "The ancient Greek Pythagoras believed that numbers and *ratios* had special powers and could reveal the laws of nature (like fengshui or I-Ch'ng).  According to the legend, he discovered the ratios of musical notes by listening to the vibrations of strings of different lengths, and launched the theoretical exploration of both music and pure mathematics.\n",
    "\n",
    "In today's lab, we will explore harmonics and numerically solve certain cases of string and plate harmonics using NumPy and SciPy.  As we will use these throughout, first we'll go ahead and import the libraries:"
   ]
  },
  {
   "cell_type": "code",
   "execution_count": 3,
   "metadata": {},
   "outputs": [],
   "source": [
    "# Make sure that you run this cell to import the necessary libraries.\n",
    "import numpy as np\n",
    "import scipy as sp\n",
    "import matplotlib as mpl\n",
    "import matplotlib.pyplot as plt\n",
    "%matplotlib inline\n",
    "mpl.rcParams['figure.figsize'] = 7,7"
   ]
  },
  {
   "cell_type": "markdown",
   "metadata": {},
   "source": [
    "### Simple String Harmonics"
   ]
  },
  {
   "cell_type": "markdown",
   "metadata": {},
   "source": [
    "A plucked string vibrates.  This is a simple observation, but how much of music depends on it!  We're going to model how vibrations travel as waves through a string, just like these vibrations:\n",
    "\n",
    "<img src=\"https://upload.wikimedia.org/wikipedia/commons/0/00/Vibration_corde_trois_modes.gif\" width=\"400px;\"/>\n",
    "\n",
    "Vibrations are waves, and as such they are governed by the *wave equation*.  We'll numerically solve this equation for a string and then for a plate, which will give you an idea how basic numerical algorithms work in Python.  Details are shared in an appendix to this lab."
   ]
  },
  {
   "cell_type": "markdown",
   "metadata": {},
   "source": [
    "#### Governing Equations"
   ]
  },
  {
   "cell_type": "markdown",
   "metadata": {},
   "source": [
    "We write the *wave equation* to describe how it moves in space given certain *boundary conditions*  The boundary conditions specify that the string ends are secured, or *fixed*.  For a $1 \\,\\text{m} \\times 1 \\,\\text{m}$ plate,\n",
    "\n",
    "$$\n",
    "\\frac{\\partial^2 u}{\\partial t^2} - c^2 \\frac{\\partial^2 u}{\\partial x^2} = 0\n",
    "\\hspace{5cm}\n",
    "\\begin{eqnarray}\n",
    "u(0, t) = 0 \\\\\n",
    "u(1, t) = 0\n",
    "\\end{eqnarray}\n",
    "$$\n",
    "\n",
    "$u$ describes the position of the string at location $x$ at time $t$.  The wave equation means that the propagation of a disturbance (a wave) in *time* can be related to its propagation in space via the speed of travel $c$.  That's just what the second derivatives do in this equation.\n",
    "\n",
    "We'll use the *finite difference method* (FDM) to numerically solve this problem.  You will learn this during your Year Two mathematics class. In FDM, one converts a differential equation over a continuous space to a matrix equation over a grid.\n",
    "\n",
    "![](./img/fdm.png)\n",
    "\n",
    "(As you can see, one consequence of this is that we will only have solutions at particular points rather than everywhere.  Some error is necessarily introduced in this process.)\n",
    "\n",
    "After some derivation, we numerically solve the equation\n",
    "\n",
    "$$\n",
    "\\frac{u^{n+1}_{i} - 2u^{n}_{i} + u^{n-1}_{i}}{\\Delta t^2} - c^2 \\frac{u^{n}_{i+1} - 2u^{n}_{i} + u^{n}_{i-1}}{\\Delta x^2} = 0\n",
    "\\hspace{2cm}\n",
    "\\begin{eqnarray}\n",
    "u^n_0 = 0 \\\\\n",
    "u^n_{i_{\\max}} = 0\n",
    "\\end{eqnarray} \\,\\text{.}\n",
    "$$\n",
    "\n",
    "or, for a single grid point,\n",
    "\n",
    "$$\n",
    "u^{n+1}_{i} = \\left( \\frac{c^2 \\Delta t^2}{\\Delta x^2} \\right) \\left( u^{n}_{i+1} + u^{n}_{i-1} \\right) + 2 \\left( 1 - \\left( \\frac{c^2 \\Delta t^2}{\\Delta x^2} \\right) \\right) u^{n}_{i} - u^{n-1}_{i} \\,\\text{.}\n",
    "$$\n",
    "\n",
    "$\\Delta t$ and $\\Delta x$ represent the time step size and distance between two grid points, respectively.\n",
    "$u^{n+1}_{i}$ is the position of the string at position i at future time step which is n+1 (see `unew` below).\n",
    "$u^{n}_{i}$ is the position of the string at position i at current time which is n (see `u` below).\n",
    "$u^{n-1}_{i}$ is the position of the string at position i at previous time step which is n-1 (see `uold` below).\n",
    "\n",
    "That looks scarely, doesn't it?  Let's see what's going on.\n",
    "\n",
    "Basically, we've created a grid describing a string.  We then have a way of relating the *current* ($n$) and *past* ($n-1$) points together to predict the *next step* point ($n+1$).  This equation just tells us what the proportions of the other grid values should be in order to obtain an estimate of $u^{n+1}_{i}$. The vertical direction gives the different points in time, the horizontal direction gives the different points along the string.\n",
    "\n",
    "![](./img/fdm-stencil.png)"
   ]
  },
  {
   "cell_type": "markdown",
   "metadata": {
    "collapsed": true
   },
   "source": [
    "#### Implementation"
   ]
  },
  {
   "cell_type": "markdown",
   "metadata": {},
   "source": [
    "First let's define the broad parameters of our simulation.  Any time we want to run this simulation for slightly different circumstances, these are the values we need to revisit.\n",
    "\n",
    "-   Create the following variables.  Include appropriate comments.\n",
    "\n",
    "| Variable | Value  | Purpose |\n",
    "| -------- | ------ | ------- |\n",
    "| `c`      | `0.01`  | wave velocity |\n",
    "| `tmax`      | `10.0` | maximum time |\n",
    "| `nt`     | `1000` | number of time steps (total) |\n",
    "| `xmin`   | `0.0`  | minimum $x$-coordinate |\n",
    "| `xmax`   | `1.0`  | maximum $x$-coordinate |\n",
    "| `nx`     | `250`  | number of grid coordinates |\n",
    "| `dt`     | $\\frac{t}{n_t}$ | size of time step |\n",
    "| `dx`     | $\\frac{x_{\\max} - x_{\\min}}{n_x}$ | size of grid coordinates |"
   ]
  },
  {
   "cell_type": "code",
   "execution_count": 4,
   "metadata": {
    "nbgrader": {
     "grade": false,
     "grade_id": "1dsetup_vars",
     "locked": false,
     "solution": true
    }
   },
   "outputs": [],
   "source": [
    "##########################################################################\n",
    "#####################  Question 1 (16 points) ############################\n",
    "##########################################################################\n",
    "\n",
    "'''\n",
    "Initialize all variables given from the table.\n",
    "'''\n",
    "c = 0.01 # wave velocity\n",
    "tmax = 10.0 # max time\n",
    "nt   = 1000 # number of steps\n",
    "xmin = 0.0 # min x coord\n",
    "xmax = 1.0 # max x coord\n",
    "nx   = 250 # number of grid coords\n",
    "dt   = tmax/nt # size of step\n",
    "dx   = (xmax - xmin)/nx # size of grid coord"
   ]
  },
  {
   "cell_type": "code",
   "execution_count": 5,
   "metadata": {
    "deletable": false,
    "editable": false,
    "nbgrader": {
     "grade": true,
     "grade_id": "test-1dsetup_vars",
     "locked": true,
     "points": 1,
     "solution": false
    }
   },
   "outputs": [
    {
     "name": "stdout",
     "output_type": "stream",
     "text": [
      "Success!\n"
     ]
    }
   ],
   "source": [
    "# your code should pass these tests---do NOT edit this cell\n",
    "from numpy import isclose\n",
    "assert type(c)    == float and c    == 0.01\n",
    "assert type(tmax) == float and tmax == 10.0\n",
    "assert type(nt)   == int   and nt   == 1000\n",
    "assert type(xmin) == float and xmin == 0.0\n",
    "assert type(xmax) == float and xmax == 1.0\n",
    "assert type(nx)   == int   and nx   == 250\n",
    "assert isclose(dt, 0.01)\n",
    "assert isclose(dx, 0.004)\n",
    "print('Success!')"
   ]
  },
  {
   "cell_type": "markdown",
   "metadata": {
    "collapsed": true
   },
   "source": [
    "We need a few things to track the data for our numerical solver to work.  We'll use NumPy arrays to store our grid values.  Making a grid is straightforward with `np.linspace` and `np.zeros`.\n",
    "\n",
    "-   $u_n$ will represent the current time step.\n",
    "-   $u_{n-1}$ represents the previous time step; call it `uold`.\n",
    "-   $u_{n+1}$ represents the next time step; call it `unew`.\n",
    "\n",
    "The function [`np.zeros`](https://docs.scipy.org/doc/numpy/reference/generated/numpy.zeros.html) accepts a *length* and returns an array of that size.  The function [`np.linspace`](https://docs.scipy.org/doc/numpy/reference/generated/numpy.linspace.html) will also be useful in defining the $x$ values from `xmin` to `xmax`, with `nx+1` points to generate `nx` intervals."
   ]
  },
  {
   "cell_type": "markdown",
   "metadata": {},
   "source": [
    "-   Define the following array variables.  These should be sufficient to store all grid values as well as the left and right boundary conditions.  For this purpose, they should have `nx+1` points.\n",
    "\n",
    "| Variable | Explanation | Initial Condition |\n",
    "| -------- | ----------- | ----------------- |\n",
    "| `uold`   | store past grid values (representing time step $i-1$) | all zeroes, of size $n_x+1$ |\n",
    "| `u`      | store current grid values (representing time step $i$) | all zeroes, of size $n_x+1$ |\n",
    "| `unew`   | store future grid values (representing time step $i+1$) | all zeroes, of size $n_x+1$ |\n",
    "| `x`      | $x$ positions along grid, $x_i$ | from `xmin` to `xmax`, of size $n_x+1$ |"
   ]
  },
  {
   "cell_type": "code",
   "execution_count": 6,
   "metadata": {
    "nbgrader": {
     "grade": false,
     "grade_id": "1dsetup_arrays",
     "locked": false,
     "solution": true
    }
   },
   "outputs": [],
   "source": [
    "##########################################################################\n",
    "#####################  Question 2 (16 points) ############################\n",
    "##########################################################################\n",
    "\n",
    "#  Create your array variables here.\n",
    "uold = np.zeros((nx+1,))\n",
    "u = np.zeros((nx+1,))\n",
    "unew = np.zeros((nx+1,))\n",
    "x = np.linspace(xmin,xmax,nx+1)"
   ]
  },
  {
   "cell_type": "code",
   "execution_count": 7,
   "metadata": {
    "deletable": false,
    "editable": false,
    "nbgrader": {
     "grade": true,
     "grade_id": "test-1dsetup_arrays",
     "locked": true,
     "points": 1,
     "solution": false
    }
   },
   "outputs": [
    {
     "name": "stdout",
     "output_type": "stream",
     "text": [
      "Success!\n"
     ]
    }
   ],
   "source": [
    "# your code should pass these tests---do NOT edit this cell\n",
    "from numpy import isclose\n",
    "assert type( u )    == np.ndarray and u.shape    == ( nx+1, ) and u[ 10 ]    == 0.0\n",
    "assert type( uold ) == np.ndarray and uold.shape == ( nx+1, ) and uold[ 10 ] == 0.0\n",
    "assert type( unew ) == np.ndarray and unew.shape == ( nx+1, ) and unew[ 10 ] == 0.0\n",
    "assert type( x )    == np.ndarray and x.shape    == ( nx+1, ) and isclose( x[ 10 ],0.04 )\n",
    "print( 'Success!' )"
   ]
  },
  {
   "cell_type": "markdown",
   "metadata": {
    "collapsed": true
   },
   "source": [
    "We now require an initial condition.  We didn't specify that previously; let's use\n",
    "\n",
    "$$\n",
    "u(x, 0) = sin(2 \\pi x)\n",
    "$$\n",
    "\n",
    "which satisfies the boundary conditions as well.\n",
    "\n",
    "-   Initialize `u` to the initial condition; you may use the `np.sin` function and `np.pi`.  Make `uold` equal to a *copy* of `u` (*i.e.*, use the `copy` method); this is necessary to make sure that you have two separate arrays rather than two names for the same array."
   ]
  },
  {
   "cell_type": "code",
   "execution_count": 8,
   "metadata": {
    "nbgrader": {
     "grade": false,
     "grade_id": "1dsetup_init",
     "locked": false,
     "solution": true
    }
   },
   "outputs": [],
   "source": [
    "##########################################################################\n",
    "#####################  Question 3 (8 points) ############################\n",
    "##########################################################################\n",
    "\n",
    "'''\n",
    "Initialize u and uold.  This will overwrite your previous creation, but should be the same size.\n",
    "Use x to calculate u; uold can be a *copy* of u.\n",
    "Think:  why don't we need to initialize unew?\n",
    "''' \n",
    "u = np.sin(2*np.pi*x)\n",
    "uold = u.copy()"
   ]
  },
  {
   "cell_type": "code",
   "execution_count": 9,
   "metadata": {
    "deletable": false,
    "editable": false,
    "nbgrader": {
     "grade": true,
     "grade_id": "test-1dsetup_init",
     "locked": true,
     "points": 1,
     "solution": false
    },
    "scrolled": true
   },
   "outputs": [
    {
     "name": "stdout",
     "output_type": "stream",
     "text": [
      "Success!\n"
     ]
    }
   ],
   "source": [
    "# your code should pass these tests---do NOT edit this cell\n",
    "from numpy import isclose\n",
    "assert isclose( u[ 0 ],0.0 ) and isclose( u[ -1 ],0.0 ) and isclose( u[ 1 ],0.0251301 )\n",
    "assert ( u == uold ).all() and uold is not u\n",
    "print( 'Success!' )"
   ]
  },
  {
   "cell_type": "markdown",
   "metadata": {
    "collapsed": true
   },
   "source": [
    "Finally we're ready for the *main loop*.  This is a very common pattern in numerical codes:  set up the equation and variables, then progressively solve the equation for each time step moving through the entire simulation.\n",
    "\n",
    "Recall the equation we're interested in solving for each data point:\n",
    "\n",
    "$$\n",
    "u^{n+1}_{i} = \\left( \\frac{c^2 \\Delta t^2}{\\Delta x^2} \\right) \\left( u^{n}_{i+1} + u^{n}_{i-1} \\right) + 2 \\left( 1 - \\left( \\frac{c^2 \\Delta t^2}{\\Delta x^2} \\right) \\right) u^{n}_{i} - u^{n-1}_{i} \\,\\text{.}\n",
    "$$\n",
    "\n",
    "You can see that `unew` is $u^{n+1}_{i}$, `u` is $u^{n}_{i}$, and `uold` is $u^{n-1}_{i}$.\n",
    "\n",
    "$u^{n+1}_{i}$ is the position of the string at position i at future time step which is n+1 (represented as `unew[i]`).\n",
    "\n",
    "$u^{n}_{i+1}$ is the position of the string at position i+1 at current time step which is n (represented as `u[i+1]`).\n",
    "\n",
    "$u^{n}_{i-1}$ is the position of the string at position i-1 at current time step which is n (represented as `u[i-1]`).\n",
    "\n",
    "$u^{n}_{i}$ is the position of the string at position i at current time which is n (represented as `u[i]`).\n",
    "\n",
    "$u^{n-1}_{i}$ is the position of the string at position i at previous time step which is n-1 (represented as `uold[i]`).\n",
    "\n",
    "Hence, as the time passes, the new position of the i-th point on the string depends on `unew[i]`, `u[i+1]`, `u[i-1]`, `u[i]`, and `uold[i]`.\n",
    "\n",
    "First, let's rewrite this in NumPy terms (for an index `i` which we haven't defined yet):\n",
    "\n",
    "    s = c**2 * dt**2 / dx**2\n",
    "    unew[ i ] = s * ( u[ i+1 ] + u[ i-1 ] ) + 2*( 1-s )*u[ i ] - uold[ i ]\n",
    "\n",
    "Since we're going to solve this for many time steps $n$, we need to carry out the following process for each `n`.\n",
    "\n",
    "-   Create a loop which follows the above process.\n",
    "\n",
    "    0.  Loop over each time step `n` in the range from `n=0` to `n=nt-1`.\n",
    "    1.  Loop over each spatial index `i` from one to `nx-1`.  This preserves the boundary conditions of zero at indices `i=0` and `i=nx`.\n",
    "    1.  Calculate the value of `unew`.\n",
    "    2.  Change the value of `uold` to the current value of `u` (a copy).\n",
    "    3.  Change the value of `u` to the current value of `unew` (a copy)."
   ]
  },
  {
   "cell_type": "code",
   "execution_count": 10,
   "metadata": {
    "nbgrader": {
     "grade": false,
     "grade_id": "1dexec",
     "locked": false,
     "solution": true
    }
   },
   "outputs": [],
   "source": [
    "##########################################################################\n",
    "#####################  Question 4 (20 points) ############################\n",
    "##########################################################################\n",
    "'''\n",
    "Simulate the wave until the end of time. Copy the u and uold from above to here before you start`\n",
    "'''\n",
    "u = np.sin(2*np.pi*x)\n",
    "uold = u.copy()\n",
    "s = c**2 * dt**2 / dx**2\n",
    "#  Define your main numerical loop here.\n",
    "#  1. Loop over each time step in the range from n=0 to n=nt-1.\n",
    "#  This loop changes the time step n so that you can get the waveform at different time\n",
    "for n in range(0, nt):\n",
    "    #  2. Loop over each spatial index from i=1 to i=nx-1. This preserves\n",
    "    #     the boundary conditions of zero at indices i=0 and i=nx.\n",
    "    #  This solves the new positions of all the points (all the i) on the string\n",
    "    for i in range(1, nx):   \n",
    "        #  3. Calculate the value of unew.\n",
    "        unew[ i ] = s * ( u[ i+1 ] + u[ i-1 ] ) + 2*( 1-s )*u[ i ] - uold[ i ]\n",
    "\n",
    "    #  4. Change the value of uold to the current value of u (using copy).\n",
    "    uold = u.copy()\n",
    "\n",
    "    #  5. Change the value of u to the current value of unew (using copy).\n",
    "    u = unew.copy()\n",
    "#  You should now have an array u which contains the current position of the wave at time n=nt."
   ]
  },
  {
   "cell_type": "code",
   "execution_count": 11,
   "metadata": {
    "deletable": false,
    "nbgrader": {
     "grade": true,
     "grade_id": "test-1dexec",
     "locked": true,
     "points": 1,
     "solution": false
    }
   },
   "outputs": [
    {
     "name": "stdout",
     "output_type": "stream",
     "text": [
      "Success!\n"
     ]
    }
   ],
   "source": [
    "# your code should pass these tests---do NOT edit this cell\n",
    "from nose.tools import assert_equal, assert_is_not\n",
    "\n",
    "assert type( u )    == np.ndarray and u.shape    == ( nx+1, )\n",
    "assert type( uold ) == np.ndarray and uold.shape == ( nx+1, )\n",
    "assert type( unew ) == np.ndarray and unew.shape == ( nx+1, )\n",
    "\n",
    "assert_equal( np.isclose( uold[ 2 ],4.06582729e-02 ),True, msg=\"\\nYour array `uold` seems to be off.\" )\n",
    "assert_equal( np.isclose( u[ 2 ],   4.06397178e-02 ),True, msg=\"\\nYour array `u` seems to be off.\" )\n",
    "assert_equal( np.isclose( unew[ 2 ],4.06397178e-02 ),True, msg=\"\\nYour array `unew` seems to be off (at this point, it should be equal to `u`.\" )\n",
    "\n",
    "print('Success!')"
   ]
  },
  {
   "cell_type": "markdown",
   "metadata": {},
   "source": [
    "Now plot the *results* of the equation solution."
   ]
  },
  {
   "cell_type": "code",
   "execution_count": 31,
   "metadata": {},
   "outputs": [
    {
     "data": {
      "image/png": "[encoded data removed]",
      "text/plain": [
       "<Figure size 432x288 with 1 Axes>"
      ]
     },
     "metadata": {},
     "output_type": "display_data"
    }
   ],
   "source": [
    "##########################################################################\n",
    "#####################  Question 5 (12 points) ############################\n",
    "##########################################################################\n",
    "'''\n",
    "Simulate the wave.  Copy the loop from above.\n",
    "After EACH iteration of simulation, plot u.\n",
    "'''\n",
    "for n in range(0, nt):\n",
    "    for i in range(1, nx):\n",
    "            unew[ i ] = s * ( u[ i+1 ] + u[ i-1 ] ) + 2*( 1-s )*u[ i ] - uold[ i ]\n",
    "    plt.plot(x,unew)\n",
    "    uold = u.copy()\n",
    "    u = unew.copy()\n",
    "plt.xlabel('x')\n",
    "plt.ylabel('y')\n",
    "plt.title('wave equation')\n",
    "#  1. Plot the values of x, unew (make sure your arguments to plt.plot() are in the correct order).\n",
    "#     You may use any line style you like ('b-', 'r--', etc.).\n",
    "    #  2. Loop over each spatial index from one to nx-1. This preserves\n",
    "    #     the boundary conditions of zero at indices i=0 and i=nx+1.\n",
    "        #  3. Calculate the value of unew.\n",
    "        #  4. Change the value of uold to the current value of u (using copy).\n",
    "        #  5. Change the value of u to the current value of unew (using copy).\n",
    "#  2. Add labels to the x-axis 'x' and the y-axis 'y', as well as a title 'wave equation'.\n",
    "\n",
    "\n",
    "# Don't use plt.show(), as it messes up the autograder.\n",
    "test_axes = plt.gca()"
   ]
  },
  {
   "cell_type": "code",
   "execution_count": 32,
   "metadata": {
    "deletable": false,
    "editable": false,
    "nbgrader": {
     "grade": true,
     "grade_id": "test-1dexec-plot1",
     "locked": true,
     "points": 1,
     "solution": false
    }
   },
   "outputs": [
    {
     "name": "stdout",
     "output_type": "stream",
     "text": [
      "Success!\n"
     ]
    }
   ],
   "source": [
    "# your code should pass these tests---do NOT edit this cell\n",
    "from nose.tools import assert_equal, assert_is_not\n",
    "import matplotlib as mpl\n",
    "\n",
    "assert_equal( isinstance( test_axes,mpl.axes.Axes ),True, msg=\"\\nYour code does not create a plot.\" )\n",
    "assert_equal( len( test_axes.get_lines() ),1000,msg=\"\\nYour plot does not have the correct number of lines.  (Did you plt.show() it?  You shouldn't.)\" )\n",
    "\n",
    "print( 'Success!' )"
   ]
  },
  {
   "cell_type": "markdown",
   "metadata": {},
   "source": [
    "### Plate Harmonics"
   ]
  },
  {
   "cell_type": "markdown",
   "metadata": {},
   "source": [
    "The beat of a drum or the crash of cymbals relies on more than one-dimensional vibration.  Higher-order harmonics become necessary to describe shapes pulsing or vibrating in higher dimensions.  German physicist Ernst Chladni devised [a clever means of discovering these shapes empirically](https://infogalactic.com/info/Ernst_Chladni#Chladni_figures):  coat the surface with a thin layer of sand, which concentrates when the plate is struck on the vibrational nodes (or stationary parts of the wave).  Dramatic and beautiful pictures can be obtained.  ([Videos](https://youtu.be/1yaqUI4b974) are also available (might not be so available in China).\n",
    "\n",
    "![](https://i.ytimg.com/vi/wMIvAsZvBiw/hqdefault.jpg)\n",
    "\n",
    "![](https://static.squarespace.com/static/549dcda5e4b0a47d0ae1db1e/54a06d6ee4b0d158ed95f696/54a06d70e4b0d158ed9602ae/1378862083897/1000w/Chladni_patterns.png)\n",
    "\n",
    "The mathematical theory of the wave equation underlying this effect in two and three dimensions is now well-understood, and we can use simple assumptions to calculate the modes of vibration for square and circular plates.  Arbitrary shapes require heavier-duty numerics to obtain."
   ]
  },
  {
   "cell_type": "markdown",
   "metadata": {},
   "source": [
    "#### Governing Equations"
   ]
  },
  {
   "cell_type": "markdown",
   "metadata": {},
   "source": [
    "<div class=\"alert alert-info\">\n",
    "*We don't actually have to solve the wave equation to obtain the Chladni patterns.*  We already know that the lines of sand concentrate at the standing nodes, where the amplitude is zero always.  Therefore we can simply set the form of the equation equal to zero and solve for the lines where this condition holds:\n",
    "\n",
    "$$\n",
    "  a \\sin\\left( \\pi n x \\right) \\sin\\left( \\pi m y \\right)\n",
    "+ b \\sin\\left( \\pi m x \\right) \\sin\\left( \\pi n y \\right)\n",
    "= 0\n",
    "$$\n",
    "\n",
    "This will be automatically done by making a *contour plot* of the answer, since there will be a contour at height $u = 0$.\n",
    "\n",
    "There are four parameters we can set in this equation—$a$, $b$, $m$, $n$—before we can solve for $x$ and $y$.  $a = b = +1$ is a reasonable starting point, but feel free to play around with these values as well."
   ]
  },
  {
   "cell_type": "markdown",
   "metadata": {},
   "source": [
    "-   Compose a function `chladni` which accepts as parameters `a`, `b`, `m`, `n`.  `chladni` should return a plot of the solution.  (We return it from the function so we can test it for correctness below.)  Use the following code outline to guide your code."
   ]
  },
  {
   "cell_type": "code",
   "execution_count": 35,
   "metadata": {
    "nbgrader": {
     "grade": false,
     "grade_id": "chladni",
     "locked": false,
     "solution": true
    }
   },
   "outputs": [],
   "source": [
    "##########################################################################\n",
    "#####################  Question 6 (16 points) ############################\n",
    "##########################################################################\n",
    "\n",
    "def chladni( a,b,m,n ):\n",
    "    '''\n",
    "    Plot Chladni graph with given parameters.\n",
    "    Args:\n",
    "        a, b, m, n: arbitrary int numbers for generation\n",
    "    Returns:\n",
    "        plot\n",
    "    '''\n",
    "    \n",
    "    npts = 101  # set the number of grid points to 101\n",
    "    \n",
    "    # Set up coordinate grids in x and y from -1 to +1 with npts intervals in each.  Use NumPy's linspace.\n",
    "    x = np.linspace(-1,1,npts)\n",
    "    y = np.linspace(-1,1,npts)\n",
    "    \n",
    "    # Set up a solution 2D-grid u of size (npts, npts).  Use NumPy's zeros or empty.\n",
    "    u = np.zeros((npts,npts))\n",
    "    \n",
    "    # Solve the equation for each point of the grid in x and y.\n",
    "    # You'll need to import NumPy to get sin and pi.\n",
    "    for ix in range( npts ):\n",
    "        for iy in range( npts ):\n",
    "            u[ ix,iy ] = a*np.sin(np.pi*n*x[ix])*np.sin(np.pi*m*y[iy])+b*np.sin(np.pi*m*ix)*np.sin(np.pi*n*iy)\n",
    "    \n",
    "    #asin(πnx)sin(πmy)+bsin(πmx)sin(πny)=0\n",
    "\n",
    "    # This is a contour plot with one curve and a 5-pixel-thick line.\n",
    "    plot = plt.contour( x,y,u,0,linewidths=5 )\n",
    "    \n",
    "    # Plots are confusing.  But for the kind of plot we want (a contour plot),\n",
    "    # we have to set the x and y labels like this:\n",
    "    plot.ax.set_xlabel( 'x' )\n",
    "    # Set a y label as well:\n",
    "    plot.ax.set_ylabel( 'y' )\n",
    "    # Title the plot 'Chladni plot':\n",
    "    plot.ax.set_title( 'Chladni plot' )\n",
    "    \n",
    "    return plot"
   ]
  },
  {
   "cell_type": "code",
   "execution_count": 36,
   "metadata": {},
   "outputs": [
    {
     "data": {
      "text/plain": [
       "<matplotlib.contour.QuadContourSet at 0x1de8bf10978>"
      ]
     },
     "execution_count": 36,
     "metadata": {},
     "output_type": "execute_result"
    },
    {
     "data": {
      "image/png": "[encoded data removed]",
      "text/plain": [
       "<Figure size 432x288 with 1 Axes>"
      ]
     },
     "metadata": {},
     "output_type": "display_data"
    }
   ],
   "source": [
    "# feel free to test your code here---try lots of values for the parameters!\n",
    "# you can try to reproduce many of the shapes in the diagram below\n",
    "chladni( 10,9,2,3 )"
   ]
  },
  {
   "cell_type": "markdown",
   "metadata": {},
   "source": [
    "![](https://static.squarespace.com/static/549dcda5e4b0a47d0ae1db1e/54a06d6ee4b0d158ed95f696/54a06d70e4b0d158ed9602ae/1378862083897/1000w/Chladni_patterns.png)"
   ]
  },
  {
   "cell_type": "code",
   "execution_count": 37,
   "metadata": {
    "deletable": false,
    "editable": false,
    "nbgrader": {
     "grade": true,
     "grade_id": "chladni-test-1",
     "locked": true,
     "points": 1,
     "solution": false
    }
   },
   "outputs": [
    {
     "name": "stdout",
     "output_type": "stream",
     "text": [
      "All tests passed successfully.\n"
     ]
    },
    {
     "data": {
      "image/png": "[encoded data removed]",
      "text/plain": [
       "<Figure size 432x288 with 1 Axes>"
      ]
     },
     "metadata": {},
     "output_type": "display_data"
    }
   ],
   "source": [
    "# it should pass this test---do NOT edit this cell\n",
    "import matplotlib as mpl\n",
    "from nose.tools import assert_equal, assert_is_not\n",
    "\n",
    "test_axes = chladni( -7,4,1,1 )\n",
    "\n",
    "assert_equal( isinstance( test_axes,mpl.contour.QuadContourSet ),True,msg=\"\\nYour function does not return a contour plot.\" )\n",
    "\n",
    "print( 'All tests passed successfully.' )"
   ]
  },
  {
   "cell_type": "code",
   "execution_count": 38,
   "metadata": {
    "deletable": false,
    "editable": false,
    "nbgrader": {
     "grade": true,
     "grade_id": "chladni-test-2",
     "locked": true,
     "points": 1,
     "solution": false
    }
   },
   "outputs": [
    {
     "name": "stdout",
     "output_type": "stream",
     "text": [
      "All tests passed successfully.\n"
     ]
    },
    {
     "data": {
      "image/png": "[encoded data removed]",
      "text/plain": [
       "<Figure size 432x288 with 1 Axes>"
      ]
     },
     "metadata": {},
     "output_type": "display_data"
    }
   ],
   "source": [
    "# it should pass this test---do NOT edit this cell\n",
    "import matplotlib as mpl\n",
    "from nose.tools import assert_equal, assert_is_not\n",
    "\n",
    "test_axes = chladni( 1,1,-7,4 )\n",
    "\n",
    "assert_is_not( len( test_axes.ax.get_xlabel() ),0,msg=\"\\nYour plot does not have labels on the x-axis.\" )\n",
    "assert_is_not( len( test_axes.ax.get_ylabel() ),0,msg=\"\\nYour plot does not have labels on the y-axis.\" )\n",
    "\n",
    "print( 'All tests passed successfully.' )"
   ]
  },
  {
   "cell_type": "markdown",
   "metadata": {},
   "source": [
    "# Before you submit..."
   ]
  },
  {
   "cell_type": "markdown",
   "metadata": {},
   "source": [
    "### Submission [12 points]\n",
    "Make sure that you have filled your name and studentID as well as answered all the 6 questions.\n",
    "\n",
    "Save this file as lab07-studentID.ipynb then UPLOAD to RELATE!"
   ]
  },
  {
   "cell_type": "markdown",
   "metadata": {},
   "source": [
    "## Appendix (extra information on how to get to the finite difference equation)\n",
    "### Governing Equations for String Vibration\n",
    "\n",
    "Although you don't need to know differential equations to complete this lab, a little background will help you comprehend why the solutions work as they do.  For a string in one dimension, we can write the *wave equation* to describe how it moves in space given certain *boundary conditions*  The boundary conditions specify that the string ends are secured, or *fixed*.  For a $1 \\,\\text{m} \\times 1 \\,\\text{m}$ plate,\n",
    "\n",
    "$$\n",
    "\\frac{\\partial^2 u}{\\partial t^2} - c^2 \\frac{\\partial^2 u}{\\partial x^2} = 0\n",
    "\\hspace{5cm}\n",
    "\\begin{eqnarray}\n",
    "u(0, t) = 0 \\\\\n",
    "u(1, t) = 0\n",
    "\\end{eqnarray}\n",
    "$$\n",
    "\n",
    "$u$ describes the position of the string at location $x$ at time $t$.  The wave equation means that the propagation of a disturbance (a wave) in *time* can be related to its propagation in space via the speed of travel $c$.  That's just what the second derivatives do in this equation.\n",
    "\n",
    "We'll use the *finite difference method* to numerically solve this problem.  In FDM, one converts a differential equation over a continuous space to a matrix equation over a grid.\n",
    "\n",
    "![](./img/fdm.png)\n",
    "\n",
    "(As you can see, one consequence of this is that we will only have solutions at grid points rather than everywhere.  Some error is necessarily introduced in this process.)\n",
    "\n",
    "We will approximate a spatial derivative thus:\n",
    "\n",
    "$$\n",
    "\\frac{\\partial u}{\\partial x} \\approx \\frac{u_{i}-w_{i-1}}{\\Delta x}\n",
    "$$\n",
    "\n",
    "($i$ means the grid point number).  We will do the same in time:\n",
    "\n",
    "$$\n",
    "\\frac{\\partial u}{\\partial t} \\approx \\frac{u^{n}-u^{n-1}}{\\Delta t}\n",
    "$$\n",
    "\n",
    "($n$ means the time step number, *not* an exponent).\n",
    "\n",
    "So instead of trying to analytically solve the equation\n",
    "\n",
    "$$\n",
    "\\frac{\\partial^2 u}{\\partial t^2} + c^2 \\frac{\\partial^2 u}{\\partial x^2} = 0\n",
    "\\hspace{5cm}\n",
    "\\begin{eqnarray}\n",
    "u(0, t) = 0 \\\\\n",
    "u(1, t) = 0\n",
    "\\end{eqnarray} \\,\\text{,}\n",
    "$$\n",
    "\n",
    "we'll numerically solve the equation\n",
    "\n",
    "$$\n",
    "\\frac{u^{n+1}_{i} - 2u^{n}_{i} + u^{n-1}_{i}}{\\Delta t^2} - c^2 \\frac{u^{n}_{i+1} - 2u^{n}_{i} + u^{n}_{i-1}}{\\Delta x^2} = 0\n",
    "\\hspace{2cm}\n",
    "\\begin{eqnarray}\n",
    "u^n_0 = 0 \\\\\n",
    "u^n_{i_{\\max}} = 0\n",
    "\\end{eqnarray} \\,\\text{.}\n",
    "$$\n",
    "\n",
    "or, for a single grid point,\n",
    "\n",
    "$$\n",
    "u^{n+1}_{i} = \\left( \\frac{c^2 \\Delta t^2}{\\Delta x^2} \\right) \\left( u^{n}_{i+1} + u^{n}_{i-1} \\right) + 2 \\left( 1 - \\left( \\frac{c^2 \\Delta t^2}{\\Delta x^2} \\right) \\right) u^{n}_{i} - u^{n-1}_{i} \\,\\text{.}\n",
    "$$\n",
    "\n",
    "$\\Delta t$ and $\\Delta x$ represent the time step size and spatial grid size, respectively.\n",
    "\n",
    "Basically, we've created a grid describing a string.  We then have a way of relating the *current* ($n$) and *past* ($n-1$) grids together to predict the *next step* grid ($n+1$).  This equation just tells us what the proportions of the other grid values should be in order to obtain an estimate of $u^{n+1}_{i}$.\n",
    "\n",
    "![](./img/fdm-stencil.png)"
   ]
  },
  {
   "cell_type": "markdown",
   "metadata": {},
   "source": [
    "### Governing Equations for Chladni Figures"
   ]
  },
  {
   "cell_type": "markdown",
   "metadata": {},
   "source": [
    "<div class=\"alert alert-info\">\n",
    "As before, you don't need to follow most of the details of this derivation to solve the lab, but it provides context and motivation for what you're doing.\n",
    "</div>\n",
    "\n",
    "In two dimensions, for a square domain, the wave equation is\n",
    "\n",
    "$$\n",
    "\\frac{\\partial^2 u}{\\partial t^2} - c^2 \\left( \\frac{\\partial^2 u}{\\partial x^2} + \\frac{\\partial^2 u}{\\partial y^2} \\right) = 0\n",
    "\\hspace{5cm}\n",
    "\\begin{eqnarray}\n",
    "u(-1,  y, t) = 0 \\\\\n",
    "u(+1,  y, t) = 0 \\\\\n",
    "u( x, -1, t) = 0 \\\\\n",
    "u( y, +1, t) = 0\n",
    "\\end{eqnarray}\n",
    "\\text{.}\n",
    "$$\n",
    "\n",
    "Because the solution is a *standing wave* (cyclical in time), we assume that the solution is of the form\n",
    "\n",
    "$$\n",
    "u(x,y,t) = \\sin\\left( 2 \\pi f t \\right) s\\left( x,y \\right) \\,\\text{.}\n",
    "$$\n",
    "\n",
    "Putting $u$ into the wave equation yields\n",
    "\n",
    "$$\n",
    "- \\left( 2 \\pi f \\right)^2 \\sin\\left( 2 \\pi f \\right) s = c^2 \\sin\\left( 2 \\pi f \\right) \\left( \\frac{\\partial^2 s}{\\partial x^2} + \\frac{\\partial^2 s}{\\partial y^2} \\right) \\text{,}\n",
    "$$\n",
    "\n",
    "which simplifies to\n",
    "\n",
    "$$\n",
    "- \\left( 2 \\pi f \\right)^2 s = \\left( \\frac{\\partial^2 s}{\\partial x^2} + \\frac{\\partial^2 s}{\\partial y^2} \\right) \\text{.}\n",
    "$$\n",
    "\n",
    "Relying on past mathematical experience, we can posit that $s$ is of the form\n",
    "\n",
    "$$\n",
    "s(x,y) = \\sum_{n=0}^{\\infty} \\sum_{m=0}^{\\infty} a_{nm} \\sin\\left( \\pi n x \\right) \\sin\\left( \\pi m y \\right) \\text{.}\n",
    "$$\n",
    "\n",
    "(This is called a *Fourier series*, a way of representing almost any function as a sum of appropriately-sized sine waves.  In this presentation, I'm waving my hand, but it's a legitimate idea you'll encounter later on in your engineering career.)\n",
    "\n",
    "Substituting $s$ in, and much algebra later, leads us to a solution of the form\n",
    "\n",
    "$$\n",
    "s(x,y) =\n",
    "  a \\sin\\left( \\pi n x \\right) \\sin\\left( \\pi m y \\right)\n",
    "+ b \\sin\\left( \\pi m x \\right) \\sin\\left( \\pi n y \\right)\n",
    "\\text{.}\n",
    "$$\n",
    "\n",
    "Rian Hunter provides [a full step-by-step derivation](https://thelig.ht/chladni/) of the solution; we follow his method.\n",
    "\n",
    "Now, *we don't actually have to solve the wave equation to obtain the Chladni patterns.*  We already know that the lines of sand concentrate at the standing nodes, where the amplitude is zero always.  Therefore we can simply set the form of the equation equal to zero and solve for the lines where this condition holds:\n",
    "\n",
    "$$\n",
    "  a \\sin\\left( \\pi n x \\right) \\sin\\left( \\pi m y \\right)\n",
    "+ b \\sin\\left( \\pi m x \\right) \\sin\\left( \\pi n y \\right)\n",
    "= 0\n",
    "$$\n",
    "\n",
    "This will be automatically done by making a *contour plot* of the answer, since there will be a contour at height $u = 0$.\n",
    "\n",
    "There are four parameters we can set in this equation—$a$, $b$, $m$, $n$—before we can solve for $x$ and $y$.  $a = b = +1$ is a reasonable starting point, but feel free to play around with the values as well."
   ]
  },
  {
   "cell_type": "markdown",
   "metadata": {},
   "source": [
    "## Reference\n",
    "\n",
    "-   [Chladni, Ernst Florens Friedrich.  (1830)  *Die Akustik*.](https://books.google.ca/books?id=VecsAAAAYAAJ&dq=chladni+die+akustik&pg=RA1-PA93&hl=en#v=onepage&q&f=true)"
   ]
  },
  {
   "cell_type": "code",
   "execution_count": null,
   "metadata": {},
   "outputs": [],
   "source": []
  },
  {
   "cell_type": "code",
   "execution_count": null,
   "metadata": {},
   "outputs": [],
   "source": []
  }
 ],
 "metadata": {
  "anaconda-cloud": {},
  "kernelspec": {
   "display_name": "Python 3",
   "language": "python",
   "name": "python3"
  },
  "language_info": {
   "codemirror_mode": {
    "name": "ipython",
    "version": 3
   },
   "file_extension": ".py",
   "mimetype": "text/x-python",
   "name": "python",
   "nbconvert_exporter": "python",
   "pygments_lexer": "ipython3",
   "version": "3.6.5"
  }
 },
 "nbformat": 4,
 "nbformat_minor": 1
}
