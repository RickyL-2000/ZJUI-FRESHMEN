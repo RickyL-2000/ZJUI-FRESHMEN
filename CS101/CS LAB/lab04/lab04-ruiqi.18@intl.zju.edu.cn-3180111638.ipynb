{
 "cells": [
  {
   "cell_type": "markdown",
   "metadata": {},
   "source": [
    "#   `lab04`—Expressions, Data, & Formulae"
   ]
  },
  {
   "cell_type": "markdown",
   "metadata": {},
   "source": [
    "**Objectives**\n",
    "\n",
    "-   Access parts of a data value, like a string, using indexing.  <!-- dimdak -->\n",
    "-   Compose expressions and statements using Python syntax.  <!-- nyphud -->\n",
    "-   Use index slicing to access larger pieces of a string.  <!--  -->\n",
    "-   Import a function from a library and use it, such as from `math`.  <!-- syssev -->"
   ]
  },
  {
   "cell_type": "markdown",
   "metadata": {},
   "source": [
    "Double-click to write **your name and Student ID** here: 李瑞琦 3180111638"
   ]
  },
  {
   "cell_type": "markdown",
   "metadata": {},
   "source": [
    "### Recap: How to use the online Python notebook server."
   ]
  },
  {
   "cell_type": "markdown",
   "metadata": {},
   "source": [
    "The following grey cell, in contrast, is an executable *code cell*. \n",
    "\n",
    "Code cells require you to enter Python code (or just read what's already there), and then to execute the cell when you are ready to proceed with the lab.  To do so, select inside of the cell and press Ctrl+Enter or Shift+Enter."
   ]
  },
  {
   "cell_type": "code",
   "execution_count": 1,
   "metadata": {},
   "outputs": [
    {
     "data": {
      "text/plain": [
       "3"
      ]
     },
     "execution_count": 1,
     "metadata": {},
     "output_type": "execute_result"
    }
   ],
   "source": [
    "1 + 2"
   ]
  },
  {
   "cell_type": "markdown",
   "metadata": {},
   "source": [
    "Note that two things happened.  One is that the `In []` gained a number—this is basically the number of inputs you have executed in the notebook.  The absolute number almost never matters, but the *order* often does.  You can execute cells out of order, so you have to be sure that if you change one thing later cells are in fact written with the updated value in mind."
   ]
  },
  {
   "cell_type": "markdown",
   "metadata": {},
   "source": [
    "Alright, now for the good stuff!"
   ]
  },
  {
   "cell_type": "markdown",
   "metadata": {},
   "source": [
    "### How numbers (and other values) work"
   ]
  },
  {
   "cell_type": "markdown",
   "metadata": {},
   "source": [
    "#### Numbers"
   ]
  },
  {
   "cell_type": "markdown",
   "metadata": {},
   "source": [
    "\n",
    "In the previous lab, although you are not told, you have already encountered integers and floating-point numbers, the basic numeric data types of Python. Let us look at these and more data types, which are simply kinds of data you can describe using Python. You can determine the type of a number by using the intuitively-named type function:"
   ]
  },
  {
   "cell_type": "code",
   "execution_count": 2,
   "metadata": {},
   "outputs": [
    {
     "data": {
      "text/plain": [
       "int"
      ]
     },
     "execution_count": 2,
     "metadata": {},
     "output_type": "execute_result"
    }
   ],
   "source": [
    "type(2)"
   ]
  },
  {
   "cell_type": "code",
   "execution_count": 3,
   "metadata": {},
   "outputs": [
    {
     "data": {
      "text/plain": [
       "float"
      ]
     },
     "execution_count": 3,
     "metadata": {},
     "output_type": "execute_result"
    }
   ],
   "source": [
    "type(2.)    # Again, note that `2` is an `int` while `2.` is a `float`."
   ]
  },
  {
   "cell_type": "code",
   "execution_count": 4,
   "metadata": {},
   "outputs": [
    {
     "data": {
      "text/plain": [
       "int"
      ]
     },
     "execution_count": 4,
     "metadata": {},
     "output_type": "execute_result"
    }
   ],
   "source": [
    "type(-1)"
   ]
  },
  {
   "cell_type": "code",
   "execution_count": 5,
   "metadata": {},
   "outputs": [
    {
     "data": {
      "text/plain": [
       "float"
      ]
     },
     "execution_count": 5,
     "metadata": {},
     "output_type": "execute_result"
    }
   ],
   "source": [
    "type(1.564e15)"
   ]
  },
  {
   "cell_type": "markdown",
   "metadata": {},
   "source": [
    "No surprises there.  *Promotion* is the phenomenon which occurs when (compatible) data types of different kinds are operated on together.  For instance, a `float` plus an `int` is a `float`:"
   ]
  },
  {
   "cell_type": "code",
   "execution_count": 6,
   "metadata": {},
   "outputs": [
    {
     "data": {
      "text/plain": [
       "float"
      ]
     },
     "execution_count": 6,
     "metadata": {},
     "output_type": "execute_result"
    }
   ],
   "source": [
    "type(1e5+1)"
   ]
  },
  {
   "cell_type": "markdown",
   "metadata": {},
   "source": [
    "Sometimes functions change a number type, even if the result could be represented as the original type (`int`).  This can occur when intermediate steps in a calculation use `float`.  Sometimes they don't."
   ]
  },
  {
   "cell_type": "code",
   "execution_count": 7,
   "metadata": {},
   "outputs": [
    {
     "name": "stdout",
     "output_type": "stream",
     "text": [
      "exp(0) =  1.0\n"
     ]
    },
    {
     "data": {
      "text/plain": [
       "float"
      ]
     },
     "execution_count": 7,
     "metadata": {},
     "output_type": "execute_result"
    }
   ],
   "source": [
    "from math import exp  # include a library function for the exponential\n",
    "print('exp(0) = ', exp(0))\n",
    "type(exp(0))"
   ]
  },
  {
   "cell_type": "code",
   "execution_count": 8,
   "metadata": {},
   "outputs": [
    {
     "data": {
      "text/plain": [
       "int"
      ]
     },
     "execution_count": 8,
     "metadata": {},
     "output_type": "execute_result"
    }
   ],
   "source": [
    "type(abs(-1))"
   ]
  },
  {
   "cell_type": "code",
   "execution_count": 9,
   "metadata": {},
   "outputs": [
    {
     "data": {
      "text/plain": [
       "float"
      ]
     },
     "execution_count": 9,
     "metadata": {},
     "output_type": "execute_result"
    }
   ],
   "source": [
    "type(abs(-1.))"
   ]
  },
  {
   "cell_type": "markdown",
   "metadata": {
    "deletable": false,
    "editable": false,
    "nbgrader": {
     "checksum": "76b4c352c3e8f7de2be0bd6c6ac2a3e8",
     "grade": true,
     "grade_id": "parameterize-test",
     "locked": false,
     "points": 1,
     "schema_version": 1,
     "solution": false
    }
   },
   "source": [
    "### Question 1 [5 points]\n",
    "What is the type of the result of the following expression?\n",
    "        \n",
    "        int(exp(abs(-2)) + abs(-1.5)) // 4.5"
   ]
  },
  {
   "cell_type": "code",
   "execution_count": 16,
   "metadata": {},
   "outputs": [
    {
     "data": {
      "text/plain": [
       "float"
      ]
     },
     "execution_count": 16,
     "metadata": {},
     "output_type": "execute_result"
    }
   ],
   "source": [
    "import math # store the result in the variable T and find T's data type\n",
    "T = int ( math.exp ( abs(-2) ) + abs(-1.5) ) // 4.5 # your code here\n",
    "type(T)\n"
   ]
  },
  {
   "cell_type": "markdown",
   "metadata": {
    "deletable": false,
    "editable": false,
    "nbgrader": {
     "checksum": "76b4c352c3e8f7de2be0bd6c6ac2a3e8",
     "grade": true,
     "grade_id": "parameterize-test",
     "locked": false,
     "points": 1,
     "schema_version": 1,
     "solution": false
    }
   },
   "source": [
    "### Question 2 [5 points]\n",
    "What is the type of the result of the following expression?\n",
    "        \n",
    "        abs(int(1.5e4))"
   ]
  },
  {
   "cell_type": "code",
   "execution_count": 17,
   "metadata": {
    "deletable": false,
    "nbgrader": {
     "checksum": "aa6902142260c93f2175b1861a91c183",
     "grade": true,
     "grade_id": "string1",
     "locked": false,
     "points": 1,
     "schema_version": 1,
     "solution": true
    }
   },
   "outputs": [
    {
     "data": {
      "text/plain": [
       "int"
      ]
     },
     "execution_count": 17,
     "metadata": {},
     "output_type": "execute_result"
    }
   ],
   "source": [
    "# store the result in the variable S and find S's data type\n",
    "S = abs ( int(1.5e4) )# your code here\n",
    "type(S)"
   ]
  },
  {
   "cell_type": "markdown",
   "metadata": {},
   "source": [
    "### How to write text"
   ]
  },
  {
   "cell_type": "markdown",
   "metadata": {},
   "source": [
    "Numbers are never enough—you use them to get the math right, but when it comes time to communicating the results to the outside world, you need text.  In programming terms, we refer to a block of text as a *string* (from a _string of characters_).  Some messages are hard-coded, like error messages; others will be generated as necessary by the program.\n",
    "\n",
    "Since we communicate with the Python intepreter using text commands, we also need a way to distinguish between instructions, the machine (code), and messages written as text (strings).  In other words, we need Python to distinguish between"
   ]
  },
  {
   "cell_type": "code",
   "execution_count": 18,
   "metadata": {},
   "outputs": [
    {
     "ename": "SyntaxError",
     "evalue": "invalid syntax (<ipython-input-18-ce2e317b0c8b>, line 1)",
     "output_type": "error",
     "traceback": [
      "\u001b[1;36m  File \u001b[1;32m\"<ipython-input-18-ce2e317b0c8b>\"\u001b[1;36m, line \u001b[1;32m1\u001b[0m\n\u001b[1;33m    print(hello world) which will produce a syntax error\u001b[0m\n\u001b[1;37m                    ^\u001b[0m\n\u001b[1;31mSyntaxError\u001b[0m\u001b[1;31m:\u001b[0m invalid syntax\n"
     ]
    }
   ],
   "source": [
    "print(hello world) which will produce a syntax error"
   ]
  },
  {
   "cell_type": "markdown",
   "metadata": {},
   "source": [
    "and"
   ]
  },
  {
   "cell_type": "code",
   "execution_count": 19,
   "metadata": {},
   "outputs": [
    {
     "name": "stdout",
     "output_type": "stream",
     "text": [
      "hello world\n"
     ]
    }
   ],
   "source": [
    "print('hello world')"
   ]
  },
  {
   "cell_type": "markdown",
   "metadata": {},
   "source": [
    "The string holds the words within quotes as a single unit.  We typically write strings by surrounding our text in single quotes `''` or double quotes `\"\"`:"
   ]
  },
  {
   "cell_type": "code",
   "execution_count": 20,
   "metadata": {},
   "outputs": [
    {
     "data": {
      "text/plain": [
       "'All that glitters is not gold. Often have you heard that told. Many a man his life hath sold. But my outside to behold.'"
      ]
     },
     "execution_count": 20,
     "metadata": {},
     "output_type": "execute_result"
    }
   ],
   "source": [
    "'All that glitters is not gold. Often have you heard that told. Many a man his life hath sold. But my outside to behold.'"
   ]
  },
  {
   "cell_type": "code",
   "execution_count": 21,
   "metadata": {},
   "outputs": [
    {
     "data": {
      "text/plain": [
       "'Who knows what evil lurks in the hearts of men?  The Shadow knows.'"
      ]
     },
     "execution_count": 21,
     "metadata": {},
     "output_type": "execute_result"
    }
   ],
   "source": [
    "'Who knows what evil lurks in the hearts of men?  The Shadow knows.'"
   ]
  },
  {
   "cell_type": "code",
   "execution_count": 22,
   "metadata": {},
   "outputs": [
    {
     "ename": "SyntaxError",
     "evalue": "invalid syntax (<ipython-input-22-9bd7e4ee2112>, line 1)",
     "output_type": "error",
     "traceback": [
      "\u001b[1;36m  File \u001b[1;32m\"<ipython-input-22-9bd7e4ee2112>\"\u001b[1;36m, line \u001b[1;32m1\u001b[0m\n\u001b[1;33m    'I'm sorry, CS101, I'm afraid I can't do that.'\u001b[0m\n\u001b[1;37m       ^\u001b[0m\n\u001b[1;31mSyntaxError\u001b[0m\u001b[1;31m:\u001b[0m invalid syntax\n"
     ]
    }
   ],
   "source": [
    "'I'm sorry, CS101, I'm afraid I can't do that.'"
   ]
  },
  {
   "cell_type": "markdown",
   "metadata": {},
   "source": [
    "That last one has a problem, doesn't it? We wrote a string by marking the ends with single quotes ', but then used a single quote inside of the string.  This thoroughly confused Python, as you can see by the red and black text mixed.\n",
    "\n",
    "This is why Python lets you use either single or double quotes:"
   ]
  },
  {
   "cell_type": "code",
   "execution_count": 23,
   "metadata": {},
   "outputs": [
    {
     "data": {
      "text/plain": [
       "\"I'm in love with CS101.\""
      ]
     },
     "execution_count": 23,
     "metadata": {},
     "output_type": "execute_result"
    }
   ],
   "source": [
    "\"I'm in love with CS101.\""
   ]
  },
  {
   "cell_type": "code",
   "execution_count": 24,
   "metadata": {},
   "outputs": [
    {
     "data": {
      "text/plain": [
       "'You must be \"Crazy\"'"
      ]
     },
     "execution_count": 24,
     "metadata": {},
     "output_type": "execute_result"
    }
   ],
   "source": [
    "'You must be \"Crazy\"'"
   ]
  },
  {
   "cell_type": "markdown",
   "metadata": {},
   "source": [
    "Write the following phrases as Python strings.  (You can copy and paste the text itself into the string.)"
   ]
  },
  {
   "cell_type": "markdown",
   "metadata": {
    "deletable": false,
    "editable": false,
    "nbgrader": {
     "checksum": "76b4c352c3e8f7de2be0bd6c6ac2a3e8",
     "grade": true,
     "grade_id": "parameterize-test",
     "locked": false,
     "points": 1,
     "schema_version": 1,
     "solution": false
    }
   },
   "source": [
    "### Question 3 [5 points]\n",
    "William Shakespeare's play - The Merchant of Venice "
   ]
  },
  {
   "cell_type": "code",
   "execution_count": 25,
   "metadata": {
    "deletable": false
   },
   "outputs": [
    {
     "data": {
      "text/plain": [
       "\"William Shakespeare's play - The Merchant of Venice\""
      ]
     },
     "execution_count": 25,
     "metadata": {},
     "output_type": "execute_result"
    }
   ],
   "source": [
    "\"William Shakespeare's play - The Merchant of Venice\"#Copy and paste using correct quotes\n"
   ]
  },
  {
   "cell_type": "markdown",
   "metadata": {
    "deletable": false,
    "editable": false,
    "nbgrader": {
     "checksum": "aa6902142260c93f2175b1861a91c183",
     "grade": true,
     "grade_id": "string1",
     "locked": false,
     "points": 1,
     "schema_version": 1,
     "solution": true
    }
   },
   "source": [
    "### Question 4 [5 points]\n",
    "- This is a straight double quote, \", while these are curly double quotes: “, ”."
   ]
  },
  {
   "cell_type": "code",
   "execution_count": 26,
   "metadata": {
    "deletable": false,
    "nbgrader": {
     "checksum": "069ff823ddaee65685c95c0e6380e167",
     "grade": true,
     "grade_id": "string2",
     "locked": false,
     "points": 1,
     "schema_version": 1,
     "solution": true
    }
   },
   "outputs": [
    {
     "data": {
      "text/plain": [
       "'This is a straight double quote, \", while these are curly double quotes: “, ”.'"
      ]
     },
     "execution_count": 26,
     "metadata": {},
     "output_type": "execute_result"
    }
   ],
   "source": [
    "'''This is a straight double quote, \", while these are curly double quotes: “, ”.'''#Copy and paste using correct quotes\n"
   ]
  },
  {
   "cell_type": "markdown",
   "metadata": {},
   "source": [
    "If things get really hairy, you can also use triple-quotes to mark a string:"
   ]
  },
  {
   "cell_type": "markdown",
   "metadata": {
    "deletable": false,
    "editable": false,
    "nbgrader": {
     "checksum": "aa6902142260c93f2175b1861a91c183",
     "grade": true,
     "grade_id": "string1",
     "locked": false,
     "points": 1,
     "schema_version": 1,
     "solution": true
    }
   },
   "source": [
    "### Question 5 [5 points]\n",
    "- \"Are we finishing yet?\" asked an impatient ZJUI's student"
   ]
  },
  {
   "cell_type": "code",
   "execution_count": 87,
   "metadata": {
    "deletable": false
   },
   "outputs": [
    {
     "data": {
      "text/plain": [
       "'\"Are we finishing yet?\" asked an impatient ZJUI\\'s student'"
      ]
     },
     "execution_count": 87,
     "metadata": {},
     "output_type": "execute_result"
    }
   ],
   "source": [
    "'''\"Are we finishing yet?\" asked an impatient ZJUI's student'''#Copy and paste using correct quotes\n"
   ]
  },
  {
   "cell_type": "markdown",
   "metadata": {},
   "source": [
    "<div class=\"alert alert-info\">\n",
    "Notice that the string returned by Python consists of *single quotes* wrapping a sentence containing *double quotes*, which then contain more *single quotes*.  The inner single quotes have a backslash in front of them—this is called an *escape character*, which is a fancy way of saying that the backslash tells Python to treat the single quote as a 'quote' rather than as marking the beginning or end of a string.\n",
    "</div>"
   ]
  },
  {
   "cell_type": "markdown",
   "metadata": {},
   "source": [
    "### How to store a value for future use"
   ]
  },
  {
   "cell_type": "markdown",
   "metadata": {},
   "source": [
    "In physics and engineering, we often worked with labeled unknowns, called *variables*.  This lets us refer to physical or mathematical values without knowing the value ahead of time.  For instance, the ideal gas law represents the relationship between pressure $P$, temperature $T$, and volume $V$, written as\n",
    "\n",
    "$$\n",
    "PV \\propto T \\text{.}\n",
    "$$\n",
    "\n",
    "We can express the relationship between these physical quantities without referring to specific values.\n",
    "\n",
    "For a computer, variables work much the same way—you can use them to write expressions and formulas, and you can use them to store the results of past calculations.  You create a variable using the assignment operator `=` and reuse it using the same name in subsequent expressions:"
   ]
  },
  {
   "cell_type": "code",
   "execution_count": 30,
   "metadata": {},
   "outputs": [],
   "source": [
    "x = 5"
   ]
  },
  {
   "cell_type": "code",
   "execution_count": 31,
   "metadata": {},
   "outputs": [
    {
     "data": {
      "text/plain": [
       "5"
      ]
     },
     "execution_count": 31,
     "metadata": {},
     "output_type": "execute_result"
    }
   ],
   "source": [
    "x"
   ]
  },
  {
   "cell_type": "code",
   "execution_count": 32,
   "metadata": {},
   "outputs": [
    {
     "data": {
      "text/plain": [
       "25"
      ]
     },
     "execution_count": 32,
     "metadata": {},
     "output_type": "execute_result"
    }
   ],
   "source": [
    "x**2"
   ]
  },
  {
   "cell_type": "code",
   "execution_count": 33,
   "metadata": {},
   "outputs": [
    {
     "data": {
      "text/plain": [
       "1"
      ]
     },
     "execution_count": 33,
     "metadata": {},
     "output_type": "execute_result"
    }
   ],
   "source": [
    "x%2"
   ]
  },
  {
   "cell_type": "markdown",
   "metadata": {},
   "source": [
    "You update the value of a variable by simply overwriting it:"
   ]
  },
  {
   "cell_type": "code",
   "execution_count": 35,
   "metadata": {},
   "outputs": [],
   "source": [
    "x = 4.5"
   ]
  },
  {
   "cell_type": "code",
   "execution_count": 36,
   "metadata": {},
   "outputs": [
    {
     "data": {
      "text/plain": [
       "4.5"
      ]
     },
     "execution_count": 36,
     "metadata": {},
     "output_type": "execute_result"
    }
   ],
   "source": [
    "x"
   ]
  },
  {
   "cell_type": "code",
   "execution_count": 37,
   "metadata": {},
   "outputs": [
    {
     "data": {
      "text/plain": [
       "20.25"
      ]
     },
     "execution_count": 37,
     "metadata": {},
     "output_type": "execute_result"
    }
   ],
   "source": [
    "x**2"
   ]
  },
  {
   "cell_type": "markdown",
   "metadata": {},
   "source": [
    "In fact, you can even use a variable's *former* value to give it a *new* value:"
   ]
  },
  {
   "cell_type": "code",
   "execution_count": 38,
   "metadata": {},
   "outputs": [],
   "source": [
    "x = 2*x"
   ]
  },
  {
   "cell_type": "markdown",
   "metadata": {},
   "source": [
    "If you missed it in the first Python lecture, stop and think about this for a moment, because it's very important.  If you were to write down the mathematical statement\n",
    "\n",
    "$$\n",
    "x = 2x \\text{,}\n",
    "$$\n",
    "\n",
    "there is *no nontrival (nonzero) solution*—$x$ divides out of both sides and you are left with the mathematical absurdity $1=2$.  You should *not think* of the assignment operator as reading \"equals\".  That is, `x = 2x` should be read by you as \"`x` is made equal to the value of 2 times `x`\".\n",
    "\n",
    "<div class=\"alert alert-warning\">\n",
    "The *assignment* operator is a single equals sign, `=`, read \"is made equal to\".\n",
    "<br/>\n",
    "The *equality* operator is a double equals sign, `==`, read \"equals\".\n",
    "</div>"
   ]
  },
  {
   "cell_type": "markdown",
   "metadata": {},
   "source": [
    "As you saw in the reading, you can use much more involved variable names, which is a great idea if you don't want to lose track of what you're doing."
   ]
  },
  {
   "cell_type": "code",
   "execution_count": 39,
   "metadata": {},
   "outputs": [],
   "source": [
    "trees_observed = 4\n",
    "max_torque = 5.0\n",
    "middleInitial = 'L'\n",
    "finalSum = 107\n",
    "way_to_Tipperary = 'east-north-east'\n",
    "gretting_msg = \"Call me Ishmael.\""
   ]
  },
  {
   "cell_type": "markdown",
   "metadata": {},
   "source": [
    "A few possible names do not, in fact, work (The following should throw a `Syntax Error`.  We will examine error types later in this course) :"
   ]
  },
  {
   "cell_type": "code",
   "execution_count": 40,
   "metadata": {},
   "outputs": [
    {
     "ename": "SyntaxError",
     "evalue": "invalid syntax (<ipython-input-40-e00999a6b825>, line 1)",
     "output_type": "error",
     "traceback": [
      "\u001b[1;36m  File \u001b[1;32m\"<ipython-input-40-e00999a6b825>\"\u001b[1;36m, line \u001b[1;32m1\u001b[0m\n\u001b[1;33m    4th = 16.5\u001b[0m\n\u001b[1;37m      ^\u001b[0m\n\u001b[1;31mSyntaxError\u001b[0m\u001b[1;31m:\u001b[0m invalid syntax\n"
     ]
    }
   ],
   "source": [
    "4th = 16.5"
   ]
  },
  {
   "cell_type": "code",
   "execution_count": 41,
   "metadata": {},
   "outputs": [
    {
     "ename": "SyntaxError",
     "evalue": "invalid syntax (<ipython-input-41-0dd7977ecaa7>, line 1)",
     "output_type": "error",
     "traceback": [
      "\u001b[1;36m  File \u001b[1;32m\"<ipython-input-41-0dd7977ecaa7>\"\u001b[1;36m, line \u001b[1;32m1\u001b[0m\n\u001b[1;33m    $ = 2\u001b[0m\n\u001b[1;37m    ^\u001b[0m\n\u001b[1;31mSyntaxError\u001b[0m\u001b[1;31m:\u001b[0m invalid syntax\n"
     ]
    }
   ],
   "source": [
    "$ = 2"
   ]
  },
  {
   "cell_type": "markdown",
   "metadata": {},
   "source": [
    "<div class=\"alert alert-warning\">\n",
    "The error that occurs in both of these cases, `SyntaxError`, generally means that you've mistyped something or tried to express something impossible by the rules of Pythonic syntax. Basically, as long as you use only letters, numbers, and the underscore `_` in your variable names, you'll be fine.\n",
    "</div>"
   ]
  },
  {
   "cell_type": "markdown",
   "metadata": {},
   "source": [
    "### How variables make your life easier"
   ]
  },
  {
   "cell_type": "markdown",
   "metadata": {},
   "source": [
    "Imagine writing a long script which depends on the value of a heat transfer coefficient with the value $7.9 \\,\\text{watt}\\cdot\\text{meter}^{-2}\\cdot\\text{kelvin}^{-1}$.  You write a statement to calculate the heat transfer through the wall with a difference of $\\Delta T = 1.2 \\,\\text{kelvin}$ using the value `7.9`:"
   ]
  },
  {
   "cell_type": "code",
   "execution_count": 42,
   "metadata": {},
   "outputs": [
    {
     "name": "stdout",
     "output_type": "stream",
     "text": [
      "The heat flux is 9.48 W/m**2.\n"
     ]
    }
   ],
   "source": [
    "print(\"The heat flux is\",(7.9 * 1.2),\"W/m**2.\" )"
   ]
  },
  {
   "cell_type": "markdown",
   "metadata": {},
   "source": [
    "You may have already noticed the problem here—what happens when the problem changes slightly and you need to use a different heat transfer coefficient or a different $\\Delta T$?  This is where variables shine:\n",
    "\n",
    "$$\n",
    "q = h \\Delta T\n",
    "$$\n",
    "\n",
    "If you set things up properly, you will only have to define a value for $h$ and $\\Delta T$ once, at the beginning of your script, and it will be the same throughout the program.  Otherwise, you might have had to search and replace every single instance—and hope you didn't miss one!"
   ]
  },
  {
   "cell_type": "code",
   "execution_count": 43,
   "metadata": {},
   "outputs": [
    {
     "name": "stdout",
     "output_type": "stream",
     "text": [
      "The heat transfer is 9.48 W/m**2.\n",
      "The heat transfer is 10.270000000000001 W/m**2.\n"
     ]
    }
   ],
   "source": [
    "h = 7.9     # heat transfer coef, W/m^2/K\n",
    "DT = 1.2    # difference in temperature between fluid and surface, K\n",
    "q = h * DT  # heat flux or amount of heat transferred, W/m^2\n",
    "\n",
    "print(\"The heat transfer is\",q,\"W/m**2.\")\n",
    "\n",
    "DT = 1.3\n",
    "q = h * DT  # heat flux or amount of heat transferred, W/m^2\n",
    "\n",
    "print(\"The heat transfer is\",q,\"W/m**2.\")"
   ]
  },
  {
   "cell_type": "markdown",
   "metadata": {},
   "source": [
    "<div class=\"alert alert-info\">\n",
    "Note as well that since physical quantities always have physical dimensions, you should always document these with the value (or include a note to the effect that all values are [SI](https://en.wikipedia.org/wiki/International_System_of_Units), [CGS](https://en.wikipedia.org/wiki/Centimetre%E2%80%93gram%E2%80%93second_system_of_units), [FPS](https://en.wikipedia.org/wiki/Foot%E2%80%93pound%E2%80%93second_system), etc.).\n",
    "<pre><code>max_torque = 5.0  # N*m</code></pre>\n",
    "A brief explanation may be helpful as well:\n",
    "<pre><code>dx = 1e-2  # mesh discretization, m</code></pre>\n",
    "Form this habit now and it will serve you well as you begin writing code, scripts, and longer programs.\n",
    "</div>"
   ]
  },
  {
   "cell_type": "markdown",
   "metadata": {
    "deletable": false,
    "editable": false,
    "nbgrader": {
     "checksum": "aa6902142260c93f2175b1861a91c183",
     "grade": true,
     "grade_id": "string1",
     "locked": false,
     "points": 1,
     "schema_version": 1,
     "solution": true
    }
   },
   "source": [
    "### Question 6 [20 points]\n",
    "-   Correct the following code to use variables `v` and `a` instead of hard-coded values."
   ]
  },
  {
   "cell_type": "code",
   "execution_count": 46,
   "metadata": {
    "deletable": false,
    "nbgrader": {
     "checksum": "ec9658318ff80fae303ea5197eadb6b5",
     "grade": false,
     "grade_id": "parameterize",
     "locked": false,
     "schema_version": 1,
     "solution": true
    }
   },
   "outputs": [],
   "source": [
    "# modify this code\n",
    "# the base equation is:\n",
    "# d = v*t + 0.5*a*t*t\n",
    "v = 5.0\n",
    "a = -9.8\n",
    "t = 10.0\n",
    "\n",
    "# Correct below to include the variables:\n",
    "d = v*t + 0.5*a*t**2"
   ]
  },
  {
   "cell_type": "code",
   "execution_count": 47,
   "metadata": {
    "deletable": false,
    "editable": false,
    "nbgrader": {
     "checksum": "76b4c352c3e8f7de2be0bd6c6ac2a3e8",
     "grade": true,
     "grade_id": "parameterize-test",
     "locked": false,
     "points": 1,
     "schema_version": 1,
     "solution": false
    }
   },
   "outputs": [
    {
     "name": "stdout",
     "output_type": "stream",
     "text": [
      "Success!\n"
     ]
    }
   ],
   "source": [
    "# it should pass this test---do NOT edit this cell\n",
    "from numpy import isclose\n",
    "assert isclose(d, -440)\n",
    "print('Success!')"
   ]
  },
  {
   "cell_type": "markdown",
   "metadata": {},
   "source": [
    "#### Strings & Indexing"
   ]
  },
  {
   "cell_type": "markdown",
   "metadata": {},
   "source": [
    "The basic text data type, the `string`, has already shown up in a few places:\n",
    "    \n",
    "    print(\"I was sleeping through this morning's lecture\")\n",
    "\n",
    "In order to distinguish the human-readable message from the machine command `print`, we surrounded the string with some set of quotes.  *Indexing* means selecting a single letter in a string (or more generally, an element of a sequence).  We do this by placing a bracketed number after a string variable:"
   ]
  },
  {
   "cell_type": "code",
   "execution_count": 50,
   "metadata": {},
   "outputs": [
    {
     "name": "stdout",
     "output_type": "stream",
     "text": [
      "y\n"
     ]
    }
   ],
   "source": [
    "message = \"They were sleeping through this morning's lecture.\"\n",
    "print(message[3])"
   ]
  },
  {
   "cell_type": "markdown",
   "metadata": {},
   "source": [
    "Recall why `message[3]` returns `'y'` not `'e'`.  Typically we would consider `'y'` to be the fourth element of the string, but many programming languages—including Python—instead start counting at zero. In this model, the string message is indexed as follows:\n",
    "\n",
    "| index  | 0 | 1 | 2 | 3 | 4 | 5 | 6 | 7 | 8 | ... | 46 | 47 | 48 | 49 |\n",
    "|--------|---|---|---|---|---|---|---|---|---|-----|----|----|----|----|\n",
    "| letter | T | h | e | y |   | w | e | r | e | ... | u  | r  | e  | .  |\n",
    "\n",
    "Aside from starting with zero, indexing is pretty straightforward."
   ]
  },
  {
   "cell_type": "markdown",
   "metadata": {},
   "source": [
    "<div class=\"alert alert-info\">\n",
    "<p>\n",
    "Programming languages that count from zero are referred to as *zero-indexed*, while those that start from one are *one-indexed*.  The rationale for zero-indexing is to treat the first letter as the beginning of the string. Thus `'h'` is *+1* away from the beginning, `'w'` is *+2* away, etc.  Languages that are “related” to [C](https://en.wikipedia.org/wiki/C_(programming_language) generally adopt this convention.\n",
    "</p><p>\n",
    "One argument for one-indexing is that humans (and mathematicians) count from one \"naturally\".  Languages related to [Fortran](https://en.wikipedia.org/wiki/Fortran) often use one-indexing.\n",
    "</p><p>\n",
    "If you'd like to more information on this, please refer to [this Q&A at Stack Overflow](https://programmers.stackexchange.com/questions/110804/why-are-zero-based-arrays-the-norm).\n",
    "</p>\n",
    "</div>"
   ]
  },
  {
   "cell_type": "code",
   "execution_count": 51,
   "metadata": {},
   "outputs": [
    {
     "data": {
      "text/plain": [
       "'s'"
      ]
     },
     "execution_count": 51,
     "metadata": {},
     "output_type": "execute_result"
    }
   ],
   "source": [
    "message[10]"
   ]
  },
  {
   "cell_type": "code",
   "execution_count": 52,
   "metadata": {},
   "outputs": [
    {
     "ename": "IndexError",
     "evalue": "string index out of range",
     "output_type": "error",
     "traceback": [
      "\u001b[1;31m---------------------------------------------------------------------------\u001b[0m",
      "\u001b[1;31mIndexError\u001b[0m                                Traceback (most recent call last)",
      "\u001b[1;32m<ipython-input-52-1d4f2b183760>\u001b[0m in \u001b[0;36m<module>\u001b[1;34m()\u001b[0m\n\u001b[1;32m----> 1\u001b[1;33m \u001b[0mmessage\u001b[0m\u001b[1;33m[\u001b[0m\u001b[1;36m60\u001b[0m\u001b[1;33m]\u001b[0m\u001b[1;33m\u001b[0m\u001b[0m\n\u001b[0m",
      "\u001b[1;31mIndexError\u001b[0m: string index out of range"
     ]
    }
   ],
   "source": [
    "message[60]"
   ]
  },
  {
   "cell_type": "markdown",
   "metadata": {},
   "source": [
    "(In the last case, we tried to index past the end of the string—we can't do that!)\n",
    "\n",
    "Regular indexing is a fairly natural process for us: it's just counting off with whole numbers. What happens if you use a negative index?"
   ]
  },
  {
   "cell_type": "code",
   "execution_count": 53,
   "metadata": {},
   "outputs": [
    {
     "data": {
      "text/plain": [
       "'.'"
      ]
     },
     "execution_count": 53,
     "metadata": {},
     "output_type": "execute_result"
    }
   ],
   "source": [
    "message[-1]"
   ]
  },
  {
   "cell_type": "markdown",
   "metadata": {},
   "source": [
    "Negative indexing counts down from the end of the string. This is very convenient and saves you the trouble of figuring out the length of the string and then subtracting from that."
   ]
  },
  {
   "cell_type": "markdown",
   "metadata": {},
   "source": [
    "Some things probe the limits of sanity, though:"
   ]
  },
  {
   "cell_type": "code",
   "execution_count": 54,
   "metadata": {},
   "outputs": [
    {
     "ename": "TypeError",
     "evalue": "string indices must be integers",
     "output_type": "error",
     "traceback": [
      "\u001b[1;31m---------------------------------------------------------------------------\u001b[0m",
      "\u001b[1;31mTypeError\u001b[0m                                 Traceback (most recent call last)",
      "\u001b[1;32m<ipython-input-54-f75870a787a2>\u001b[0m in \u001b[0;36m<module>\u001b[1;34m()\u001b[0m\n\u001b[1;32m----> 1\u001b[1;33m \u001b[0mmessage\u001b[0m\u001b[1;33m[\u001b[0m\u001b[1;36m8.5\u001b[0m\u001b[1;33m]\u001b[0m\u001b[1;33m\u001b[0m\u001b[0m\n\u001b[0m",
      "\u001b[1;31mTypeError\u001b[0m: string indices must be integers"
     ]
    }
   ],
   "source": [
    "message[8.5]"
   ]
  },
  {
   "cell_type": "markdown",
   "metadata": {
    "deletable": false,
    "editable": false,
    "nbgrader": {
     "checksum": "aa6902142260c93f2175b1861a91c183",
     "grade": true,
     "grade_id": "string1",
     "locked": false,
     "points": 1,
     "schema_version": 1,
     "solution": true
    }
   },
   "source": [
    "### Question 7 [5 points]\n",
    "What is the index of the following letters in this string?\n",
    "\n",
    "\"You're not fully clean till you're Zestfully clean.\"\n",
    "- `'n'` (first occurance of n)"
   ]
  },
  {
   "cell_type": "code",
   "execution_count": 61,
   "metadata": {
    "deletable": false,
    "nbgrader": {
     "checksum": "aa6902142260c93f2175b1861a91c183",
     "grade": true,
     "grade_id": "string1",
     "locked": false,
     "points": 1,
     "schema_version": 1,
     "solution": true
    }
   },
   "outputs": [],
   "source": [
    "s = \"You're not fully clean till you're Zestfully clean.\"# your answer here as the variable ans,\n",
    "ans = s [7]"
   ]
  },
  {
   "cell_type": "markdown",
   "metadata": {
    "deletable": false,
    "editable": false,
    "nbgrader": {
     "checksum": "aa6902142260c93f2175b1861a91c183",
     "grade": true,
     "grade_id": "string1",
     "locked": false,
     "points": 1,
     "schema_version": 1,
     "solution": true
    }
   },
   "source": [
    "### Question 8 [5 points]\n",
    "- `'y'` (last ocuurance — practise your negative indexing)"
   ]
  },
  {
   "cell_type": "code",
   "execution_count": 62,
   "metadata": {
    "deletable": false,
    "nbgrader": {
     "checksum": "aa6902142260c93f2175b1861a91c183",
     "grade": true,
     "grade_id": "string1",
     "locked": false,
     "points": 1,
     "schema_version": 1,
     "solution": true
    }
   },
   "outputs": [],
   "source": [
    "# your answer here as a variable ans\n",
    "ans = s[-8]"
   ]
  },
  {
   "cell_type": "markdown",
   "metadata": {},
   "source": [
    "#### Slicing"
   ]
  },
  {
   "cell_type": "markdown",
   "metadata": {},
   "source": [
    "We can generalize our notion of *indexing* to *slicing*.  Slicing means using a *range of indices* to take a *slice* of a string.  A range is written `string[left:right]`, where the `left` index is part of the string but the `right` index is not.  (We call this a *half-open* range.)\n",
    "\n",
    "Remember that Python starts counting from zero, and that while the left-hand side is included, the right-hand side is _not_."
   ]
  },
  {
   "cell_type": "code",
   "execution_count": 63,
   "metadata": {
    "deletable": false,
    "editable": false,
    "nbgrader": {
     "checksum": "aa6902142260c93f2175b1861a91c183",
     "grade": true,
     "grade_id": "string1",
     "locked": false,
     "points": 1,
     "schema_version": 1,
     "solution": true
    }
   },
   "outputs": [],
   "source": [
    "pangram = 'Sphinx of black quartz: judge my vow.'"
   ]
  },
  {
   "cell_type": "code",
   "execution_count": 64,
   "metadata": {},
   "outputs": [
    {
     "data": {
      "text/plain": [
       "'Sphin'"
      ]
     },
     "execution_count": 64,
     "metadata": {},
     "output_type": "execute_result"
    }
   ],
   "source": [
    "pangram[0:5]"
   ]
  },
  {
   "cell_type": "code",
   "execution_count": 65,
   "metadata": {},
   "outputs": [
    {
     "data": {
      "text/plain": [
       "' of bla'"
      ]
     },
     "execution_count": 65,
     "metadata": {},
     "output_type": "execute_result"
    }
   ],
   "source": [
    "pangram[6:13]"
   ]
  },
  {
   "cell_type": "code",
   "execution_count": 66,
   "metadata": {},
   "outputs": [
    {
     "data": {
      "text/plain": [
       "''"
      ]
     },
     "execution_count": 66,
     "metadata": {},
     "output_type": "execute_result"
    }
   ],
   "source": [
    "pangram[0:0]  # Note that the right-hand index is not in the range, so this string is empty."
   ]
  },
  {
   "cell_type": "code",
   "execution_count": 67,
   "metadata": {},
   "outputs": [
    {
     "data": {
      "text/plain": [
       "'Sphinx of black quartz: judge my vow'"
      ]
     },
     "execution_count": 67,
     "metadata": {},
     "output_type": "execute_result"
    }
   ],
   "source": [
    "pangram[0:-1]"
   ]
  },
  {
   "cell_type": "code",
   "execution_count": 68,
   "metadata": {},
   "outputs": [
    {
     "data": {
      "text/plain": [
       "'x of black quartz: judge my vow.'"
      ]
     },
     "execution_count": 68,
     "metadata": {},
     "output_type": "execute_result"
    }
   ],
   "source": [
    "pangram[5:]  # We don't have to specify both sides; if we don't, Python assumes we are going all the way to the end or coming all the way from the beginning."
   ]
  },
  {
   "cell_type": "code",
   "execution_count": 69,
   "metadata": {},
   "outputs": [
    {
     "data": {
      "text/plain": [
       "'Sphinx of '"
      ]
     },
     "execution_count": 69,
     "metadata": {},
     "output_type": "execute_result"
    }
   ],
   "source": [
    "pangram[:10]"
   ]
  },
  {
   "cell_type": "code",
   "execution_count": 70,
   "metadata": {},
   "outputs": [
    {
     "data": {
      "text/plain": [
       "'Sphinx of black quartz: judge my vow.'"
      ]
     },
     "execution_count": 70,
     "metadata": {},
     "output_type": "execute_result"
    }
   ],
   "source": [
    "pangram[:]  # Thus this is just a copy of the entire original string."
   ]
  },
  {
   "cell_type": "code",
   "execution_count": 71,
   "metadata": {},
   "outputs": [
    {
     "data": {
      "text/plain": [
       "'Shn fbakqat:jdem o.'"
      ]
     },
     "execution_count": 71,
     "metadata": {},
     "output_type": "execute_result"
    }
   ],
   "source": [
    "pangram[::2] # Take every other character"
   ]
  },
  {
   "cell_type": "markdown",
   "metadata": {},
   "source": [
    "Although strings *are* important and useful, you're still fairly limited in what you're able to do with them.  But many aspects of indexing will carry over to data types you'll meet later, like `list`s and `ndarray`s ($n$-dimensional arrays)—you will use these techniques to manipulate large arrays of numerical data as well."
   ]
  },
  {
   "cell_type": "markdown",
   "metadata": {
    "deletable": false,
    "editable": false,
    "nbgrader": {
     "checksum": "aa6902142260c93f2175b1861a91c183",
     "grade": true,
     "grade_id": "string1",
     "locked": false,
     "points": 1,
     "schema_version": 1,
     "solution": true
    }
   },
   "source": [
    "### Question 9 [5 points]\n",
    "-   How would you extract the letters `'ssupdla nioiaim'` from the following string?\n",
    "        \n",
    "        showoff = 'sesquipedalian antinominalism'"
   ]
  },
  {
   "cell_type": "code",
   "execution_count": 72,
   "metadata": {
    "deletable": false,
    "editable": false,
    "nbgrader": {
     "checksum": "aa6902142260c93f2175b1861a91c183",
     "grade": true,
     "grade_id": "string1",
     "locked": false,
     "points": 1,
     "schema_version": 1,
     "solution": true
    }
   },
   "outputs": [],
   "source": [
    "# definition\n",
    "showoff = 'sesquipedalian antinominalism'"
   ]
  },
  {
   "cell_type": "code",
   "execution_count": 73,
   "metadata": {
    "deletable": false,
    "nbgrader": {
     "checksum": "d8258d9c2ac9f29ed872ff562e1ee23c",
     "grade": true,
     "grade_id": "slice",
     "locked": false,
     "points": 1,
     "schema_version": 1,
     "solution": true
    }
   },
   "outputs": [
    {
     "data": {
      "text/plain": [
       "'ssupdla nioiaim'"
      ]
     },
     "execution_count": 73,
     "metadata": {},
     "output_type": "execute_result"
    }
   ],
   "source": [
    "# your answer here\n",
    "showoff[ ::2 ]"
   ]
  },
  {
   "cell_type": "markdown",
   "metadata": {},
   "source": [
    "#### `math` Library Functions"
   ]
  },
  {
   "cell_type": "markdown",
   "metadata": {},
   "source": [
    "*Modules* are collections of functions which allow you to take advantage of the collective work of the scientific and engineering community when carrying out your calculations or building your models.  One of the strengths of Python is its enormous and rich library of modules, which provide both basic and involved operations far beyond the built-in operators.\n",
    "\n",
    "Let's consider the `math` library.  To use functions like `sin`, `cos`, `exp`, and `log`, you simply need to `import math`:"
   ]
  },
  {
   "cell_type": "code",
   "execution_count": 74,
   "metadata": {
    "deletable": false,
    "editable": false,
    "nbgrader": {
     "checksum": "aa6902142260c93f2175b1861a91c183",
     "grade": true,
     "grade_id": "string1",
     "locked": false,
     "points": 1,
     "schema_version": 1,
     "solution": true
    }
   },
   "outputs": [],
   "source": [
    "import math"
   ]
  },
  {
   "cell_type": "markdown",
   "metadata": {},
   "source": [
    "You still need to specify *which* module contains the functions to use them, but otherwise it's quite straightforward:"
   ]
  },
  {
   "cell_type": "markdown",
   "metadata": {},
   "source": [
    "$$\n",
    "\\sin\\left(\\frac{\\pi}{4}\\right)\n",
    "$$"
   ]
  },
  {
   "cell_type": "code",
   "execution_count": 75,
   "metadata": {},
   "outputs": [
    {
     "data": {
      "text/plain": [
       "0.7071067811865476"
      ]
     },
     "execution_count": 75,
     "metadata": {},
     "output_type": "execute_result"
    }
   ],
   "source": [
    "math.sin(math.pi/4)"
   ]
  },
  {
   "cell_type": "markdown",
   "metadata": {},
   "source": [
    "$$\n",
    "\\left[\\text{ceil}\\left(4.5\\right)\\right] !\n",
    "$$"
   ]
  },
  {
   "cell_type": "code",
   "execution_count": 76,
   "metadata": {},
   "outputs": [
    {
     "data": {
      "text/plain": [
       "120"
      ]
     },
     "execution_count": 76,
     "metadata": {},
     "output_type": "execute_result"
    }
   ],
   "source": [
    "math.factorial(math.ceil(4.5))"
   ]
  },
  {
   "cell_type": "markdown",
   "metadata": {
    "deletable": false,
    "editable": false,
    "nbgrader": {
     "checksum": "aa6902142260c93f2175b1861a91c183",
     "grade": true,
     "grade_id": "string1",
     "locked": false,
     "points": 1,
     "schema_version": 1,
     "solution": true
    }
   },
   "source": [
    "### Question 10 [10 points]\n",
    "-   Write an expression for the following formula:\n",
    "    \n",
    "    $$\n",
    "    \\frac{(m+n)!}{(m+1)(n-1)!}\n",
    "    $$\n",
    "    \n",
    "    (Note that the factorial refers only to the second term of the denominator, not the entire denominator.)"
   ]
  },
  {
   "cell_type": "code",
   "execution_count": 77,
   "metadata": {
    "deletable": false,
    "editable": false,
    "nbgrader": {
     "checksum": "119863c24821f78cd33ea8c4ca03c97a",
     "grade": false,
     "grade_id": "form-vars",
     "locked": true,
     "schema_version": 1,
     "solution": false
    }
   },
   "outputs": [],
   "source": [
    "# these are representative values—don't change these\n",
    "m = 2\n",
    "n = 3"
   ]
  },
  {
   "cell_type": "code",
   "execution_count": 78,
   "metadata": {
    "deletable": false,
    "nbgrader": {
     "checksum": "721ede83878edaf3245e2acfb05d0002",
     "grade": false,
     "grade_id": "form",
     "locked": false,
     "schema_version": 1,
     "solution": true
    }
   },
   "outputs": [],
   "source": [
    "# write your expression here\n",
    "expr = math.factorial (m + n) / ( (m + 1) * math.factorial(n - 1) )# your code here"
   ]
  },
  {
   "cell_type": "code",
   "execution_count": 79,
   "metadata": {
    "deletable": false,
    "editable": false,
    "nbgrader": {
     "checksum": "1965afe28b76b2d38f372a135f454507",
     "grade": true,
     "grade_id": "form-test",
     "locked": true,
     "points": 1,
     "schema_version": 1,
     "solution": false
    }
   },
   "outputs": [
    {
     "name": "stdout",
     "output_type": "stream",
     "text": [
      "Success!\n"
     ]
    }
   ],
   "source": [
    "# it should pass this test---do NOT edit this cell\n",
    "from numpy import isclose\n",
    "assert isclose(expr, 20.0)\n",
    "print('Success!')"
   ]
  },
  {
   "cell_type": "markdown",
   "metadata": {},
   "source": [
    "Some modules are quite large, and you may not want to import everything into memory at once.  In that case, you can import a single function from a module as follows:"
   ]
  },
  {
   "cell_type": "code",
   "execution_count": 80,
   "metadata": {
    "deletable": false,
    "editable": false
   },
   "outputs": [],
   "source": [
    "from math import asin  # arcsine"
   ]
  },
  {
   "cell_type": "markdown",
   "metadata": {
    "deletable": false,
    "editable": false,
    "nbgrader": {
     "checksum": "aa6902142260c93f2175b1861a91c183",
     "grade": true,
     "grade_id": "string1",
     "locked": false,
     "points": 1,
     "schema_version": 1,
     "solution": true
    }
   },
   "source": [
    "### Question 11 [5 points]\n",
    "-   What line of Python code could you write to import `log10` from `math`?  (This is the logarithm base 10, $\\log_{10}(x)$.)"
   ]
  },
  {
   "cell_type": "code",
   "execution_count": 81,
   "metadata": {
    "deletable": false,
    "nbgrader": {
     "checksum": "8820498e32df89d3a2282e2f150f7cbd",
     "grade": false,
     "grade_id": "import",
     "locked": false,
     "schema_version": 1,
     "solution": true
    }
   },
   "outputs": [],
   "source": [
    "from math import log10# write your expression here\n"
   ]
  },
  {
   "cell_type": "code",
   "execution_count": 82,
   "metadata": {
    "deletable": false,
    "editable": false,
    "nbgrader": {
     "checksum": "2736d96ada32ee0785ac6f68f8e4da51",
     "grade": true,
     "grade_id": "import-test",
     "locked": true,
     "points": 1,
     "schema_version": 1,
     "solution": false
    }
   },
   "outputs": [
    {
     "name": "stdout",
     "output_type": "stream",
     "text": [
      "Success!\n"
     ]
    }
   ],
   "source": [
    "# it should pass this test---do NOT edit this cell\n",
    "from numpy import isclose\n",
    "try:\n",
    "    log10(0.25)\n",
    "except NameError:\n",
    "    raise AssertionError('log10 not imported yet')\n",
    "print('Success!')"
   ]
  },
  {
   "cell_type": "markdown",
   "metadata": {},
   "source": [
    "You've seen basic expressions in the lab and in the homework.  Let's build some more complicated expressions now to serve us in real model-building later."
   ]
  },
  {
   "cell_type": "markdown",
   "metadata": {
    "deletable": false,
    "editable": false
   },
   "source": [
    "### Question 12 [15 points]\n",
    "-   Write an expression describing the period of a pendulum for small amplitudes,\n",
    "    $$\n",
    "    T = 2\\pi \\sqrt\\frac{L}{g} \\text{.}\n",
    "    $$"
   ]
  },
  {
   "cell_type": "code",
   "execution_count": 83,
   "metadata": {
    "deletable": false,
    "editable": false,
    "nbgrader": {
     "checksum": "aa6902142260c93f2175b1861a91c183",
     "grade": true,
     "grade_id": "string1",
     "locked": false,
     "points": 1,
     "schema_version": 1,
     "solution": true
    }
   },
   "outputs": [],
   "source": [
    "from math import pi\n",
    "L = 0.72  # m\n",
    "g = 9.8   # acceleration due to gravity."
   ]
  },
  {
   "cell_type": "code",
   "execution_count": 84,
   "metadata": {
    "deletable": false,
    "nbgrader": {
     "checksum": "aa6902142260c93f2175b1861a91c183",
     "grade": true,
     "grade_id": "string1",
     "locked": false,
     "points": 1,
     "schema_version": 1,
     "solution": true
    }
   },
   "outputs": [],
   "source": [
    "T = 2 * pi * ( L / g ) ** 0.5# write a formula for T here, using pi from the math library\n",
    "# you can also use \"from math import sqrt\" if you like, or use **0.5 as an equivalent\n"
   ]
  },
  {
   "cell_type": "code",
   "execution_count": 85,
   "metadata": {
    "deletable": false,
    "editable": false,
    "nbgrader": {
     "checksum": "aa6902142260c93f2175b1861a91c183",
     "grade": true,
     "grade_id": "string1",
     "locked": false,
     "points": 1,
     "schema_version": 1,
     "solution": true
    }
   },
   "outputs": [
    {
     "name": "stdout",
     "output_type": "stream",
     "text": [
      "Success!\n"
     ]
    }
   ],
   "source": [
    "# it should pass this test---do NOT edit this cell\n",
    "from numpy import isclose\n",
    "assert isclose(T, 1.70307)\n",
    "print('Success!')"
   ]
  },
  {
   "cell_type": "markdown",
   "metadata": {},
   "source": [
    "# Before you submit..."
   ]
  },
  {
   "cell_type": "markdown",
   "metadata": {},
   "source": [
    "### Submission [10 points]\n",
    "Make sure that you have filled in any code block which is used for answering a Question #.\n",
    "\n",
    "Save this file as lab04-emailID-studentID.ipynb then UPLOAD and EMAIL to your TAs!"
   ]
  }
 ],
 "metadata": {
  "anaconda-cloud": {},
  "kernelspec": {
   "display_name": "Python 3",
   "language": "python",
   "name": "python3"
  },
  "language_info": {
   "codemirror_mode": {
    "name": "ipython",
    "version": 3
   },
   "file_extension": ".py",
   "mimetype": "text/x-python",
   "name": "python",
   "nbconvert_exporter": "python",
   "pygments_lexer": "ipython3",
   "version": "3.6.5"
  }
 },
 "nbformat": 4,
 "nbformat_minor": 1
}
