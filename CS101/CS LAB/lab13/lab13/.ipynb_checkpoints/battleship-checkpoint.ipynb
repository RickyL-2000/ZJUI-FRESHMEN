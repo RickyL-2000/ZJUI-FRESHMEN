{
 "cells": [
  {
   "cell_type": "markdown",
   "metadata": {},
   "source": [
    "## `lab13`—Battleship"
   ]
  },
  {
   "cell_type": "markdown",
   "metadata": {},
   "source": [
    "❖ Objectives\n",
    "\n",
    "-   Use MATLAB to compose a basic array-based game.\n",
    "-   Create a computer AI to play against in a flexible game framework."
   ]
  },
  {
   "cell_type": "markdown",
   "metadata": {},
   "source": [
    "### Put your name and studentID:"
   ]
  },
  {
   "cell_type": "markdown",
   "metadata": {},
   "source": [
    "### A Game Framework"
   ]
  },
  {
   "cell_type": "markdown",
   "metadata": {},
   "source": [
    "The [classic guessing game _Battleship_](https://en.wikipedia.org/wiki/Battleship_%28game%29) arose as a two-player pen-and-paper game during World War I.  Each player has a (hidden) grid upon which he or she plots several ships, as well as a blank grid on which to plot his or her shots at the enemy ships (and guesses).  The players then take turns guessing grid coördinates as shots to destroy each other's fleet.\n",
    "\n",
    "<img src=\"https://flashbak.com/wp-content/uploads/2016/04/battleship2.jpg\" width=\"50%;\">\n",
    "\n",
    "In this lab, you will implement a game of Battleship against the computer.  The game will require several components:\n",
    "\n",
    "1.  A main loop, which iterates through turns until victory conditions have been met for one player or the other.  (Although the most basic component, you will implement this last so that you can make sure other pieces work properly first.)\n",
    "\n",
    "2.  Four game grids:  one for the player's actual ships, one for the player's shots on the enemy fleet, one for the machine's actual ships, and one for the machine's shots on the player's fleet.\n",
    "\n",
    "3.  A ship setup system, for initial fleet placement.\n",
    "\n",
    "4.  A shot management system:  given the grids and a coordinate pair, update all grids as necessary and notify the player whether a shot has hit or missed an enemy vessel, and when a vessel has been sunk.\n",
    "\n",
    "5.  A victory tracking system:  check whether all of the ships of one fleet or the other have been sunk.\n",
    "\n",
    "6.  A computer AI.\n"
   ]
  },
  {
   "cell_type": "markdown",
   "metadata": {},
   "source": [
    "-   Create a new empty script `battleship.m`.\n",
    "-   Paste the following outline into that script:"
   ]
  },
  {
   "cell_type": "code",
   "execution_count": null,
   "metadata": {},
   "outputs": [],
   "source": [
    "clc\n",
    "\n",
    "% 2. Game grid setup\n",
    "\n",
    "% 3. Ship setup\n",
    "\n",
    "% 4. Check for shots.\n",
    "\n",
    "% 5. Check for victory conditions (all ships sunk).\n",
    "\n",
    "% 6. Computer AI---given a grid, predict the next shot coordinates.\n",
    "\n",
    "% 1. Main loop"
   ]
  },
  {
   "cell_type": "markdown",
   "metadata": {},
   "source": [
    "### 2. Game Grid Setup"
   ]
  },
  {
   "cell_type": "markdown",
   "metadata": {},
   "source": [
    "The first step, then, is to set up the game grids.  (All of these steps should be carried out in the script `battleship.m`.)\n",
    "\n",
    "The grids will be of size `n`; for starters, let's use `n = 5`.  (The Milton–Bradley board game uses `n = 10`.)\n",
    "\n",
    "-   Create the grid size `n` and then four grids named `playerGrid`, `playerShots`, `computerGrid`, and `computerShots`, all containing only zeros.  We will interpret `playerShots` as meaning the shots made by the player against the computer, and vice versa for `computerGrid`.\n",
    "\n",
    "The available ships will be stored as a row vector `shipsAvailable`.  The Milton–Bradley board game would use `[ 2 3 3 4 5 ]`.  For a shorter game, I suggest using `[ 4 4 ]` in testing.\n",
    "\n",
    "-   Define `shipsAvailable` as a row vector `[ 4 4 ]`."
   ]
  },
  {
   "cell_type": "markdown",
   "metadata": {},
   "source": [
    "### 3. Ship Setup"
   ]
  },
  {
   "cell_type": "markdown",
   "metadata": {},
   "source": [
    "Once the game grids are ready, we need to initialize `playerGrid` and `computerGrid` with actual ship locations.  We will use the convention that a `0` in a grid cell means that no ship is present, and a positive integer means that a ship of that length overlaps with that grid cell.  Thus:\n",
    "\n",
    "| Schematic depiction | Array representation |\n",
    "| --- | --- |\n",
    "| <img src=\"./img/layout.png\" width=\"300px;\"> | <img src=\"./img/layout-array.png\" width=\"300px;\"> |\n",
    "\n",
    "Without creating a mouse-friendly user interface, however, ship placement will be a little difficult; we are going to instead just randomly place ships for each side.\n",
    "\n",
    "The process will need to iterate through `shipsAvailable`; for each ship, attempt to place it randomly.  If this fails, then try a different location until success if achieved.  (Note that we are _not_ guaranteed that all ships fit on any particular grid, but we ignore this failure mode now.)  [`find`](https://www.mathworks.com/help/matlab/ref/find.html) locates non-zero array elements.\n",
    "\n",
    "It will be convenient to display grids at each stage in the game.\n",
    "\n",
    "Copy and paste the code below to % 3. Ship setup of your battleship.m file. Repeat the same process for `computerGrid`."
   ]
  },
  {
   "cell_type": "code",
   "execution_count": null,
   "metadata": {},
   "outputs": [],
   "source": [
    "for shipIndex = 1:numel( shipsAvailable ) %Loop through the ships available\n",
    "    shipLength = shipsAvailable( shipIndex ); %Get the length of a ship\n",
    "    shipNotPlaced = 1;\n",
    "    while shipNotPlaced\n",
    "        % Generate a random position and orientation for the ship.\n",
    "        shipOrientation = randi(2);\n",
    "        if shipOrientation == 1  % horizontal\n",
    "            %n is grid-length, \n",
    "            %n - shiplength => possible positions to choose from\n",
    "            shipLayoutStart = randi( n-shipLength ); \n",
    "            %ship starting x-point to ending x-point\n",
    "            shipLayoutX = shipLayoutStart:shipLayoutStart + shipLength - 1;\n",
    "            %ship \n",
    "            shipLayoutY = randi( n ) * ones( shipLength );\n",
    "        else  % vertical\n",
    "            shipLayoutStart = randi( n-shipLength );\n",
    "            shipLayoutX = randi( n ) * ones( shipLength );\n",
    "            shipLayoutY = shipLayoutStart:shipLayoutStart+shipLength-1;\n",
    "        end %if\n",
    "\n",
    "        % Attempt to place the ship on the grid.  If there is a conflict, then loop back.\n",
    "        shipPosnOK = 1; %just a variable to change if position of a ship is ok\n",
    "        % find positions in playerGrid with non-zero and save them in shipsX, shipsY\n",
    "        [ shipsX, shipsY ] = find( playerGrid );\n",
    "        for shipIdx = 1:max( numel( shipsX ),numel( shipsY ) )\n",
    "            for idx = 1:shipLength\n",
    "                % compare possible new ship positions with current ship\n",
    "                % positions on the playerGrid\n",
    "                if shipLayoutX( idx ) == shipsX( shipIdx ) && shipLayoutY( idx ) == shipsY( shipIdx )\n",
    "                    shipPosnOK = 0;\n",
    "                    break;\n",
    "                end %if\n",
    "            end %for\n",
    "            if ~shipPosnOK\n",
    "                %break out of shipIdx loop\n",
    "                break;\n",
    "            end %if\n",
    "        end %for\n",
    "        if shipPosnOK\n",
    "            playerGrid( shipLayoutX,shipLayoutY ) = shipLength;\n",
    "            shipNotPlaced = 0;\n",
    "        end %if\n",
    "    end %while\n",
    "end %for\n",
    "%disp( playerGrid );\n",
    "%disp( playerShots );\n",
    "\n",
    "\n",
    "% Repeat the process for `computerGrid`."
   ]
  },
  {
   "cell_type": "markdown",
   "metadata": {},
   "source": [
    "### 4. Check for shots."
   ]
  },
  {
   "cell_type": "markdown",
   "metadata": {},
   "source": [
    "Given a coördinate pair, we need to determine whether or not the shot has struck anything.\n",
    "\n",
    "-   Compose a function `evaluateShot( grid,shotX,shotY )` in an appropriately-named file which accepts a grid cell coördinate, changes the grid at the location of the shot appropriately (mutability), and returns the modified grid.  Also, returns a variable `hit` with the value of `1` if a shot successfully hit a ship, `0` otherwise.  (Note that subsequent shots on the same location should _not_ cancel each other out.\n",
    "\n",
    "    We denote a shot by negative values; any cell which has been shot should be negated.\n",
    "     \n",
    "    \n",
    "    \n",
    "-   Compose a function `evaluateGuess( grid,shotX,shotY,hit )` in an appropriately-named file which accepts a grid cell coördinate, marks a shot at that point in the grid with a `1` if it does not hit a ship and with a `2` if it hits a ship, and returns the modified grid."
   ]
  },
  {
   "cell_type": "markdown",
   "metadata": {},
   "source": [
    "If you have defined `evaluateShot` correctly, this set of tests should pass (=> No error message).  Copy and paste them into the *Command Window* to double-check (you may do this all as a block).\n",
    "\n",
    "    testGrid = ones( 5 );\n",
    "    testGrid1 = testGrid;\n",
    "    testGrid1( 1,1 ) = -testGrid1( 1,1 );\n",
    "    [ testResultGrid,testHit ] = evaluateShot( testGrid,1,1 );\n",
    "    assert( testHit == 1, 'Your function fails to notify that a shot was a hit.' )\n",
    "    assert( isequal( testResultGrid,testGrid1 ),'Your function fails to negate the shot cell.' )"
   ]
  },
  {
   "cell_type": "markdown",
   "metadata": {},
   "source": [
    "### 5. Check for Victory Conditions."
   ]
  },
  {
   "cell_type": "markdown",
   "metadata": {},
   "source": [
    "When a grid has all integer cells negated, then that player loses the game.\n",
    "\n",
    "-   Compose a function `checkLoss( grid )` in an appropriately-named file which accepts a grid and return `1` if the cells are all nonpositive and `0` otherwise."
   ]
  },
  {
   "cell_type": "markdown",
   "metadata": {},
   "source": [
    "If you have defined `checkLoss` correctly, this set of tests should pass.  Copy and paste them into the *Command Window* to double-check (you may do this all as a block).\n",
    "\n",
    "    testGrid = ones( 5 );\n",
    "    testGrid1 = -testGrid;\n",
    "    assert( checkLoss( testGrid ) == 0,  'Your function fails to identify an unlost game.' )\n",
    "    assert( checkLoss( testGrid1 ) == 1, 'Your function fails to identify a lost game.' )"
   ]
  },
  {
   "cell_type": "markdown",
   "metadata": {},
   "source": [
    "### 6. Computer AI"
   ]
  },
  {
   "cell_type": "markdown",
   "metadata": {},
   "source": [
    "Given a grid, the machine should predict the next shot coordinates it needs.  The most basic computer \"AI\" always randomly guesses.  A better AI randomly guesses until a ship has been hit, at which point it guesses nearby squares until the ship has been sunk (you can think about how to implement this better AI after you finished the lab).\n",
    "\n",
    "-   Compose a BASIC computer AI as a function `getComputerShots( computerShots )` in an appropriately-named file which accepts a grid containing its past guesses and returns a coördinate pair as a row vector, a guess for the next shot."
   ]
  },
  {
   "cell_type": "markdown",
   "metadata": {},
   "source": [
    "### 1. Main Loop"
   ]
  },
  {
   "cell_type": "markdown",
   "metadata": {},
   "source": [
    "Now that other components are working correctly, you require a game loop which iterates through turns until victory conditions have been met for one player or the other.\n",
    "\n",
    "In your battleship.m script, you should implement a `while` loop at the appropriate point.  Your code should now look something like this:"
   ]
  },
  {
   "cell_type": "code",
   "execution_count": null,
   "metadata": {},
   "outputs": [],
   "source": [
    "% 2. Game grid setup\n",
    "%%% You should have this part filled in from above\n",
    "\n",
    "% 3. Ship setup\n",
    "%%% You should have this part filled in from above\n",
    "\n",
    "% 1. Main loop\n",
    "gameOver = 0;\n",
    "while ~gameOver\n",
    "    input( 'Press any key to start your turn ' );\n",
    "    clc\n",
    "    disp( 'Your ships locations:' );\n",
    "    disp( playerGrid );\n",
    "    disp( 'Your shots made' );\n",
    "    disp( playerShots );\n",
    "    %disp( computerGrid );  % useful to see both sides for debugging\n",
    "    %disp( computerShots );  % useful to see both sides for debugging\n",
    "    \n",
    "    % Get player action.\n",
    "    shots = input( 'Give me a coordinate pair in [x,y]: ' );   %input like \"[1 1]\"\n",
    "    shotX = shots( 1 );\n",
    "    shotY = shots( 2 );\n",
    "\n",
    "    % Update the grid with the shot. (4.)\n",
    "    [ computerGrid hit ] = evaluateShot( computerGrid,shotX,shotY );\n",
    "    [ playerShots ] = evaluateGuess( playerShots,shotX,shotY,hit );\n",
    "    if hit\n",
    "        disp( \"You hit a ship!\" ); % change this msg when computer is playing\n",
    "    end %if\n",
    "    \n",
    "    % Check for victory. (5.)\n",
    "    if checkLoss( computerGrid )\n",
    "        gameOver = 1;\n",
    "        disp( 'You have won the game!' );\n",
    "        break;\n",
    "    end %if\n",
    "    \n",
    "    % Get computer action. (6.)\n",
    "    disp( 'Computer is playing...' );\n",
    "    [ shotX shotY ] = getComputerShots( computerShots );\n",
    "    \n",
    "    % Update the grid with the shot. (4.)\n",
    "    % Fill this part by changing the code above\n",
    "    \n",
    "    % Check for victory. (5.)\n",
    "    % Fill this part by changing the code above\n",
    "    \n",
    "    \n",
    "    \n",
    "    disp( 'Computer Finished' );    \n",
    "end %while"
   ]
  },
  {
   "cell_type": "markdown",
   "metadata": {},
   "source": [
    "# Before you submit..."
   ]
  },
  {
   "cell_type": "markdown",
   "metadata": {},
   "source": [
    "Copy your code in battleship.m to below:"
   ]
  },
  {
   "cell_type": "code",
   "execution_count": null,
   "metadata": {},
   "outputs": [],
   "source": [
    "%%%% Your working code in battleship.m here\n",
    "\n",
    "\n",
    "\n"
   ]
  },
  {
   "cell_type": "markdown",
   "metadata": {},
   "source": [
    "### Submission\n",
    "\n",
    "Two things:\n",
    "1. Submit to RELATE first.\n",
    "2. Show to any TA or me that you can run and play this game.\n",
    "\n",
    "Make sure that you have filled your name and studentID in this notebook as well as answered all questions.\n",
    "\n",
    "Make sure that RELATE has your latest file by checking the text output when you click on the \"embeded viewer' link at the submission page.\n",
    "\n",
    "Save this file as lab13-studentID.ipynb then UPLOAD to RELATE!"
   ]
  },
  {
   "cell_type": "code",
   "execution_count": null,
   "metadata": {},
   "outputs": [],
   "source": []
  }
 ],
 "metadata": {
  "anaconda-cloud": {},
  "kernelspec": {
   "display_name": "Python 3",
   "language": "python",
   "name": "python3"
  },
  "language_info": {
   "codemirror_mode": {
    "name": "ipython",
    "version": 3
   },
   "file_extension": ".py",
   "mimetype": "text/x-python",
   "name": "python",
   "nbconvert_exporter": "python",
   "pygments_lexer": "ipython3",
   "version": "3.6.5"
  }
 },
 "nbformat": 4,
 "nbformat_minor": 1
}
