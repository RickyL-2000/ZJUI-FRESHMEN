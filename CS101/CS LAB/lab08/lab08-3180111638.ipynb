{
 "cells": [
  {
   "cell_type": "markdown",
   "metadata": {},
   "source": [
    "#   `lab08`—Modeling Radioactive Decay"
   ]
  },
  {
   "cell_type": "markdown",
   "metadata": {},
   "source": [
    "# Objectives\n",
    "\n",
    "-   Solve a system involving multiple simultaneous equations.\n",
    "-   Utilize NumPy's random number generation to simulate a random system.\n",
    "-   There are x questions in this lab"
   ]
  },
  {
   "cell_type": "markdown",
   "metadata": {},
   "source": [
    "Double-click here to fill in your name and **studentIDs** here:  ☐李瑞琦, Li Ruiqi, 3180111638, ruiqi.18@intl.zju.edu.cn"
   ]
  },
  {
   "cell_type": "code",
   "execution_count": 1,
   "metadata": {},
   "outputs": [],
   "source": [
    "# Import basic libraries.\n",
    "import math\n",
    "import numpy as np\n",
    "import matplotlib as mpl\n",
    "import matplotlib.pyplot as plt\n",
    "%matplotlib inline\n",
    "mpl.rcParams[ 'figure.figsize' ] = (15,3)"
   ]
  },
  {
   "cell_type": "markdown",
   "metadata": {},
   "source": [
    "In today's lab, we will examine how populations of radioactive materials can be modeled and represented mathematically.  We begin with a two-element system and evolve to a more sophisticated way of handling many elements in a decay chain."
   ]
  },
  {
   "cell_type": "markdown",
   "metadata": {},
   "source": [
    "##  Radioactive Decay of a Single Element"
   ]
  },
  {
   "cell_type": "markdown",
   "metadata": {},
   "source": [
    "Famously, radioactive materials decaying with a characteristic time, called the _half-life_.  At time $t=t_{1/2}$, one-half of the original material remains; at time $t=2t_{1/2}$, one-quarter remains, and so forth.\n",
    "\n",
    "The half-life has units of time (typically seconds) and is easy to tabulate.  However, many engineers prefer to work with the _decay constant_ instead, as it has a straightforward application in the governing equations of nuclear decay.  The decay constant is related to the half-life by the formula\n",
    "$$\n",
    "\\lambda = \\frac{\\log(2)}{t_{1/2}}\n",
    "$$\n",
    "where $\\log$ is the natural logarithm.\n",
    "\n",
    "-   Compose a function `L_decay` which returns the value of the decay constant $\\lambda$ given as parameter the half-life $t_{1/2}$."
   ]
  },
  {
   "cell_type": "code",
   "execution_count": 5,
   "metadata": {
    "deletable": false,
    "nbgrader": {
     "grade": false,
     "grade_id": "l_decay",
     "locked": false,
     "solution": true
    }
   },
   "outputs": [],
   "source": [
    "#############################################################\n",
    "############### Q1 (5 marks) ################################\n",
    "#############################################################\n",
    "# Compose your function `L_decay` here.\n",
    "def L_decay(t0):\n",
    "    return np.log(2)/t0"
   ]
  },
  {
   "cell_type": "code",
   "execution_count": 6,
   "metadata": {},
   "outputs": [],
   "source": [
    "# You may test your function here if desired.\n"
   ]
  },
  {
   "cell_type": "code",
   "execution_count": 7,
   "metadata": {
    "deletable": false,
    "editable": false,
    "nbgrader": {
     "grade": true,
     "grade_id": "l_decay-test",
     "locked": true,
     "points": 1,
     "solution": false
    }
   },
   "outputs": [
    {
     "name": "stdout",
     "output_type": "stream",
     "text": [
      "Success!\n"
     ]
    }
   ],
   "source": [
    "# your code should pass these tests---do NOT edit this cell\n",
    "from numpy import isclose\n",
    "assert isclose( L_decay( 1.5 ),math.log( 2 )/1.5 )\n",
    "print( 'Success!' )"
   ]
  },
  {
   "cell_type": "markdown",
   "metadata": {},
   "source": [
    "Next we consider a particular decay chain containing only two elements, a _parent_ and a _daughter_.  Polonium-210 decays to lead-206 by emitting an alpha particle with a half-life of 138.376 days.\n",
    "\n",
    "In order to model the population of $^{210}$Po at any given time, we can use a simple exponential decay function:\n",
    "\n",
    "$$\n",
    "N_{\\text{Po}}(t) = {N_{\\text{Po}}}_{0} \\exp\\left( -\\lambda t \\right) \\text{,}\n",
    "$$\n",
    "\n",
    "where $N_{\\text{Po}}(t)$ denotes the amount of $^{210}$Po remaining at time $t$ from an initial stock ${N_{\\text{Po}}}_{0} = 1$ (assume that we begin our simulation with 1 kilogram of $^{210}$Po and no $^{206}$Pb present).\n",
    "\n",
    "**Compose a function `N_Po( t )`, for $N_{\\text{Po}}(t)$, which accepts an argument `t` denoting time elapsed in seconds, and returns `N`, the amount of $^{210}$Po remaining.**"
   ]
  },
  {
   "cell_type": "code",
   "execution_count": 8,
   "metadata": {
    "deletable": false,
    "nbgrader": {
     "grade": false,
     "grade_id": "N_Po",
     "locked": false,
     "solution": true
    }
   },
   "outputs": [],
   "source": [
    "#############################################################\n",
    "############### Q2 (5 marks) ################################\n",
    "#############################################################\n",
    "# Compose your function `L_decay` here.\n",
    "def N_Po(t):\n",
    "    return np.exp(-L_decay(138.376*24*3600)*t)"
   ]
  },
  {
   "cell_type": "code",
   "execution_count": 9,
   "metadata": {},
   "outputs": [],
   "source": [
    "# You may test your function here if desired.\n"
   ]
  },
  {
   "cell_type": "code",
   "execution_count": 10,
   "metadata": {
    "deletable": false,
    "editable": false,
    "nbgrader": {
     "grade": true,
     "grade_id": "N_Po-test",
     "locked": true,
     "points": 1,
     "solution": false
    }
   },
   "outputs": [
    {
     "name": "stdout",
     "output_type": "stream",
     "text": [
      "Success!\n"
     ]
    }
   ],
   "source": [
    "# your code should pass these tests---do NOT edit this cell\n",
    "from numpy import isclose\n",
    "assert isclose( N_Po( 0 ),1.0 )\n",
    "if isclose( N_Po( 138.376 ),0.5 ):\n",
    "    print( 'Make sure to use seconds, not days.' )\n",
    "    raise AssertionError\n",
    "assert isclose( N_Po( 11955686.4 ),0.5 )\n",
    "print('Success!')"
   ]
  },
  {
   "cell_type": "code",
   "execution_count": 11,
   "metadata": {
    "deletable": false,
    "editable": false
   },
   "outputs": [
    {
     "data": {
      "image/png": "[encoded data removed]",
      "text/plain": [
       "<Figure size 432x288 with 1 Axes>"
      ]
     },
     "metadata": {},
     "output_type": "display_data"
    },
    {
     "data": {
      "text/plain": [
       "(1001,)"
      ]
     },
     "execution_count": 11,
     "metadata": {},
     "output_type": "execute_result"
    }
   ],
   "source": [
    "# Visualize the resulting change in population.\n",
    "times = np.linspace( 0,1e8,1001 )\n",
    "atoms = N_Po( times )\n",
    "plt.plot( times,atoms,'r-' )\n",
    "plt.xlim( ( min( times ),max( times ) ) )\n",
    "plt.ylabel( 'proportion of Po' )\n",
    "plt.xlabel( 'time / s' )\n",
    "plt.show()\n",
    "np.sum( atoms )\n",
    "atoms.shape"
   ]
  },
  {
   "cell_type": "markdown",
   "metadata": {},
   "source": [
    "##  Radioactive Decay of Two Elements"
   ]
  },
  {
   "cell_type": "markdown",
   "metadata": {},
   "source": [
    "What happens if we simulate a three-element system:  that is, one in which the daughter of the first element also decays?\n",
    "\n",
    "Consider the system of thorium-232.  $^{232}$Th is stable but can be used as nuclear fuel when it is _activated_ by a neutron to become $^{233}$Th.  $^{233}$Th then beta decays via $^{233}$Pa to yield $^{233}$U, an excellent nuclear fuel, but with a sufficiently long half-life that we will treat it as the stable decay product.  Assuming only $^{233}$Th to be present at first, we model the two-step reaction:\n",
    "\n",
    "$$\n",
    "\\begin{align}\n",
    "N_{\\text{Th}}(t) & = {N_{\\text{Th}}}_{0} \\exp\\left( -\\lambda_{\\text{Th}} t \\right) \\\\\n",
    "N_{\\text{Pa}}(t) & = \\frac{\\lambda_{\\text{Th}}}{\\lambda_{\\text{Pa}} - \\lambda_{\\text{Th}}} {N_{\\text{Th}}}_{0} \\left( \\exp\\left( -\\lambda_{\\text{Th}} t \\right) - \\exp\\left( -\\lambda_{\\text{Pa}} t \\right) \\right) \\\\\n",
    "N_{\\text{U}}(t)  & = 1 - {N_{\\text{Th}}}( t ) - {N_{\\text{Pa}}}( t )\n",
    "\\end{align}\n",
    "$$\n",
    "\n",
    "where $N_{\\text{X}}(t)$ denotes the amount of species X remaining at time $t$ from an initial stock ${N_{\\text{Th}}}_{0} = 1$.\n",
    "\n",
    "| Species | Half-Life |\n",
    "| ------- | --------- |\n",
    "| $^{233}$Th | 21.83 minutes |\n",
    "| $^{233}$Pa | 26.975 days |\n",
    "| $^{233}$U  | \"stable\" (stable for our purposes) |\n",
    "\n",
    "Assume that we begin our simulation with 1 kilogram of $^{210}$Po and no $^{206}$Pb present.??????????????????????????????\n",
    "\n",
    "**Compose the following functions:**\n",
    "\n",
    "- `N_Th( t )`, for $N_{\\text{Th}}(t)$, which accepts an argument `t` denoting time elapsed in seconds, and returns `N`, the amount of $^{233}$Th remaining.\n",
    "- `N_Pa( t )`, for $N_{\\text{Pa}}(t)$, which accepts an argument `t` denoting time elapsed in seconds, and returns `N`, the amount of $^{233}$Pa remaining.\n",
    "- `N_U( t )`, for $N_{\\text{U}}(t)$, which accepts an argument `t` denoting time elapsed in seconds, and returns `N`, the amount of $^{233}$U remaining."
   ]
  },
  {
   "cell_type": "code",
   "execution_count": 12,
   "metadata": {
    "deletable": false,
    "nbgrader": {
     "grade": false,
     "grade_id": "N_Th",
     "locked": false,
     "solution": true
    }
   },
   "outputs": [],
   "source": [
    "#############################################################\n",
    "############### Q3 (15 marks) ###############################\n",
    "#############################################################\n",
    "# Compose your functions here.\n",
    "def N_Th(t):\n",
    "    return np.exp(-L_decay(21.83*60)*t)\n",
    "def N_Pa(t):\n",
    "    return (np.exp(-L_decay(21.83*60)*t)-np.exp(-L_decay(26.975*24*3600)*t))*L_decay(21.83*60)/(L_decay(26.975*24*3600)-L_decay(21.83*60))\n",
    "def N_U(t):\n",
    "    return 1-N_Th(t)-N_Pa(t)\n"
   ]
  },
  {
   "cell_type": "code",
   "execution_count": 13,
   "metadata": {},
   "outputs": [],
   "source": [
    "# You may test your function here if desired.\n"
   ]
  },
  {
   "cell_type": "code",
   "execution_count": 14,
   "metadata": {
    "deletable": false,
    "editable": false,
    "nbgrader": {
     "grade": true,
     "grade_id": "N_Th-test",
     "locked": true,
     "points": 1,
     "solution": false
    }
   },
   "outputs": [
    {
     "name": "stdout",
     "output_type": "stream",
     "text": [
      "Success!\n"
     ]
    }
   ],
   "source": [
    "# your code should pass these tests---do NOT edit this cell\n",
    "from numpy import isclose\n",
    "assert isclose( N_Th( 0 ),1.0 )\n",
    "assert isclose( N_Th( 21.83*60 ),0.5 )\n",
    "print('Success!')"
   ]
  },
  {
   "cell_type": "code",
   "execution_count": 15,
   "metadata": {
    "deletable": false,
    "editable": false,
    "nbgrader": {
     "grade": true,
     "grade_id": "N_Pa-test",
     "locked": true,
     "points": 1,
     "solution": false
    }
   },
   "outputs": [
    {
     "name": "stdout",
     "output_type": "stream",
     "text": [
      "Success!\n"
     ]
    }
   ],
   "source": [
    "# your code should pass these tests---do NOT edit this cell\n",
    "from numpy import isclose\n",
    "assert isclose( N_Pa( 0 ),0.0 )\n",
    "assert isclose( N_Pa( 26.975*24*60*60 ),0.5,rtol=1e-3 )\n",
    "print('Success!')"
   ]
  },
  {
   "cell_type": "code",
   "execution_count": 16,
   "metadata": {
    "deletable": false,
    "editable": false,
    "nbgrader": {
     "grade": true,
     "grade_id": "N_U-test",
     "locked": true,
     "points": 1,
     "solution": false
    }
   },
   "outputs": [
    {
     "name": "stdout",
     "output_type": "stream",
     "text": [
      "Success!\n"
     ]
    }
   ],
   "source": [
    "# your code should pass these tests---do NOT edit this cell\n",
    "from numpy import isclose\n",
    "assert isclose( N_U( 0 ),0.0 )\n",
    "assert isclose( N_U( 21.83*60 ),1-N_Th( 21.83*60 )-N_Pa( 21.83*60 ),rtol=1e-3 )\n",
    "print('Success!')"
   ]
  },
  {
   "cell_type": "code",
   "execution_count": 17,
   "metadata": {
    "deletable": false,
    "editable": false
   },
   "outputs": [
    {
     "data": {
      "image/png": "[encoded data removed]",
      "text/plain": [
       "<Figure size 432x288 with 1 Axes>"
      ]
     },
     "metadata": {},
     "output_type": "display_data"
    }
   ],
   "source": [
    "# Visualize the resulting change in population.\n",
    "times = np.linspace( 0,25000,1001 )\n",
    "atoms_Th = N_Th( times )\n",
    "atoms_Pa = N_Pa( times )\n",
    "atoms_U  = N_U( times )\n",
    "plt.plot( times,atoms_Th,'r-' )\n",
    "plt.plot( times,atoms_Pa,'g-' )\n",
    "plt.plot( times,atoms_U, 'b-' )\n",
    "plt.xlim( ( min( times ),max( times ) ) )\n",
    "plt.ylabel( 'proportion of species' )\n",
    "plt.xlabel( 'time / s' )\n",
    "plt.title( 'system composition, short time' )\n",
    "plt.show()"
   ]
  },
  {
   "cell_type": "code",
   "execution_count": 18,
   "metadata": {
    "deletable": false,
    "editable": false
   },
   "outputs": [
    {
     "data": {
      "image/png": "[encoded data removed]",
      "text/plain": [
       "<Figure size 432x288 with 1 Axes>"
      ]
     },
     "metadata": {},
     "output_type": "display_data"
    }
   ],
   "source": [
    "# Visualize the resulting change in population.\n",
    "times = np.linspace( 0,2e7,1001 )\n",
    "atoms_Th = N_Th( times )\n",
    "atoms_Pa = N_Pa( times )\n",
    "atoms_U  = N_U( times )\n",
    "plt.plot( times,atoms_Th,'r-' )\n",
    "plt.plot( times,atoms_Pa,'g-' )\n",
    "plt.plot( times,atoms_U, 'b-' )\n",
    "plt.xlim( ( min( times ),max( times ) ) )\n",
    "plt.ylabel( 'proportion of species' )\n",
    "plt.xlabel( 'time / s' )\n",
    "plt.title( 'system composition, long time' )\n",
    "plt.show()"
   ]
  },
  {
   "cell_type": "markdown",
   "metadata": {},
   "source": [
    "In the above case, you can see that the $^{233}$Th rather quickly converts to $^{233}$Pa, which then takes much longer to convert to $^{233}$U.  (`1e7` s is about three months.)"
   ]
  },
  {
   "cell_type": "markdown",
   "metadata": {},
   "source": [
    "##  Radioactive Decay of a System"
   ]
  },
  {
   "cell_type": "markdown",
   "metadata": {},
   "source": [
    "The next system we will examine will involve a longer decay chain:  the actinide series.\n",
    "\n",
    "Consider the following four-element chain:\n",
    "\n",
    "$^{222}$Rn $\\xrightarrow{\\alpha}$ $^{218}$Po $\\xrightarrow{\\alpha}$ $^{214}$Pb $\\xrightarrow{\\beta^{-}}$ $^{214}$Bi\n",
    "\n",
    "For more elements than three, it rapidly becomes cumbersome to derive and express the relations in terms of analytical equations, and we switch to a numerical representation—our old friend, the finite difference equation.\n",
    "\n",
    "We need to model a balance equation for each species:\n",
    "\n",
    "$$\n",
    "\\begin{align}\n",
    "\\frac{d N_{\\text{X}}}{dt} & = \\text{gain} - \\text{loss} \\\\\n",
    "\\frac{d N_{\\text{X}}}{dt} & = \\left[ \\sum_\\text{sources} \\right] - \\left[ \\sum_\\text{decays} \\right] \\\\\n",
    "\\frac{\\Delta N_{\\text{X}}}{\\Delta t} & = \\left[ \\lambda_{\\text{W}} N_{\\text{W}} \\right] - \\left[ \\lambda_{\\text{X}} N_{\\text{X}} \\right]\n",
    "\\end{align}\n",
    "$$\n",
    "\n",
    "assuming the decay chain W→X→Y.\n",
    "\n",
    ">The trickiest part here is that for numerical stability, the $\\Delta t$ should be small with respect to the _smallest_ half-life $t_{1/2}$.  This means that finite-difference equations are not appropriate for modeling systems with half-lives spanning several orders of magnitude, and other methods must be use.  We will stick to a \"safe\" system which has been hand-picked to be stable for our chosen $\\Delta t$.\n",
    "\n",
    "Our finite-difference equations become, after some algebra:\n",
    "\n",
    "$$\n",
    "\\begin{align}\n",
    "\\Delta N_{\\text{Rn}} & =                                                   & -\\Delta t \\lambda_{\\text{Rn}} \\Delta N_{\\text{Rn}} \\\\\n",
    "\\Delta N_{\\text{Po}} & = \\Delta t \\lambda_{\\text{Rn}} \\Delta N_{\\text{Rn}} & - \\Delta t \\lambda_{\\text{Po}} \\Delta N_{\\text{Po}} \\\\\n",
    "\\Delta N_{\\text{Pb}} & = \\Delta t \\lambda_{\\text{Po}} \\Delta N_{\\text{Po}} & - \\Delta t \\lambda_{\\text{Pb}} \\Delta N_{\\text{Pb}} \\\\\n",
    "\\Delta N_{\\text{Bi}} & = \\Delta t \\lambda_{\\text{Pb}} \\Delta N_{\\text{Pb}} &  \n",
    "\\end{align}\n",
    "$$\n",
    "\n",
    "$$\n",
    "\\left(\n",
    "\\begin{matrix}\n",
    "\\Delta N_{\\text{Rn}} \\\\\n",
    "\\Delta N_{\\text{Po}} \\\\\n",
    "\\Delta N_{\\text{Pb}} \\\\\n",
    "\\Delta N_{\\text{Bi}}\n",
    "\\end{matrix}\n",
    "\\right)\n",
    "=\n",
    "\\left(\n",
    "\\begin{matrix}\n",
    "-\\Delta t \\lambda_{\\text{Rn}} &0.0  &0.0  &0.0 \\\\\n",
    "\\Delta t \\lambda_{\\text{Rn}} &-\\Delta t \\lambda_{\\text{Po}}  &0.0  &0.0\\\\\n",
    "0.0 &\\Delta t \\lambda_{\\text{Po}} &-\\Delta t \\lambda_{\\text{Pb}} &0.0\\\\\n",
    "0.0 &0.0 &\\Delta t \\lambda_{\\text{Pb}} &0.0\n",
    "\\end{matrix}\n",
    "\\right)\n",
    "\\left(\n",
    "\\begin{matrix}\n",
    "\\Delta N_{\\text{Rn}} \\\\\n",
    "\\Delta N_{\\text{Po}} \\\\\n",
    "\\Delta N_{\\text{Pb}} \\\\\n",
    "\\Delta N_{\\text{Bi}}\n",
    "\\end{matrix}\n",
    "\\right)\n",
    "$$\n",
    "\n",
    "$$\n",
    "\\left(\n",
    "\\begin{matrix}\n",
    "\\Delta N_{\\text{Rn}} \\\\\n",
    "\\Delta N_{\\text{Po}} \\\\\n",
    "\\Delta N_{\\text{Pb}} \\\\\n",
    "\\Delta N_{\\text{Bi}}\n",
    "\\end{matrix}\n",
    "\\right)\n",
    "=\n",
    "A\n",
    "\\left(\n",
    "\\begin{matrix}\n",
    "\\Delta N_{\\text{Rn}} \\\\\n",
    "\\Delta N_{\\text{Po}} \\\\\n",
    "\\Delta N_{\\text{Pb}} \\\\\n",
    "\\Delta N_{\\text{Bi}}\n",
    "\\end{matrix}\n",
    "\\right)\n",
    "$$\n",
    "\n",
    "(Bismuth isn't really a true termination point for this chain, but this is enough for us to implement right now.)\n",
    "\n",
    "**Compose a function `delta_N` which accepts an argument `dt` which represents $\\Delta t$ and a vector of species populations `N` and returns the expected differential change in the respective species in `N`.**\n",
    "\n",
    "| Species | Half-Life  |\n",
    "| ------- | ---------- |\n",
    "| Rn      | 3.82 day   |\n",
    "| Po      | 3.1 min    |\n",
    "| Pb      | 26.8 min   |\n",
    "| Bi      | irrelevant |"
   ]
  },
  {
   "cell_type": "code",
   "execution_count": 19,
   "metadata": {
    "deletable": false
   },
   "outputs": [],
   "source": [
    "#############################################################\n",
    "############### Q4 (45 marks) ###############################\n",
    "#############################################################\n",
    "def delta_N( dt,N ):\n",
    "    # use L_decay to fill these in.  Make sure to convert units.\n",
    "    lambda_Rn = L_decay(3.82*24*3600)\n",
    "    lambda_Po = L_decay(3.1*60)\n",
    "    lambda_Pb = L_decay(26.8*60)\n",
    "    \n",
    "    # Construct a matrix to carry out the equations.\n",
    "    # Fill in the elements for Matrix A\n",
    "    A = np.zeros( ( 4,4 ) )\n",
    "    A[ 0,0 ] = - dt * lambda_Rn\n",
    "    A[ 1,0 ] = dt * lambda_Rn\n",
    "    A[ 1,1 ] = - dt * lambda_Po\n",
    "    A[ 2,1 ] = dt * lambda_Po\n",
    "    A[ 2,2 ] = - dt * lambda_Pb\n",
    "    A[ 3,2 ] = dt * lambda_Pb\n",
    "    \n",
    "    return A @ N   # matrix multiplication of A times N"
   ]
  },
  {
   "cell_type": "markdown",
   "metadata": {},
   "source": [
    "The way this matrix works is that given a time step size `dt` ($\\Delta t$) and a vector of species populations `N`, it returns the expected change in the population.\n",
    "\n",
    "$$\n",
    "delta\\_N\n",
    "=\n",
    "\\Delta \\vec{N}\n",
    "=\n",
    "\\underline{\\underline{A}} \\left(\n",
    "\\begin{matrix}\n",
    "N_{\\text{Rn}} \\\\\n",
    "N_{\\text{Po}} \\\\\n",
    "N_{\\text{Pb}} \\\\\n",
    "N_{\\text{Bi}}\n",
    "\\end{matrix}\n",
    "\\right)\n",
    "$$\n",
    "\n",
    "Thus, we have to iterate through a loop in time to solve the rest of the system:\n",
    "\n",
    "$$\n",
    "\\left(\n",
    "\\begin{matrix}\n",
    "N_{\\text{Rn}} \\\\\n",
    "N_{\\text{Po}} \\\\\n",
    "N_{\\text{Pb}} \\\\\n",
    "N_{\\text{Bi}}\n",
    "\\end{matrix}\n",
    "\\right)^{t}\n",
    "=\n",
    "\\left(\n",
    "\\begin{matrix}\n",
    "N_{\\text{Rn}} \\\\\n",
    "N_{\\text{Po}} \\\\\n",
    "N_{\\text{Pb}} \\\\\n",
    "N_{\\text{Bi}}\n",
    "\\end{matrix}\n",
    "\\right)^{t-1}\n",
    "+\n",
    "\\underline{\\underline{A}} \\left(\n",
    "\\begin{matrix}\n",
    "N_{\\text{Rn}} \\\\\n",
    "N_{\\text{Po}} \\\\\n",
    "N_{\\text{Pb}} \\\\\n",
    "N_{\\text{Bi}}\n",
    "\\end{matrix}\n",
    "\\right)^{t-1}\n",
    "$$\n",
    "\n",
    "where the superscript indicates the time step, not exponentiation."
   ]
  },
  {
   "cell_type": "code",
   "execution_count": 31,
   "metadata": {
    "deletable": false
   },
   "outputs": [],
   "source": [
    "#############################################################\n",
    "############### Q5 (15 marks)  ##############################\n",
    "#############################################################\n",
    "# Number of time steps to simulate.\n",
    "nt = int( 1e5 )   # try 1e5 for testing purposes---then switch to 5e6 which will take longer\n",
    "dt = 1e-1\n",
    "\n",
    "# Initial composition for N_Rn, N_Po, N_Pb, N_Bi \n",
    "N = np.zeros( ( 4,nt ),dtype=np.float64 )\n",
    "N[ 0,0 ] = 1.0\n",
    "\n",
    "# Set up a loop to loop through all the time steps\n",
    "for t in range(1, nt):\n",
    "    N[:,t] = N[:,t-1] + delta_N(dt,N[:,t-1])\n"
   ]
  },
  {
   "cell_type": "code",
   "execution_count": 32,
   "metadata": {
    "deletable": false,
    "editable": false,
    "nbgrader": {
     "grade": true,
     "grade_id": "N-test",
     "locked": true,
     "points": 1,
     "solution": false
    }
   },
   "outputs": [
    {
     "name": "stdout",
     "output_type": "stream",
     "text": [
      "Success!\n"
     ]
    }
   ],
   "source": [
    "# your code should pass these tests---do NOT edit this cell\n",
    "from numpy import allclose\n",
    "assert allclose( N[ :,-1 ],np.array( [ 9.79217792e-01,5.52153656e-04,4.72250559e-03,1.55075488e-02] ) )\n",
    "print('Success!')"
   ]
  },
  {
   "cell_type": "code",
   "execution_count": 33,
   "metadata": {
    "deletable": false,
    "editable": false
   },
   "outputs": [
    {
     "data": {
      "image/png": "[encoded data removed]",
      "text/plain": [
       "<Figure size 1080x576 with 1 Axes>"
      ]
     },
     "metadata": {},
     "output_type": "display_data"
    }
   ],
   "source": [
    "# Visualize the resulting change in population.\n",
    "times = np.linspace( 0,nt*dt,nt )\n",
    "mpl.rcParams[ 'figure.figsize' ] = (15,8)  # resize the figure for viewing convenience\n",
    "plt.plot( times,N.T )\n",
    "plt.xlim( ( min( times ),max( times ) ) )\n",
    "plt.ylabel( 'proportion of species' )\n",
    "plt.xlabel( 'time / s' )\n",
    "plt.title( 'system composition' )\n",
    "plt.show()\n",
    "mpl.rcParams[ 'figure.figsize' ] = (15,3)  # reset the figure size to what it was before"
   ]
  },
  {
   "cell_type": "markdown",
   "metadata": {},
   "source": [
    "# Before you submit..."
   ]
  },
  {
   "cell_type": "markdown",
   "metadata": {},
   "source": [
    "### Submission [15 points]\n",
    "Make sure that you have filled your name and studentID as well as answered all questions.\n",
    "\n",
    "Save this file as lab08-studentID.ipynb then UPLOAD to RELATE!"
   ]
  },
  {
   "cell_type": "markdown",
   "metadata": {},
   "source": [
    "##  References\n",
    "\n",
    "-   [\"General solution of Bateman equations for nuclear transmutations\"](http://www.sciencedirect.com/science/article/pii/S0306454906000284)\n",
    "-   [\"Simulating radioactive decay chains with spreadsheets\"](http://wordpress.mrreid.org/wp-content/uploads/2011/07/simulating-radioactive-decay-chains-with-spreadsheets.pdf)"
   ]
  }
 ],
 "metadata": {
  "kernelspec": {
   "display_name": "Python 3",
   "language": "python",
   "name": "python3"
  },
  "language_info": {
   "codemirror_mode": {
    "name": "ipython",
    "version": 3
   },
   "file_extension": ".py",
   "mimetype": "text/x-python",
   "name": "python",
   "nbconvert_exporter": "python",
   "pygments_lexer": "ipython3",
   "version": "3.6.5"
  }
 },
 "nbformat": 4,
 "nbformat_minor": 2
}
