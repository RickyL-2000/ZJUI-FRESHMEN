{
 "cells": [
  {
   "cell_type": "markdown",
   "metadata": {},
   "source": [
    "## `lab11`—Earthquake!"
   ]
  },
  {
   "cell_type": "markdown",
   "metadata": {},
   "source": [
    "❖ Objectives\n",
    "\n",
    "-   Use the MATLAB environment to develop and use code.\n",
    "-   Learn how MATLAB toolboxes add flexibility and functionality to your programming experience."
   ]
  },
  {
   "cell_type": "markdown",
   "metadata": {},
   "source": [
    "Double-click here to list collaborators' or partners' **NetIDs** here:  ☐ "
   ]
  },
  {
   "cell_type": "markdown",
   "metadata": {},
   "source": [
    "In order to ease your transition back-and-forth between Python and MATLAB, we have written a [handout](./handout.pdf) which covers the basics of translation.  This handout covers many more functions and tools than you have seen in CS 101, but should serve you well throughout your engineering education."
   ]
  },
  {
   "cell_type": "markdown",
   "metadata": {},
   "source": [
    "### Getting Started"
   ]
  },
  {
   "cell_type": "markdown",
   "metadata": {},
   "source": [
    "Today you will carry out the lab assignment in MATLAB for the semester.  Ladies and Gentlemen, please start your \n",
    "\n",
    "    matlab\n",
    "\n",
    "<div class=\"alert alert-warning\">\n",
    "Although you will be using this lab guide in Jupyter, you will write MATLAB code in the MATLAB environment.  Make sure that you modify matlab files in the directory.\n",
    "</div>"
   ]
  },
  {
   "cell_type": "markdown",
   "metadata": {},
   "source": [
    "### Part I. Seismograms"
   ]
  },
  {
   "cell_type": "markdown",
   "metadata": {},
   "source": [
    "A seismometer measures the motion of the ground, particularly seismic waves which may originate from earthquakes or volcanic eruptions.  Data often include both the magnitude and the direction of motion, although in our lab today we will only consider magnitude data for simplicity.  The resulting data may be recorded in the form of a *seismogram*, which reflects the simple motion of a needle against a roll of paper.\n",
    "\n",
    "<table><tr>\n",
    "<td>\n",
    "![](https://upload.wikimedia.org/wikipedia/commons/thumb/0/0f/Kinemetrics_seismograph.jpg/800px-Kinemetrics_seismograph.jpg)\n",
    "</td><td>\n",
    "![](https://tc1seismometer.files.wordpress.com/2012/07/20120204_200532_bsuz_psn.gif?w=2000&h=)\n",
    "</td></tr></table>\n",
    "\n",
    "We will use a generated set of data created using a random numbers technique you will recreate in the last part."
   ]
  },
  {
   "cell_type": "markdown",
   "metadata": {},
   "source": [
    "### Section A:\n",
    "-   In your matlab window, load the data set from the file `quakedata.txt` into a variable `seis` (for seismogram) called using [`importdata`](https://www.mathworks.com/help/matlab/ref/importdata.html), which automatically parses it into an array. You PROBABLY need to change your working directory to your desktop. The first row contains the time values in seconds, and the second row contains the displacement data from the seismometer.\n",
    "        \n",
    "        seis = importdata(???);  % load the array\n",
    "        disp( ??? );                  % output the dimensions of the array\n",
    "    \n",
    "    After you do this, you will see `seis` appear in the *Workspace* area at right.  `disp` is the MATLAB analogue of `print`, and `size` corresponds to `len`."
   ]
  },
  {
   "cell_type": "markdown",
   "metadata": {
    "nbgrader": {
     "grade": false,
     "grade_id": "seis-test",
     "locked": false,
     "points": 1,
     "solution": false
    }
   },
   "source": [
    "If you have loaded everything correctly, this set of tests should pass.  Copy and paste them into the *Command Window* to double-check (you may do this all as a block).\n",
    "\n",
    "    test_data = importdata( 'quakedata.txt' );  % load the array\n",
    "    test_size = size( test_data );\n",
    "    assert( test_size( 1 ) == 2,   'You do not have two rows.' )\n",
    "    assert( test_size( 2 ) == 350, 'You do not have 350 columns.' )\n",
    "    assert( isclose( seis( 400 ), 0.707633859307113 ), 'You do not appear to have loaded the data.' )\n",
    "    disp( 'All tests passed successfully.' )"
   ]
  },
  {
   "cell_type": "markdown",
   "metadata": {
    "collapsed": true
   },
   "source": [
    "### Section B:\n",
    "Let's see what these data represent as a pictorial seismogram.\n",
    "\n",
    "You should use the MATLAB [`plot`](https://www.mathworks.com/help/matlab/ref/plot.html) function.  The generic command looks like this:\n",
    "\n",
    "    plot(x_values, y_values, 'b-');\n",
    "\n",
    "\n",
    "-   Plot the second row of `seis` against the first.  Save the plot as `figure_1.png` your folder.  (You may right-click on the image and `Save image as...`.)\n",
    "        \n",
    "    Since you have to refer to the entire array, you'll have to specify the whole row in the indexing:\n",
    "        \n",
    "        plot(???);\n",
    "    \n",
    "    Pay attention to how MATLAB handles rows and columns, and transpose if necessary to plot what you intend."
   ]
  },
  {
   "cell_type": "markdown",
   "metadata": {},
   "source": [
    "## Copy and paste into matlab:\n",
    "### Part I, Section A:\n",
    "seis = importdata('quakedata.txt');  % load the array\n",
    "disp( size(seis) ); \n",
    "\n",
    "### Part I, Section B:\n",
    "plot(seis(1,:), seis(2,:));\n",
    "\n"
   ]
  },
  {
   "cell_type": "markdown",
   "metadata": {
    "collapsed": true
   },
   "source": [
    "### Part II. Earthquake Detection"
   ]
  },
  {
   "cell_type": "markdown",
   "metadata": {},
   "source": [
    "An earthquake event can be reconstructed from numerical data by looking at how big the oscillations are—that is, the *variance*.  (Our data set `seis` clearly contains zones where the variance is locally different.)  Mathematically, we prefer to use the square root of the variance, or the *standard deviation*, for convenience.  We define the standard deviation of the elements of a list $X$ as\n",
    "\n",
    "$$\n",
    "\\text{var}(X) = \\sqrt{\\text{avg}\\left( (X - \\bar{X})^2 \\right)}\n",
    "$$\n",
    "\n",
    "where $\\bar{X}$ is the average of the data set.  MATLAB conveniently provides a way to calculate the average value of a list of values:\n",
    "    \n",
    "    X = [ 0.57473 0.09365 0.20067 0.20592 ]  % define an array\n",
    "    disp( mean( X ) )\n",
    "\n",
    "MATLAB also supports direct calculation of the standard deviation (and several other statistical quantities):\n",
    "    \n",
    "    disp( std( X ) )\n",
    "\n",
    "Suppose that we have a set of seismograph magnitudes and we wish to detect events above a certain threshold.  Using these functions for the average and standard deviation, we can easily calculate the mean and standard deviation for an entire data set, but that doesn't really tell us what we want to know, which is *when* the earthquake threshold event occurred.\n",
    "\n",
    "![](./img/mean_stdev_all.png)\n",
    "\n",
    "It is better, in cases like this, to use a *moving-average* or *rolling* function, which calculates based on a small set of data from the entire data set.  A 2-point moving average of the $i$th term is the average of the $i-1$th and $i$th values in the original array.  For example, using array `[3 4 2 5 1]`, a 2-point moving average will look like `[NaN (3+4)/2 (4+2)/2 (2+5)/2 (5+1)/2]` $\\rightarrow$ `[NaN 3.5 3.0 3.5 3.0]`.  (`Nan` stands for *n*ot *a* *n*umber, a special data type used when you need the data to be a numeric data type but still not carry an actual value.)  More generally, the $n$-point moving average we will define uses the last $n$ data values to calculate an average.  For instance, a twenty-day rolling average (red solid line) of a data set (blue dotted line) would look like this:\n",
    "\n",
    "![](./img/mean_rolling.png)\n",
    "\n",
    "These are very useful for smoothing data sets which contain a lot of noise (the many ups and downs) which obscure the true trend (here it is the red solid line).  You often see them used in financial analyses or to filter electronic signals in electrical engineering.\n",
    "\n",
    "This data set has a fairly consistent standard deviation (after calculating using the standard deviation formula):\n",
    "\n",
    "![](./img/stdev_rolling.png)\n",
    "\n",
    "Together, the rolling mean and rolling standard deviation (red dotted line) can give us a pretty good picture of the statistical behavior of a data set:\n",
    "\n",
    "![](./img/all_rolling.png)"
   ]
  },
  {
   "cell_type": "markdown",
   "metadata": {},
   "source": [
    "-   Examine the function `rolling_mean` (in `rolling_mean.m`) which accepts an array called `data` containing a row of time values and a row of measurements (just like `seis`), and a window size `n`.  The function should return the resulting array of time values and the calculated rolling-window means.\n",
    "    \n",
    "    The file `rolling_mean.m`, is located in your present working directory (if you did Part I correctly, you should be inside the correct working directory).  Find it in the left-hand *Current Folder* pane and double-click it to open it.  MATLAB opens a text editor.  Run the provided code to perform the calculation.  You can test it in the *Command Window* that is  opened below the text editor panel.\n",
    "    \n",
    "    We introduce the notion here of a *stencil*—that is, how the values in an array or a grid relate to each other in a particular calculation.  For instance, to calculate the rolling mean with $n = 5$, you require the value at the current index (in red) and two array values behind and two ahead (in yellow):\n",
    "    \n",
    "    <img src=\"./img/stencil.png\" width=\"50%;\"/>\n",
    "    \n",
    "    Thus at the edges of the array, we will have undefined values (`Nan`s) since we can't calculate the five-point rolling mean with only three or four points."
   ]
  },
  {
   "cell_type": "markdown",
   "metadata": {
    "nbgrader": {
     "grade": false,
     "grade_id": "rolling_mean-test",
     "locked": false,
     "points": 2,
     "solution": false
    }
   },
   "source": [
    "If you have loaded everything correctly, this set of tests should pass.  Copy and paste them into the *Command Window* to double-check (you may do this all as a block).\n",
    "    \n",
    "    test_data = importdata( 'quakedata.txt' );  % load the array\n",
    "    test_means = rolling_mean( test_data,7 );  % calculate the rolling means\n",
    "    test_size = size( test_means );\n",
    "    assert( test_size(1) == 2,   'You do not have two rows.' )\n",
    "    assert( test_size(2) == 350, 'You do not have 350 columns.' )\n",
    "    assert(isclose( test_means( 2,100 ), 4.994080729574138 ), 'Your calculation is incorrect.' )\n",
    "    plot( seis( 1,: ),seis( 2,: ),'b-',test_means( 1,: ),test_means( 2,: ),'r-' )\n",
    "    disp( 'All tests passed successfully.' )"
   ]
  },
  {
   "cell_type": "markdown",
   "metadata": {},
   "source": [
    "### Section A:\n",
    "-   Compose a function `rolling_std` (in `rolling_std.m`) which accepts as parameters an array called `data` containing a row of time values and a row of measurements (just like `seis`), and a window size `n`.  The function should return the resulting array of time points and calculated rolling-window standard deviations.\n",
    "    \n",
    "    You will carry this out in the file `rolling_std.m`  Open it in a text editor and modify the code to perform the calculation."
   ]
  },
  {
   "cell_type": "markdown",
   "metadata": {
    "collapsed": true,
    "nbgrader": {
     "grade": false,
     "grade_id": "rolling_std-test",
     "locked": false,
     "points": 2,
     "solution": false
    }
   },
   "source": [
    "If you have loaded everything correctly, this set of tests should pass.  Copy and paste them into the *Command Window* to double-check (you may do this all as a block).\n",
    "    \n",
    "    test_data = importdata('quakedata.txt');  % load the array\n",
    "    test_stds = rolling_std(test_data, 7);    % calculate the rolling means\n",
    "    test_size = size(test_stds);\n",
    "    assert(test_size(1) == 2,   'You do not have two rows.')\n",
    "    assert(test_size(2) == 350, 'You do not have 350 columns.')\n",
    "    assert(isclose(test_stds(2,100), 7.983935137385763), 'Your calculation is incorrect.')\n",
    "    plot(seis(1,:),seis(2,:),'b-',test_stds(1,:),test_stds(2,:),'r--')\n",
    "    disp('All tests passed successfully.')"
   ]
  },
  {
   "cell_type": "markdown",
   "metadata": {},
   "source": [
    "With `rolling_std` in tow, it should be straightforward to identify threshold events (earthquakes or smaller tremors) against a low-noise background.\n",
    "\n",
    "Examine the data to determine the first point (index) at which the standard deviation exceeds 5.0.  We will designate points like these as the *beginnings* of events.  (There's nothing magical about the value 5.0; it's just much larger than the standard deviation of the preceding run of values.)"
   ]
  },
  {
   "cell_type": "markdown",
   "metadata": {},
   "source": [
    "Let's make an attractive plot with earthquake and aftershock data clearly highlighted.  MATLAB can filter the data by value, meaning that we can select highly-variable data from a lower-variability background and plot them separately.\n",
    "    \n",
    "    rm = rolling_mean(seis, 5)\n",
    "    rs = rolling_std(seis, 5)\n",
    "    \n",
    "    plot(seis(1,:), seis(2,:),       'b-', ...\n",
    "         rs(1,:),   rm(2,:),         'r-', ...\n",
    "         rs(1,:),   rm(2,:)-rs(2,:), 'r--', ...\n",
    "         rs(1,:),   rm(2,:)+rs(2,:), 'r--')\n",
    "    \n",
    "    title('Earthquake Seismogram Data')\n",
    "    ylabel('Data and Rolling Mean')\n",
    "    xlabel('time (s)')"
   ]
  },
  {
   "cell_type": "markdown",
   "metadata": {},
   "source": [
    "-   Save the plot generated by the foregoing code as `figure_2.png`."
   ]
  },
  {
   "cell_type": "markdown",
   "metadata": {},
   "source": [
    "## Copy and paste into your matlab code:\n",
    "### Part II, Section A:\n",
    "    \n",
    "    % YOU WRITE THIS CODE\n",
    "    % It should be a straightforward modification of `rolling_mean`, using\n",
    "    % the MATLAB standard deviation function.  To find this, use the `f_x`\n",
    "    % button at the left of the prompt in the Command Window in MATLAB.\n",
    "    % get range \"stencil\"---how far forward and back to include values\n",
    "    \n",
    "    #################### %%HERE\n",
    "    rng = floor(n/2);\n",
    "    \n",
    "    % calculate the rolling mean\n",
    "    means = zeros(size(data));\n",
    "    means(1,:) = data(1,:);  % copy the x-values which is the time values\n",
    "    for i = 1:size(data,2)  % loop over all values in the array\n",
    "        % If the stencil doesn't apply, then set the value to NaN.\n",
    "        if i < rng+1 || i > (size(data,2)-rng)\n",
    "            means(2,i) = NaN;\n",
    "            continue;\n",
    "        end\n",
    "        \n",
    "        means(2,i) = std(data(2,(i-rng):(i+rng)));\n",
    "    end   \n",
    "    ###################### %%%To here\n",
    "\n",
    "\n"
   ]
  },
  {
   "cell_type": "markdown",
   "metadata": {},
   "source": [
    "Finally, we can use features of seismogram data to calculate (for instance) how far away the earthquake is.  There is typically a lapse between the primary waves (P), the secondary waves (S) and the surface waves<sup>[[RochaND](http://academic.brooklyn.cuny.edu/geology/grocha/plates/platetec19.htm)]</sup>.  The time lapse between P and S tells us how far away the earthquake occurred (given certain assumptions and observations about the interior of the earth), and the combination of several seismograms from different locations tells us the magnitude and location<sup>[[RochaND](http://academic.brooklyn.cuny.edu/geology/grocha/plates/platetec20.htm)]</sup>.  That process is fairly involved, so you should simply calculate the S–P time interval from the change in rolling variance.\n",
    "\n",
    "![](./img/earthquake_data.png)\n",
    "\n",
    "At what point (in your data) does the standard deviation first exceed 5.0?  This is point P.  The next time it falls to a small value for a while and then jumps back up above 5.0 represents point S.  This lapse is the value you should use for the S–P interval."
   ]
  },
  {
   "cell_type": "markdown",
   "metadata": {},
   "source": [
    "Section B\n",
    "What is the distance of the earthquake in miles?  To obtain this value, simply multiply the S–P interval in seconds by 5.7.  (This is a gross oversimplification generally, but is adequate for the current problem.<sup>[[TongND](http://www.oakton.edu/user/4/billtong/eas100lab/lab10quake.htm)]</sup>)\n",
    "\n",
    "-   Compose a function `distance` which accepts as parameters an array called `data` containing a row of time values and a row of measurements (just like `seis`).  The function should return the calculated distance in miles.\n",
    "    \n",
    "    You will carry this out in the file `distance.m`, which is located in your directory."
   ]
  },
  {
   "cell_type": "markdown",
   "metadata": {
    "collapsed": true,
    "nbgrader": {
     "grade": false,
     "grade_id": "distance-test",
     "locked": false,
     "points": 1,
     "solution": false
    }
   },
   "source": [
    "If you have loaded everything correctly, this set of tests should pass.  Copy and paste them into the *Command Window* to double-check (you may do this all as a block).\n",
    "    \n",
    "    test_data = importdata('quakedata.txt');  % load the array\n",
    "    test_dist = distance(test_data)\n",
    "    assert(isclose(test_dist, 598.5), 'Your calculation is incorrect.')\n",
    "    disp('All tests passed successfully.')"
   ]
  },
  {
   "cell_type": "markdown",
   "metadata": {},
   "source": [
    "## Copy and paste into matlab:\n",
    "### Part II, Section B:\n",
    "function [ dist ] = distance( data )\n",
    "    % calculate the rolling-window standard deviations\n",
    "    % YOU WRITE THIS CODE\n",
    "    % store the result of the five-point rolling standard deviation in\n",
    "    % the array `stds`\n",
    "    \n",
    "    ########## %%here\n",
    "    stds = rolling_std(data, 5)\n",
    "    ########## %%to here\n",
    "    \n",
    "    % find the point P\n",
    "    threshold_values = stds(2,:)>5;  % you should look at the form of std>5\n",
    "    P = find(threshold_values,1);\n",
    "    \n",
    "    % find the point S\n",
    "    % by visual inspection, the plot goes to zero between indexes 120 to\n",
    "    % 150, so use 150 as the starting point to search forward for S\n",
    "    S = find(threshold_values(150:end),1) + 149;\n",
    "    \n",
    "    % calculate the difference between P and S (in seconds)\n",
    "    % YOU WRITE THIS CODE\n",
    "    ############ %% here\n",
    "    t = S - P;\n",
    "    ############ %%to here\n",
    "    \n",
    "    % calculate the distance using the formula\n",
    "    ########################### here\n",
    "    dist = t * 5.7;% YOU WRITE THIS CODE\n",
    "    ########################### to here\n",
    "end\n",
    "\n"
   ]
  },
  {
   "cell_type": "markdown",
   "metadata": {},
   "source": [
    "###  Part III Making Your Own Earthquake (Data)"
   ]
  },
  {
   "cell_type": "markdown",
   "metadata": {},
   "source": [
    "Let's compose a function to generate a data set like that above.  While not as exciting as a real earthquake, it's a lot cleaner of a data set to work with.\n",
    "\n",
    "We will use a random number generator to generate a list of numbers with a specific standard deviation.  Given a number of times and a standard deviation, we want to create a list of random \"measurements\" which represent the earth's motion during that time.\n",
    "\n",
    "We'll make the function more general than this though:  it will accept a list of time lengths and a list of corresponding standard deviations.  This way we can make longer time series of measurements like that used as `seis`."
   ]
  },
  {
   "cell_type": "markdown",
   "metadata": {},
   "source": [
    "-   Compose a function `quake` which accepts as parameters a list of time lengths `spans` and a list of corresponding standard deviations `stds`.  The function should return an array of random earthquake data as a row of time points and a row of generated measurements.  (Details are included in the file `quake.m`.)\n",
    "    \n",
    "    You will carry this out in the file `quake.m` which is located in your directory."
   ]
  },
  {
   "cell_type": "markdown",
   "metadata": {
    "collapsed": true,
    "nbgrader": {
     "grade": false,
     "grade_id": "quake-test",
     "locked": false,
     "points": 2,
     "solution": false
    }
   },
   "source": [
    "If you have loaded everything correctly, this set of tests should pass.  Copy and paste them into the *Command Window* to double-check (you may do this all as a block).\n",
    "\n",
    "    % Your code should pass these tests.  Do not edit this cell.\n",
    "    spans = [60 20 40 45 20 10 40 25 10 10 10 60];\n",
    "    stds  = [ 1 20 10  1 15  5  1 60 20 10  1  1];\n",
    "    quakedata = quake(spans,stds);\n",
    "\n",
    "    % the sum of spans should equal the final length\n",
    "    assert(size(quakedata,2) == sum(spans),      'Your data set is the wrong size.');\n",
    "    test_max = max(quakedata,[],2);\n",
    "    assert(test_max(2) < sum(abs(quakedata(2,:))), 'Something appears to be wrong with your data.');\n",
    "    disp('All tests passed successfully.')\n",
    "\n",
    "    plot(quakedata(1,:), quakedata(2,:), 'b-');"
   ]
  },
  {
   "cell_type": "markdown",
   "metadata": {},
   "source": [
    "## Copy and paste into matlab:\n",
    "### Part III:\n",
    "\n",
    "function [ data ] = quake( spans, stds )\n",
    "    % expand spans and stds into an array of standard deviations\n",
    "    stdev = [];\n",
    "    for i = 1:size(spans,2)\n",
    "        new_array = ones(1,spans(i)) * stds(i);\n",
    "        stdev = cat(2, stdev, new_array);\n",
    "    end\n",
    "    \n",
    "    % generate random data by specified standard deviations\n",
    "    data = zeros(2, sum(spans));\n",
    "\n",
    "    % set the first row to the range, [1 2 3 ... sum(spans)] using MATLAB\n",
    "    \n",
    "    ############## here\n",
    "    data(1,:) = [1:sum(spams)]%YOU WRITE THIS CODE\n",
    "    ############## to here\n",
    "    \n",
    "    for j = 1:size(data,2)\n",
    "        data(2,j) = stdev(j) * randn();\n",
    "    end\n",
    "end\n",
    "\n"
   ]
  },
  {
   "cell_type": "markdown",
   "metadata": {},
   "source": [
    "# Before you submit..."
   ]
  },
  {
   "cell_type": "markdown",
   "metadata": {},
   "source": [
    "### Submission (10 points)\n",
    "\n",
    "Email the three pictures to your TAs and upload your LAST picture to RELATE.  Remember to write your name and student-ID."
   ]
  }
 ],
 "metadata": {
  "anaconda-cloud": {},
  "kernelspec": {
   "display_name": "Python 3",
   "language": "python",
   "name": "python3"
  },
  "language_info": {
   "codemirror_mode": {
    "name": "ipython",
    "version": 3
   },
   "file_extension": ".py",
   "mimetype": "text/x-python",
   "name": "python",
   "nbconvert_exporter": "python",
   "pygments_lexer": "ipython3",
   "version": "3.6.5"
  }
 },
 "nbformat": 4,
 "nbformat_minor": 1
}
